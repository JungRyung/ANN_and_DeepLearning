{
  "nbformat": 4,
  "nbformat_minor": 0,
  "metadata": {
    "kernelspec": {
      "display_name": "Python 3",
      "language": "python",
      "name": "python3"
    },
    "language_info": {
      "codemirror_mode": {
        "name": "ipython",
        "version": 3
      },
      "file_extension": ".py",
      "mimetype": "text/x-python",
      "name": "python",
      "nbconvert_exporter": "python",
      "pygments_lexer": "ipython3",
      "version": "3.7.9"
    },
    "colab": {
      "name": "ch11_training_deep_neural_networks.ipynb",
      "provenance": []
    },
    "accelerator": "GPU"
  },
  "cells": [
    {
      "cell_type": "markdown",
      "metadata": {
        "id": "xbS7mqM9tv7B"
      },
      "source": [
        "**11장 – 심층 신경망 훈련하기**"
      ]
    },
    {
      "cell_type": "markdown",
      "metadata": {
        "id": "oHsUirtWtv7C"
      },
      "source": [
        "# 설정"
      ]
    },
    {
      "cell_type": "code",
      "metadata": {
        "id": "2YR77clJtv7C"
      },
      "source": [
        "# 파이썬 ≥3.5 필수\n",
        "import sys\n",
        "assert sys.version_info >= (3, 5)\n",
        "\n",
        "# 사이킷런 ≥0.20 필수\n",
        "import sklearn\n",
        "assert sklearn.__version__ >= \"0.20\"\n",
        "\n",
        "# 텐서플로 ≥2.0 필수\n",
        "import tensorflow as tf\n",
        "from tensorflow import keras\n",
        "assert tf.__version__ >= \"2.0\"\n",
        "\n",
        "%load_ext tensorboard\n",
        "\n",
        "# 공통 모듈 임포트\n",
        "import numpy as np\n",
        "import os\n",
        "\n",
        "# 노트북 실행 결과를 동일하게 유지하기 위해\n",
        "np.random.seed(42)\n",
        "\n",
        "# 깔끔한 그래프 출력을 위해\n",
        "%matplotlib inline\n",
        "import matplotlib as mpl\n",
        "import matplotlib.pyplot as plt\n",
        "mpl.rc('axes', labelsize=14)\n",
        "mpl.rc('xtick', labelsize=12)\n",
        "mpl.rc('ytick', labelsize=12)\n",
        "\n",
        "# 그림을 저장할 위치\n",
        "PROJECT_ROOT_DIR = \".\"\n",
        "CHAPTER_ID = \"deep\"\n",
        "IMAGES_PATH = os.path.join(PROJECT_ROOT_DIR, \"images\", CHAPTER_ID)\n",
        "os.makedirs(IMAGES_PATH, exist_ok=True)\n",
        "\n",
        "def save_fig(fig_id, tight_layout=True, fig_extension=\"png\", resolution=300):\n",
        "    path = os.path.join(IMAGES_PATH, fig_id + \".\" + fig_extension)\n",
        "    print(\"그림 저장:\", fig_id)\n",
        "    if tight_layout:\n",
        "        plt.tight_layout()\n",
        "    plt.savefig(path, format=fig_extension, dpi=resolution)"
      ],
      "execution_count": 1,
      "outputs": []
    },
    {
      "cell_type": "markdown",
      "metadata": {
        "id": "66P-mmPOtv7D"
      },
      "source": [
        "# 그레이디언트 소실과 폭주 문제"
      ]
    },
    {
      "cell_type": "code",
      "metadata": {
        "id": "fzh-v0HAtv7D"
      },
      "source": [
        "def logit(z):\n",
        "    return 1 / (1 + np.exp(-z))"
      ],
      "execution_count": 2,
      "outputs": []
    },
    {
      "cell_type": "code",
      "metadata": {
        "id": "krmkKoSXtv7D",
        "colab": {
          "base_uri": "https://localhost:8080/",
          "height": 315
        },
        "outputId": "e2536ddb-71d2-4718-ba5a-3eaedb32639d"
      },
      "source": [
        "z = np.linspace(-5, 5, 200)\n",
        "\n",
        "plt.plot([-5, 5], [0, 0], 'k-')\n",
        "plt.plot([-5, 5], [1, 1], 'k--')\n",
        "plt.plot([0, 0], [-0.2, 1.2], 'k-')\n",
        "plt.plot([-5, 5], [-3/4, 7/4], 'g--')\n",
        "plt.plot(z, logit(z), \"b-\", linewidth=2)\n",
        "props = dict(facecolor='black', shrink=0.1)\n",
        "plt.annotate('Saturating', xytext=(3.5, 0.7), xy=(5, 1), arrowprops=props, fontsize=14, ha=\"center\")\n",
        "plt.annotate('Saturating', xytext=(-3.5, 0.3), xy=(-5, 0), arrowprops=props, fontsize=14, ha=\"center\")\n",
        "plt.annotate('Linear', xytext=(2, 0.2), xy=(0, 0.5), arrowprops=props, fontsize=14, ha=\"center\")\n",
        "plt.grid(True)\n",
        "plt.title(\"Sigmoid activation function\", fontsize=14)\n",
        "plt.axis([-5, 5, -0.2, 1.2])\n",
        "\n",
        "save_fig(\"sigmoid_saturation_plot\")\n",
        "plt.show()"
      ],
      "execution_count": 3,
      "outputs": [
        {
          "output_type": "stream",
          "text": [
            "그림 저장: sigmoid_saturation_plot\n"
          ],
          "name": "stdout"
        },
        {
          "output_type": "display_data",
          "data": {
            "image/png": "[encoded data removed]",
            "text/plain": [
              "<Figure size 432x288 with 1 Axes>"
            ]
          },
          "metadata": {
            "tags": [],
            "needs_background": "light"
          }
        }
      ]
    },
    {
      "cell_type": "markdown",
      "metadata": {
        "id": "x_U4_Momtv7E"
      },
      "source": [
        "## Xavier 초기화와 He 초기화"
      ]
    },
    {
      "cell_type": "code",
      "metadata": {
        "id": "GTm9Ltsotv7E",
        "colab": {
          "base_uri": "https://localhost:8080/"
        },
        "outputId": "865d6f8c-a8b1-4dec-db21-dda8e826bb3c"
      },
      "source": [
        "[name for name in dir(keras.initializers) if not name.startswith(\"_\")]"
      ],
      "execution_count": 4,
      "outputs": [
        {
          "output_type": "execute_result",
          "data": {
            "text/plain": [
              "['Constant',\n",
              " 'GlorotNormal',\n",
              " 'GlorotUniform',\n",
              " 'HeNormal',\n",
              " 'HeUniform',\n",
              " 'Identity',\n",
              " 'Initializer',\n",
              " 'LecunNormal',\n",
              " 'LecunUniform',\n",
              " 'Ones',\n",
              " 'Orthogonal',\n",
              " 'RandomNormal',\n",
              " 'RandomUniform',\n",
              " 'TruncatedNormal',\n",
              " 'VarianceScaling',\n",
              " 'Zeros',\n",
              " 'constant',\n",
              " 'deserialize',\n",
              " 'get',\n",
              " 'glorot_normal',\n",
              " 'glorot_uniform',\n",
              " 'he_normal',\n",
              " 'he_uniform',\n",
              " 'identity',\n",
              " 'lecun_normal',\n",
              " 'lecun_uniform',\n",
              " 'ones',\n",
              " 'orthogonal',\n",
              " 'random_normal',\n",
              " 'random_uniform',\n",
              " 'serialize',\n",
              " 'truncated_normal',\n",
              " 'variance_scaling',\n",
              " 'zeros']"
            ]
          },
          "metadata": {
            "tags": []
          },
          "execution_count": 4
        }
      ]
    },
    {
      "cell_type": "code",
      "metadata": {
        "id": "7YZu6KCQtv7E",
        "colab": {
          "base_uri": "https://localhost:8080/"
        },
        "outputId": "dc2eabf0-8b4d-4973-e778-9c6c8bbec514"
      },
      "source": [
        "keras.layers.Dense(10, activation=\"relu\", kernel_initializer=\"he_normal\")"
      ],
      "execution_count": 5,
      "outputs": [
        {
          "output_type": "execute_result",
          "data": {
            "text/plain": [
              "<tensorflow.python.keras.layers.core.Dense at 0x7f904e5b6d10>"
            ]
          },
          "metadata": {
            "tags": []
          },
          "execution_count": 5
        }
      ]
    },
    {
      "cell_type": "code",
      "metadata": {
        "id": "lkLWEnWOtv7E",
        "colab": {
          "base_uri": "https://localhost:8080/"
        },
        "outputId": "da6faa54-6086-4969-cb8c-56787fd2b1e2"
      },
      "source": [
        "init = keras.initializers.VarianceScaling(scale=2., mode='fan_avg',\n",
        "                                          distribution='uniform')\n",
        "keras.layers.Dense(10, activation=\"relu\", kernel_initializer=init)"
      ],
      "execution_count": 6,
      "outputs": [
        {
          "output_type": "execute_result",
          "data": {
            "text/plain": [
              "<tensorflow.python.keras.layers.core.Dense at 0x7f9014030550>"
            ]
          },
          "metadata": {
            "tags": []
          },
          "execution_count": 6
        }
      ]
    },
    {
      "cell_type": "markdown",
      "metadata": {
        "id": "7P_Q5Sjatv7E"
      },
      "source": [
        "## 수렴하지 않는 활성화 함수"
      ]
    },
    {
      "cell_type": "markdown",
      "metadata": {
        "id": "8BsDwIewtv7E"
      },
      "source": [
        "### LeakyReLU"
      ]
    },
    {
      "cell_type": "code",
      "metadata": {
        "id": "8oxqH0-0tv7E"
      },
      "source": [
        "def leaky_relu(z, alpha=0.01):\n",
        "    return np.maximum(alpha*z, z)"
      ],
      "execution_count": 7,
      "outputs": []
    },
    {
      "cell_type": "code",
      "metadata": {
        "id": "OycZS8zVtv7E",
        "colab": {
          "base_uri": "https://localhost:8080/",
          "height": 315
        },
        "outputId": "3cb03921-6f05-45db-d8b9-8800656b64ab"
      },
      "source": [
        "plt.plot(z, leaky_relu(z, 0.05), \"b-\", linewidth=2)\n",
        "plt.plot([-5, 5], [0, 0], 'k-')\n",
        "plt.plot([0, 0], [-0.5, 4.2], 'k-')\n",
        "plt.grid(True)\n",
        "props = dict(facecolor='black', shrink=0.1)\n",
        "plt.annotate('Leak', xytext=(-3.5, 0.5), xy=(-5, -0.2), arrowprops=props, fontsize=14, ha=\"center\")\n",
        "plt.title(\"Leaky ReLU activation function\", fontsize=14)\n",
        "plt.axis([-5, 5, -0.5, 4.2])\n",
        "\n",
        "save_fig(\"leaky_relu_plot\")\n",
        "plt.show()"
      ],
      "execution_count": 8,
      "outputs": [
        {
          "output_type": "stream",
          "text": [
            "그림 저장: leaky_relu_plot\n"
          ],
          "name": "stdout"
        },
        {
          "output_type": "display_data",
          "data": {
            "image/png": "[encoded data removed]",
            "text/plain": [
              "<Figure size 432x288 with 1 Axes>"
            ]
          },
          "metadata": {
            "tags": [],
            "needs_background": "light"
          }
        }
      ]
    },
    {
      "cell_type": "code",
      "metadata": {
        "id": "hoRCe12Itv7E",
        "colab": {
          "base_uri": "https://localhost:8080/"
        },
        "outputId": "a3e93283-b27c-4360-82ee-9e9ba0dd7fd4"
      },
      "source": [
        "[m for m in dir(keras.activations) if not m.startswith(\"_\")]"
      ],
      "execution_count": 9,
      "outputs": [
        {
          "output_type": "execute_result",
          "data": {
            "text/plain": [
              "['deserialize',\n",
              " 'elu',\n",
              " 'exponential',\n",
              " 'gelu',\n",
              " 'get',\n",
              " 'hard_sigmoid',\n",
              " 'linear',\n",
              " 'relu',\n",
              " 'selu',\n",
              " 'serialize',\n",
              " 'sigmoid',\n",
              " 'softmax',\n",
              " 'softplus',\n",
              " 'softsign',\n",
              " 'swish',\n",
              " 'tanh']"
            ]
          },
          "metadata": {
            "tags": []
          },
          "execution_count": 9
        }
      ]
    },
    {
      "cell_type": "code",
      "metadata": {
        "id": "htwZ5G4Ztv7E",
        "colab": {
          "base_uri": "https://localhost:8080/"
        },
        "outputId": "cc3b2279-2ba9-4008-fc89-f4b06036f01f"
      },
      "source": [
        "[m for m in dir(keras.layers) if \"relu\" in m.lower()]"
      ],
      "execution_count": 10,
      "outputs": [
        {
          "output_type": "execute_result",
          "data": {
            "text/plain": [
              "['LeakyReLU', 'PReLU', 'ReLU', 'ThresholdedReLU']"
            ]
          },
          "metadata": {
            "tags": []
          },
          "execution_count": 10
        }
      ]
    },
    {
      "cell_type": "markdown",
      "metadata": {
        "id": "3-w4yK7ttv7F"
      },
      "source": [
        "LeakyReLU를 사용해 패션 MNIST에서 신경망을 훈련:"
      ]
    },
    {
      "cell_type": "code",
      "metadata": {
        "id": "fe5-qgVTtv7F",
        "colab": {
          "base_uri": "https://localhost:8080/"
        },
        "outputId": "36fcd5cf-ac5a-4373-f60f-806dbdcf83bd"
      },
      "source": [
        "(X_train_full, y_train_full), (X_test, y_test) = keras.datasets.fashion_mnist.load_data()\n",
        "X_train_full = X_train_full / 255.0\n",
        "X_test = X_test / 255.0\n",
        "X_valid, X_train = X_train_full[:5000], X_train_full[5000:]\n",
        "y_valid, y_train = y_train_full[:5000], y_train_full[5000:]"
      ],
      "execution_count": 11,
      "outputs": [
        {
          "output_type": "stream",
          "text": [
            "Downloading data from https://storage.googleapis.com/tensorflow/tf-keras-datasets/train-labels-idx1-ubyte.gz\n",
            "32768/29515 [=================================] - 0s 0us/step\n",
            "Downloading data from https://storage.googleapis.com/tensorflow/tf-keras-datasets/train-images-idx3-ubyte.gz\n",
            "26427392/26421880 [==============================] - 0s 0us/step\n",
            "Downloading data from https://storage.googleapis.com/tensorflow/tf-keras-datasets/t10k-labels-idx1-ubyte.gz\n",
            "8192/5148 [===============================================] - 0s 0us/step\n",
            "Downloading data from https://storage.googleapis.com/tensorflow/tf-keras-datasets/t10k-images-idx3-ubyte.gz\n",
            "4423680/4422102 [==============================] - 0s 0us/step\n"
          ],
          "name": "stdout"
        }
      ]
    },
    {
      "cell_type": "code",
      "metadata": {
        "id": "cTdLwXRytv7F"
      },
      "source": [
        "tf.random.set_seed(42)\n",
        "np.random.seed(42)\n",
        "\n",
        "model = keras.models.Sequential([\n",
        "    keras.layers.Flatten(input_shape=[28, 28]),\n",
        "    keras.layers.Dense(300, kernel_initializer=\"he_normal\"),\n",
        "    keras.layers.LeakyReLU(),\n",
        "    keras.layers.Dense(100, kernel_initializer=\"he_normal\"),\n",
        "    keras.layers.LeakyReLU(),\n",
        "    keras.layers.Dense(10, activation=\"softmax\")\n",
        "])"
      ],
      "execution_count": 12,
      "outputs": []
    },
    {
      "cell_type": "code",
      "metadata": {
        "id": "zMJ_FDFotv7F"
      },
      "source": [
        "model.compile(loss=\"sparse_categorical_crossentropy\",\n",
        "              optimizer=keras.optimizers.SGD(lr=1e-3),\n",
        "              metrics=[\"accuracy\"])"
      ],
      "execution_count": 13,
      "outputs": []
    },
    {
      "cell_type": "code",
      "metadata": {
        "id": "QZNys9cgtv7F",
        "colab": {
          "base_uri": "https://localhost:8080/"
        },
        "outputId": "d3bad018-f324-4565-dd3d-a22770ad03f7"
      },
      "source": [
        "history = model.fit(X_train, y_train, epochs=10,\n",
        "                    validation_data=(X_valid, y_valid))"
      ],
      "execution_count": 14,
      "outputs": [
        {
          "output_type": "stream",
          "text": [
            "Epoch 1/10\n",
            "1719/1719 [==============================] - 6s 2ms/step - loss: 1.6314 - accuracy: 0.5054 - val_loss: 0.8886 - val_accuracy: 0.7160\n",
            "Epoch 2/10\n",
            "1719/1719 [==============================] - 3s 2ms/step - loss: 0.8416 - accuracy: 0.7247 - val_loss: 0.7130 - val_accuracy: 0.7656\n",
            "Epoch 3/10\n",
            "1719/1719 [==============================] - 3s 2ms/step - loss: 0.7053 - accuracy: 0.7637 - val_loss: 0.6427 - val_accuracy: 0.7898\n",
            "Epoch 4/10\n",
            "1719/1719 [==============================] - 3s 2ms/step - loss: 0.6325 - accuracy: 0.7908 - val_loss: 0.5900 - val_accuracy: 0.8066\n",
            "Epoch 5/10\n",
            "1719/1719 [==============================] - 4s 2ms/step - loss: 0.5992 - accuracy: 0.8021 - val_loss: 0.5582 - val_accuracy: 0.8198\n",
            "Epoch 6/10\n",
            "1719/1719 [==============================] - 3s 2ms/step - loss: 0.5624 - accuracy: 0.8142 - val_loss: 0.5350 - val_accuracy: 0.8238\n",
            "Epoch 7/10\n",
            "1719/1719 [==============================] - 4s 2ms/step - loss: 0.5379 - accuracy: 0.8218 - val_loss: 0.5156 - val_accuracy: 0.8304\n",
            "Epoch 8/10\n",
            "1719/1719 [==============================] - 3s 2ms/step - loss: 0.5152 - accuracy: 0.8297 - val_loss: 0.5079 - val_accuracy: 0.8284\n",
            "Epoch 9/10\n",
            "1719/1719 [==============================] - 3s 2ms/step - loss: 0.5100 - accuracy: 0.8269 - val_loss: 0.4895 - val_accuracy: 0.8386\n",
            "Epoch 10/10\n",
            "1719/1719 [==============================] - 3s 2ms/step - loss: 0.4918 - accuracy: 0.8338 - val_loss: 0.4816 - val_accuracy: 0.8396\n"
          ],
          "name": "stdout"
        }
      ]
    },
    {
      "cell_type": "markdown",
      "metadata": {
        "id": "OO_DTxWftv7F"
      },
      "source": [
        "PReLU를 테스트:"
      ]
    },
    {
      "cell_type": "code",
      "metadata": {
        "id": "3u-MnG8ytv7F"
      },
      "source": [
        "tf.random.set_seed(42)\n",
        "np.random.seed(42)\n",
        "\n",
        "model = keras.models.Sequential([\n",
        "    keras.layers.Flatten(input_shape=[28, 28]),\n",
        "    keras.layers.Dense(300, kernel_initializer=\"he_normal\"),\n",
        "    keras.layers.PReLU(),\n",
        "    keras.layers.Dense(100, kernel_initializer=\"he_normal\"),\n",
        "    keras.layers.PReLU(),\n",
        "    keras.layers.Dense(10, activation=\"softmax\")\n",
        "])"
      ],
      "execution_count": 15,
      "outputs": []
    },
    {
      "cell_type": "code",
      "metadata": {
        "id": "PTYJBeWPtv7F"
      },
      "source": [
        "model.compile(loss=\"sparse_categorical_crossentropy\",\n",
        "              optimizer=keras.optimizers.SGD(lr=1e-3),\n",
        "              metrics=[\"accuracy\"])"
      ],
      "execution_count": 16,
      "outputs": []
    },
    {
      "cell_type": "code",
      "metadata": {
        "id": "WneSWoDUtv7F",
        "colab": {
          "base_uri": "https://localhost:8080/"
        },
        "outputId": "38d93be2-4b58-4974-befd-afb6a77fbfe9"
      },
      "source": [
        "history = model.fit(X_train, y_train, epochs=10,\n",
        "                    validation_data=(X_valid, y_valid))"
      ],
      "execution_count": 17,
      "outputs": [
        {
          "output_type": "stream",
          "text": [
            "Epoch 1/10\n",
            "1719/1719 [==============================] - 4s 2ms/step - loss: 1.6969 - accuracy: 0.4974 - val_loss: 0.9255 - val_accuracy: 0.7186\n",
            "Epoch 2/10\n",
            "1719/1719 [==============================] - 4s 2ms/step - loss: 0.8706 - accuracy: 0.7247 - val_loss: 0.7305 - val_accuracy: 0.7630\n",
            "Epoch 3/10\n",
            "1719/1719 [==============================] - 4s 2ms/step - loss: 0.7211 - accuracy: 0.7621 - val_loss: 0.6564 - val_accuracy: 0.7882\n",
            "Epoch 4/10\n",
            "1719/1719 [==============================] - 4s 2ms/step - loss: 0.6447 - accuracy: 0.7879 - val_loss: 0.6003 - val_accuracy: 0.8048\n",
            "Epoch 5/10\n",
            "1719/1719 [==============================] - 4s 2ms/step - loss: 0.6077 - accuracy: 0.8004 - val_loss: 0.5656 - val_accuracy: 0.8182\n",
            "Epoch 6/10\n",
            "1719/1719 [==============================] - 4s 2ms/step - loss: 0.5692 - accuracy: 0.8118 - val_loss: 0.5406 - val_accuracy: 0.8236\n",
            "Epoch 7/10\n",
            "1719/1719 [==============================] - 4s 2ms/step - loss: 0.5427 - accuracy: 0.8193 - val_loss: 0.5195 - val_accuracy: 0.8310\n",
            "Epoch 8/10\n",
            "1719/1719 [==============================] - 4s 2ms/step - loss: 0.5193 - accuracy: 0.8283 - val_loss: 0.5113 - val_accuracy: 0.8318\n",
            "Epoch 9/10\n",
            "1719/1719 [==============================] - 4s 2ms/step - loss: 0.5128 - accuracy: 0.8273 - val_loss: 0.4916 - val_accuracy: 0.8378\n",
            "Epoch 10/10\n",
            "1719/1719 [==============================] - 4s 2ms/step - loss: 0.4940 - accuracy: 0.8313 - val_loss: 0.4826 - val_accuracy: 0.8394\n"
          ],
          "name": "stdout"
        }
      ]
    },
    {
      "cell_type": "markdown",
      "metadata": {
        "id": "IOtQczcUtv7F"
      },
      "source": [
        "### ELU"
      ]
    },
    {
      "cell_type": "code",
      "metadata": {
        "id": "M8QphyWEtv7F"
      },
      "source": [
        "def elu(z, alpha=1):\n",
        "    return np.where(z < 0, alpha * (np.exp(z) - 1), z)"
      ],
      "execution_count": 18,
      "outputs": []
    },
    {
      "cell_type": "code",
      "metadata": {
        "id": "Vs_rXK79tv7F",
        "colab": {
          "base_uri": "https://localhost:8080/",
          "height": 315
        },
        "outputId": "3c2c1d1a-4c99-46b1-c599-3e1e4cbe7726"
      },
      "source": [
        "plt.plot(z, elu(z), \"b-\", linewidth=2)\n",
        "plt.plot([-5, 5], [0, 0], 'k-')\n",
        "plt.plot([-5, 5], [-1, -1], 'k--')\n",
        "plt.plot([0, 0], [-2.2, 3.2], 'k-')\n",
        "plt.grid(True)\n",
        "plt.title(r\"ELU activation function ($\\alpha=1$)\", fontsize=14)\n",
        "plt.axis([-5, 5, -2.2, 3.2])\n",
        "\n",
        "save_fig(\"elu_plot\")\n",
        "plt.show()"
      ],
      "execution_count": 19,
      "outputs": [
        {
          "output_type": "stream",
          "text": [
            "그림 저장: elu_plot\n"
          ],
          "name": "stdout"
        },
        {
          "output_type": "display_data",
          "data": {
            "image/png": "[encoded data removed]",
            "text/plain": [
              "<Figure size 432x288 with 1 Axes>"
            ]
          },
          "metadata": {
            "tags": [],
            "needs_background": "light"
          }
        }
      ]
    },
    {
      "cell_type": "markdown",
      "metadata": {
        "id": "d1HZUj9otv7F"
      },
      "source": [
        "텐서플로에서 쉽게 ELU를 적용할 수 있다. 층을 만들 때 활성화 함수로 지정하면 됨:"
      ]
    },
    {
      "cell_type": "code",
      "metadata": {
        "id": "_cqe7j4Etv7F",
        "colab": {
          "base_uri": "https://localhost:8080/"
        },
        "outputId": "6879f516-4ee7-4ef1-a827-f8a7b6d737c2"
      },
      "source": [
        "keras.layers.Dense(10, activation=\"elu\")"
      ],
      "execution_count": 20,
      "outputs": [
        {
          "output_type": "execute_result",
          "data": {
            "text/plain": [
              "<tensorflow.python.keras.layers.core.Dense at 0x7f8faa772bd0>"
            ]
          },
          "metadata": {
            "tags": []
          },
          "execution_count": 20
        }
      ]
    },
    {
      "cell_type": "markdown",
      "metadata": {
        "id": "-PcfNxOqtv7F"
      },
      "source": [
        "### SELU"
      ]
    },
    {
      "cell_type": "markdown",
      "metadata": {
        "id": "f5bjTB0wtv7F"
      },
      "source": [
        "Günter Klambauer, Thomas Unterthiner, Andreas Mayr는 2017년 한 [훌륭한 논문](https://arxiv.org/pdf/1706.02515.pdf)에서 SELU 활성화 함수를 소개했습니다. 훈련하는 동안 완전 연결 층만 쌓아서 신경망을 만들고 SELU 활성화 함수와 LeCun 초기화를 사용한다면 자기 정규화됩니다. 각 층의 출력이 평균과\n",
        "표준편차를 보존하는 경향이 있습니다. 이는 그레이디언트 소실과 폭주 문제를 막아줍니다. 그 결과로 SELU 활성화 함수는 이런 종류의 네트워크(특히 아주 깊은 네트워크)에서 다른 활성화 함수보다 뛰어난 성능을 종종 냅니다. 따라서 꼭 시도해 봐야 합니다. 하지만 SELU 활성화 함수의 자기 정규화 특징은 쉽게 깨집니다. ℓ<sub>1</sub>나 ℓ<sub>2</sub> 정규화, 드롭아웃, 맥스 노름, 스킵 연결이나 시퀀셜하지 않은 다른 토폴로지를 사용할 수 없습니다(즉 순환 신경망은 자기 정규화되지 않습니다). 하지만 실전에서 시퀀셜 CNN과 잘 동작합니다. 자기 정규화가 깨지면 SELU가 다른 활성화 함수보다 더 나은 성능을 내지 않을 것입니다."
      ]
    },
    {
      "cell_type": "code",
      "metadata": {
        "id": "vaw5MB1Gtv7F"
      },
      "source": [
        "from scipy.special import erfc\n",
        "\n",
        "# alpha와 scale은 평균 0과 표준 편차 1로 자기 정규화합니다\n",
        "# (논문에 있는 식 14 참조):\n",
        "alpha_0_1 = -np.sqrt(2 / np.pi) / (erfc(1/np.sqrt(2)) * np.exp(1/2) - 1)\n",
        "scale_0_1 = (1 - erfc(1 / np.sqrt(2)) * np.sqrt(np.e)) * np.sqrt(2 * np.pi) * (2 * erfc(np.sqrt(2))*np.e**2 + np.pi*erfc(1/np.sqrt(2))**2*np.e - 2*(2+np.pi)*erfc(1/np.sqrt(2))*np.sqrt(np.e)+np.pi+2)**(-1/2)"
      ],
      "execution_count": 21,
      "outputs": []
    },
    {
      "cell_type": "code",
      "metadata": {
        "id": "Za1rPceztv7F"
      },
      "source": [
        "def selu(z, scale=scale_0_1, alpha=alpha_0_1):\n",
        "    return scale * elu(z, alpha)"
      ],
      "execution_count": 22,
      "outputs": []
    },
    {
      "cell_type": "code",
      "metadata": {
        "id": "Qrw7Tw36tv7F",
        "colab": {
          "base_uri": "https://localhost:8080/",
          "height": 315
        },
        "outputId": "2b7afeb7-e767-46c0-b60f-4ba87f7053af"
      },
      "source": [
        "plt.plot(z, selu(z), \"b-\", linewidth=2)\n",
        "plt.plot([-5, 5], [0, 0], 'k-')\n",
        "plt.plot([-5, 5], [-1.758, -1.758], 'k--')\n",
        "plt.plot([0, 0], [-2.2, 3.2], 'k-')\n",
        "plt.grid(True)\n",
        "plt.title(\"SELU activation function\", fontsize=14)\n",
        "plt.axis([-5, 5, -2.2, 3.2])\n",
        "\n",
        "save_fig(\"selu_plot\")\n",
        "plt.show()"
      ],
      "execution_count": 23,
      "outputs": [
        {
          "output_type": "stream",
          "text": [
            "그림 저장: selu_plot\n"
          ],
          "name": "stdout"
        },
        {
          "output_type": "display_data",
          "data": {
            "image/png": "[encoded data removed]",
            "text/plain": [
              "<Figure size 432x288 with 1 Axes>"
            ]
          },
          "metadata": {
            "tags": [],
            "needs_background": "light"
          }
        }
      ]
    },
    {
      "cell_type": "markdown",
      "metadata": {
        "id": "cglhsGmCtv7F"
      },
      "source": [
        "기본적으로 SELU 하이퍼파라미터(`scale`과 `alpha`)는 각 뉴런의 평균 출력이 0에 가깝고 표준 편차는 1에 가깝도록 조정됩니다(입력은 평균이 0이고 표준 편차 1로 표준화되었다고 가정합니다). 이 활성화 함수를 사용하면 1,000개의 층이 있는 심층 신경망도 모든 층에 걸쳐 거의 평균이 0이고 표준 편차를 1로 유지합니다. 이를 통해 그레이디언트 폭주와 소실 문제를 피할 수 있습니다:"
      ]
    },
    {
      "cell_type": "code",
      "metadata": {
        "id": "zPHi_lLqtv7F",
        "colab": {
          "base_uri": "https://localhost:8080/"
        },
        "outputId": "ab6e62d7-2e65-4d6b-c17c-3997ccc79895"
      },
      "source": [
        "np.random.seed(42)\n",
        "Z = np.random.normal(size=(500, 100)) # 표준화된 입력\n",
        "for layer in range(1000):\n",
        "    W = np.random.normal(size=(100, 100), scale=np.sqrt(1 / 100)) # LeCun 초기화\n",
        "    Z = selu(np.dot(Z, W))\n",
        "    means = np.mean(Z, axis=0).mean()\n",
        "    stds = np.std(Z, axis=0).mean()\n",
        "    if layer % 100 == 0:\n",
        "        print(\"Layer {}: mean {:.2f}, std deviation {:.2f}\".format(layer, means, stds))"
      ],
      "execution_count": 24,
      "outputs": [
        {
          "output_type": "stream",
          "text": [
            "Layer 0: mean -0.00, std deviation 1.00\n",
            "Layer 100: mean 0.02, std deviation 0.96\n",
            "Layer 200: mean 0.01, std deviation 0.90\n",
            "Layer 300: mean -0.02, std deviation 0.92\n",
            "Layer 400: mean 0.05, std deviation 0.89\n",
            "Layer 500: mean 0.01, std deviation 0.93\n",
            "Layer 600: mean 0.02, std deviation 0.92\n",
            "Layer 700: mean -0.02, std deviation 0.90\n",
            "Layer 800: mean 0.05, std deviation 0.83\n",
            "Layer 900: mean 0.02, std deviation 1.00\n"
          ],
          "name": "stdout"
        }
      ]
    },
    {
      "cell_type": "markdown",
      "metadata": {
        "id": "tZdxGU47tv7G"
      },
      "source": [
        "쉽게 SELU를 사용할 수 있습니다:"
      ]
    },
    {
      "cell_type": "code",
      "metadata": {
        "id": "oMBkP_zxtv7G",
        "colab": {
          "base_uri": "https://localhost:8080/"
        },
        "outputId": "61e50e14-2ae9-4929-ff46-138b5e0ba2fe"
      },
      "source": [
        "keras.layers.Dense(10, activation=\"selu\",\n",
        "                   kernel_initializer=\"lecun_normal\")"
      ],
      "execution_count": 25,
      "outputs": [
        {
          "output_type": "execute_result",
          "data": {
            "text/plain": [
              "<tensorflow.python.keras.layers.core.Dense at 0x7f8fba077f50>"
            ]
          },
          "metadata": {
            "tags": []
          },
          "execution_count": 25
        }
      ]
    },
    {
      "cell_type": "markdown",
      "metadata": {
        "id": "DH0yMZx1tv7G"
      },
      "source": [
        "100개의 은닉층과 SELU 활성화 함수를 사용한 패션 MNIST를 위한 신경망을 만들어 보자:"
      ]
    },
    {
      "cell_type": "code",
      "metadata": {
        "id": "VG1M98L-tv7G"
      },
      "source": [
        "np.random.seed(42)\n",
        "tf.random.set_seed(42)"
      ],
      "execution_count": 26,
      "outputs": []
    },
    {
      "cell_type": "code",
      "metadata": {
        "id": "Nrvk21Jmtv7G"
      },
      "source": [
        "model = keras.models.Sequential()\n",
        "model.add(keras.layers.Flatten(input_shape=[28, 28]))\n",
        "model.add(keras.layers.Dense(300, activation=\"selu\",\n",
        "                             kernel_initializer=\"lecun_normal\"))\n",
        "for layer in range(99):\n",
        "    model.add(keras.layers.Dense(100, activation=\"selu\",\n",
        "                                 kernel_initializer=\"lecun_normal\"))\n",
        "model.add(keras.layers.Dense(10, activation=\"softmax\"))"
      ],
      "execution_count": 27,
      "outputs": []
    },
    {
      "cell_type": "code",
      "metadata": {
        "id": "ZuzT7s9Ttv7G"
      },
      "source": [
        "model.compile(loss=\"sparse_categorical_crossentropy\",\n",
        "              optimizer=keras.optimizers.SGD(lr=1e-3),\n",
        "              metrics=[\"accuracy\"])"
      ],
      "execution_count": 28,
      "outputs": []
    },
    {
      "cell_type": "markdown",
      "metadata": {
        "id": "evyrgfePtv7G"
      },
      "source": [
        "입력을 평균 0과 표준 편차 1로 바꾸어야 한다."
      ]
    },
    {
      "cell_type": "code",
      "metadata": {
        "id": "DL_oI2Vitv7G"
      },
      "source": [
        "pixel_means = X_train.mean(axis=0, keepdims=True)\n",
        "pixel_stds = X_train.std(axis=0, keepdims=True)\n",
        "X_train_scaled = (X_train - pixel_means) / pixel_stds\n",
        "X_valid_scaled = (X_valid - pixel_means) / pixel_stds\n",
        "X_test_scaled = (X_test - pixel_means) / pixel_stds"
      ],
      "execution_count": 29,
      "outputs": []
    },
    {
      "cell_type": "code",
      "metadata": {
        "id": "gGZ1IpJctv7G",
        "colab": {
          "base_uri": "https://localhost:8080/"
        },
        "outputId": "df756452-a885-483f-801f-73b267dd08ad"
      },
      "source": [
        "history = model.fit(X_train_scaled, y_train, epochs=5,\n",
        "                    validation_data=(X_valid_scaled, y_valid))"
      ],
      "execution_count": 30,
      "outputs": [
        {
          "output_type": "stream",
          "text": [
            "Epoch 1/5\n",
            "1719/1719 [==============================] - 17s 9ms/step - loss: 1.5918 - accuracy: 0.3796 - val_loss: 0.9082 - val_accuracy: 0.6718\n",
            "Epoch 2/5\n",
            "1719/1719 [==============================] - 15s 9ms/step - loss: 0.8712 - accuracy: 0.6739 - val_loss: 0.6857 - val_accuracy: 0.7544\n",
            "Epoch 3/5\n",
            "1719/1719 [==============================] - 15s 9ms/step - loss: 0.7785 - accuracy: 0.7183 - val_loss: 0.6667 - val_accuracy: 0.7648\n",
            "Epoch 4/5\n",
            "1719/1719 [==============================] - 15s 9ms/step - loss: 0.6671 - accuracy: 0.7567 - val_loss: 0.6565 - val_accuracy: 0.7590\n",
            "Epoch 5/5\n",
            "1719/1719 [==============================] - 15s 9ms/step - loss: 0.6263 - accuracy: 0.7644 - val_loss: 0.5370 - val_accuracy: 0.7968\n"
          ],
          "name": "stdout"
        }
      ]
    },
    {
      "cell_type": "markdown",
      "metadata": {
        "id": "VQN1wXBztv7G"
      },
      "source": [
        "대신 ReLU 활성화 함수를 사용하면 어떤 일이 일어나는지 확인해 보자:"
      ]
    },
    {
      "cell_type": "code",
      "metadata": {
        "id": "XiHZfIeKtv7G"
      },
      "source": [
        "np.random.seed(42)\n",
        "tf.random.set_seed(42)"
      ],
      "execution_count": 31,
      "outputs": []
    },
    {
      "cell_type": "code",
      "metadata": {
        "id": "ite3NMbxtv7G"
      },
      "source": [
        "model = keras.models.Sequential()\n",
        "model.add(keras.layers.Flatten(input_shape=[28, 28]))\n",
        "model.add(keras.layers.Dense(300, activation=\"relu\", kernel_initializer=\"he_normal\"))\n",
        "for layer in range(99):\n",
        "    model.add(keras.layers.Dense(100, activation=\"relu\", kernel_initializer=\"he_normal\"))\n",
        "model.add(keras.layers.Dense(10, activation=\"softmax\"))"
      ],
      "execution_count": 32,
      "outputs": []
    },
    {
      "cell_type": "code",
      "metadata": {
        "id": "XsVNj9A9tv7G"
      },
      "source": [
        "model.compile(loss=\"sparse_categorical_crossentropy\",\n",
        "              optimizer=keras.optimizers.SGD(lr=1e-3),\n",
        "              metrics=[\"accuracy\"])"
      ],
      "execution_count": 33,
      "outputs": []
    },
    {
      "cell_type": "code",
      "metadata": {
        "id": "JsCKk7LStv7G",
        "colab": {
          "base_uri": "https://localhost:8080/"
        },
        "outputId": "ed225b11-6fcc-40de-9dc2-e5bff7dc9b12"
      },
      "source": [
        "history = model.fit(X_train_scaled, y_train, epochs=5,\n",
        "                    validation_data=(X_valid_scaled, y_valid))"
      ],
      "execution_count": 34,
      "outputs": [
        {
          "output_type": "stream",
          "text": [
            "Epoch 1/5\n",
            "1719/1719 [==============================] - 16s 8ms/step - loss: 2.1008 - accuracy: 0.1798 - val_loss: 1.3194 - val_accuracy: 0.4212\n",
            "Epoch 2/5\n",
            "1719/1719 [==============================] - 14s 8ms/step - loss: 1.3163 - accuracy: 0.4286 - val_loss: 1.0160 - val_accuracy: 0.5544\n",
            "Epoch 3/5\n",
            "1719/1719 [==============================] - 14s 8ms/step - loss: 1.0457 - accuracy: 0.5532 - val_loss: 0.9857 - val_accuracy: 0.5510\n",
            "Epoch 4/5\n",
            "1719/1719 [==============================] - 14s 8ms/step - loss: 0.8542 - accuracy: 0.6546 - val_loss: 0.7551 - val_accuracy: 0.6926\n",
            "Epoch 5/5\n",
            "1719/1719 [==============================] - 14s 8ms/step - loss: 0.7781 - accuracy: 0.7020 - val_loss: 0.7111 - val_accuracy: 0.7084\n"
          ],
          "name": "stdout"
        }
      ]
    },
    {
      "cell_type": "markdown",
      "metadata": {
        "id": "AWShyxgitv7G"
      },
      "source": [
        "그레이디언트 폭주나 소실 문제가 발생했다."
      ]
    },
    {
      "cell_type": "markdown",
      "metadata": {
        "id": "goQM_XgMtv7G"
      },
      "source": [
        "# 배치 정규화"
      ]
    },
    {
      "cell_type": "code",
      "metadata": {
        "id": "MMPVL9Xitv7G"
      },
      "source": [
        "model = keras.models.Sequential([\n",
        "    keras.layers.Flatten(input_shape=[28, 28]),\n",
        "    keras.layers.BatchNormalization(),\n",
        "    keras.layers.Dense(300, activation=\"relu\"),\n",
        "    keras.layers.BatchNormalization(),\n",
        "    keras.layers.Dense(100, activation=\"relu\"),\n",
        "    keras.layers.BatchNormalization(),\n",
        "    keras.layers.Dense(10, activation=\"softmax\")\n",
        "])"
      ],
      "execution_count": 35,
      "outputs": []
    },
    {
      "cell_type": "code",
      "metadata": {
        "id": "aMGlOELQtv7G",
        "colab": {
          "base_uri": "https://localhost:8080/"
        },
        "outputId": "17b52fd6-0b06-4bd8-bf8b-92332e0c99b2"
      },
      "source": [
        "model.summary()"
      ],
      "execution_count": 36,
      "outputs": [
        {
          "output_type": "stream",
          "text": [
            "Model: \"sequential_4\"\n",
            "_________________________________________________________________\n",
            "Layer (type)                 Output Shape              Param #   \n",
            "=================================================================\n",
            "flatten_4 (Flatten)          (None, 784)               0         \n",
            "_________________________________________________________________\n",
            "batch_normalization (BatchNo (None, 784)               3136      \n",
            "_________________________________________________________________\n",
            "dense_212 (Dense)            (None, 300)               235500    \n",
            "_________________________________________________________________\n",
            "batch_normalization_1 (Batch (None, 300)               1200      \n",
            "_________________________________________________________________\n",
            "dense_213 (Dense)            (None, 100)               30100     \n",
            "_________________________________________________________________\n",
            "batch_normalization_2 (Batch (None, 100)               400       \n",
            "_________________________________________________________________\n",
            "dense_214 (Dense)            (None, 10)                1010      \n",
            "=================================================================\n",
            "Total params: 271,346\n",
            "Trainable params: 268,978\n",
            "Non-trainable params: 2,368\n",
            "_________________________________________________________________\n"
          ],
          "name": "stdout"
        }
      ]
    },
    {
      "cell_type": "code",
      "metadata": {
        "id": "uqjMCAJRtv7G",
        "colab": {
          "base_uri": "https://localhost:8080/"
        },
        "outputId": "035159bf-a58b-4701-d86c-96bf0ab2e57f"
      },
      "source": [
        "bn1 = model.layers[1]\n",
        "[(var.name, var.trainable) for var in bn1.variables]"
      ],
      "execution_count": 37,
      "outputs": [
        {
          "output_type": "execute_result",
          "data": {
            "text/plain": [
              "[('batch_normalization/gamma:0', True),\n",
              " ('batch_normalization/beta:0', True),\n",
              " ('batch_normalization/moving_mean:0', False),\n",
              " ('batch_normalization/moving_variance:0', False)]"
            ]
          },
          "metadata": {
            "tags": []
          },
          "execution_count": 37
        }
      ]
    },
    {
      "cell_type": "code",
      "metadata": {
        "id": "kisdaPBytv7G",
        "colab": {
          "base_uri": "https://localhost:8080/"
        },
        "outputId": "c09f4118-d44d-4a7f-978f-39d626d07a14"
      },
      "source": [
        "bn1.updates"
      ],
      "execution_count": 38,
      "outputs": [
        {
          "output_type": "stream",
          "text": [
            "/usr/local/lib/python3.7/dist-packages/tensorflow/python/keras/engine/base_layer.py:1402: UserWarning: `layer.updates` will be removed in a future version. This property should not be used in TensorFlow 2.0, as `updates` are applied automatically.\n",
            "  warnings.warn('`layer.updates` will be removed in a future version. '\n"
          ],
          "name": "stderr"
        },
        {
          "output_type": "execute_result",
          "data": {
            "text/plain": [
              "[]"
            ]
          },
          "metadata": {
            "tags": []
          },
          "execution_count": 38
        }
      ]
    },
    {
      "cell_type": "code",
      "metadata": {
        "id": "XKN_DxTytv7G"
      },
      "source": [
        "model.compile(loss=\"sparse_categorical_crossentropy\",\n",
        "              optimizer=keras.optimizers.SGD(lr=1e-3),\n",
        "              metrics=[\"accuracy\"])"
      ],
      "execution_count": 39,
      "outputs": []
    },
    {
      "cell_type": "code",
      "metadata": {
        "id": "tDIPT25Otv7G",
        "colab": {
          "base_uri": "https://localhost:8080/"
        },
        "outputId": "75f7a902-0810-44ab-da3e-1e6e87296a52"
      },
      "source": [
        "history = model.fit(X_train, y_train, epochs=10,\n",
        "                    validation_data=(X_valid, y_valid))"
      ],
      "execution_count": 40,
      "outputs": [
        {
          "output_type": "stream",
          "text": [
            "Epoch 1/10\n",
            "1719/1719 [==============================] - 6s 3ms/step - loss: 1.2287 - accuracy: 0.5994 - val_loss: 0.5525 - val_accuracy: 0.8230\n",
            "Epoch 2/10\n",
            "1719/1719 [==============================] - 5s 3ms/step - loss: 0.5995 - accuracy: 0.7958 - val_loss: 0.4725 - val_accuracy: 0.8470\n",
            "Epoch 3/10\n",
            "1719/1719 [==============================] - 5s 3ms/step - loss: 0.5312 - accuracy: 0.8172 - val_loss: 0.4375 - val_accuracy: 0.8552\n",
            "Epoch 4/10\n",
            "1719/1719 [==============================] - 5s 3ms/step - loss: 0.4885 - accuracy: 0.8294 - val_loss: 0.4152 - val_accuracy: 0.8602\n",
            "Epoch 5/10\n",
            "1719/1719 [==============================] - 5s 3ms/step - loss: 0.4718 - accuracy: 0.8347 - val_loss: 0.3997 - val_accuracy: 0.8636\n",
            "Epoch 6/10\n",
            "1719/1719 [==============================] - 5s 3ms/step - loss: 0.4420 - accuracy: 0.8462 - val_loss: 0.3867 - val_accuracy: 0.8684\n",
            "Epoch 7/10\n",
            "1719/1719 [==============================] - 5s 3ms/step - loss: 0.4285 - accuracy: 0.8496 - val_loss: 0.3763 - val_accuracy: 0.8704\n",
            "Epoch 8/10\n",
            "1719/1719 [==============================] - 5s 3ms/step - loss: 0.4087 - accuracy: 0.8551 - val_loss: 0.3712 - val_accuracy: 0.8736\n",
            "Epoch 9/10\n",
            "1719/1719 [==============================] - 5s 3ms/step - loss: 0.4080 - accuracy: 0.8565 - val_loss: 0.3632 - val_accuracy: 0.8754\n",
            "Epoch 10/10\n",
            "1719/1719 [==============================] - 5s 3ms/step - loss: 0.3903 - accuracy: 0.8614 - val_loss: 0.3573 - val_accuracy: 0.8752\n"
          ],
          "name": "stdout"
        }
      ]
    },
    {
      "cell_type": "markdown",
      "metadata": {
        "id": "-VFUlIXptv7G"
      },
      "source": [
        "이따금 활성화 함수전에 BN을 적용해도 잘 동작합니다(여기에는 논란의 여지가 있습니다). 또한 `BatchNormalization` 층 이전의 층은 편향을 위한 항이 필요 없습니다. `BatchNormalization` 층이 이를 무효화하기 때문입니다. 따라서 필요 없는 파라미터이므로 `use_bias=False`를 지정하여 층을 만들 수 있습니다:"
      ]
    },
    {
      "cell_type": "code",
      "metadata": {
        "id": "B5_75Wm9tv7G"
      },
      "source": [
        "model = keras.models.Sequential([\n",
        "    keras.layers.Flatten(input_shape=[28, 28]),\n",
        "    keras.layers.BatchNormalization(),\n",
        "    keras.layers.Dense(300, use_bias=False),\n",
        "    keras.layers.BatchNormalization(),\n",
        "    keras.layers.Activation(\"relu\"),\n",
        "    keras.layers.Dense(100, use_bias=False),\n",
        "    keras.layers.BatchNormalization(),\n",
        "    keras.layers.Activation(\"relu\"),\n",
        "    keras.layers.Dense(10, activation=\"softmax\")\n",
        "])"
      ],
      "execution_count": 41,
      "outputs": []
    },
    {
      "cell_type": "code",
      "metadata": {
        "id": "PpiDwur3tv7H"
      },
      "source": [
        "model.compile(loss=\"sparse_categorical_crossentropy\",\n",
        "              optimizer=keras.optimizers.SGD(lr=1e-3),\n",
        "              metrics=[\"accuracy\"])"
      ],
      "execution_count": 42,
      "outputs": []
    },
    {
      "cell_type": "code",
      "metadata": {
        "id": "ng485fantv7H",
        "colab": {
          "base_uri": "https://localhost:8080/"
        },
        "outputId": "096f7d48-f237-4016-eb21-9218baf87e41"
      },
      "source": [
        "history = model.fit(X_train, y_train, epochs=10,\n",
        "                    validation_data=(X_valid, y_valid))"
      ],
      "execution_count": 43,
      "outputs": [
        {
          "output_type": "stream",
          "text": [
            "Epoch 1/10\n",
            "1719/1719 [==============================] - 6s 3ms/step - loss: 1.3677 - accuracy: 0.5604 - val_loss: 0.6767 - val_accuracy: 0.7810\n",
            "Epoch 2/10\n",
            "1719/1719 [==============================] - 5s 3ms/step - loss: 0.7136 - accuracy: 0.7703 - val_loss: 0.5566 - val_accuracy: 0.8180\n",
            "Epoch 3/10\n",
            "1719/1719 [==============================] - 5s 3ms/step - loss: 0.6123 - accuracy: 0.7989 - val_loss: 0.5007 - val_accuracy: 0.8360\n",
            "Epoch 4/10\n",
            "1719/1719 [==============================] - 5s 3ms/step - loss: 0.5547 - accuracy: 0.8150 - val_loss: 0.4666 - val_accuracy: 0.8450\n",
            "Epoch 5/10\n",
            "1719/1719 [==============================] - 5s 3ms/step - loss: 0.5255 - accuracy: 0.8230 - val_loss: 0.4433 - val_accuracy: 0.8532\n",
            "Epoch 6/10\n",
            "1719/1719 [==============================] - 5s 3ms/step - loss: 0.4947 - accuracy: 0.8327 - val_loss: 0.4262 - val_accuracy: 0.8546\n",
            "Epoch 7/10\n",
            "1719/1719 [==============================] - 5s 3ms/step - loss: 0.4736 - accuracy: 0.8386 - val_loss: 0.4130 - val_accuracy: 0.8568\n",
            "Epoch 8/10\n",
            "1719/1719 [==============================] - 5s 3ms/step - loss: 0.4550 - accuracy: 0.8442 - val_loss: 0.4035 - val_accuracy: 0.8614\n",
            "Epoch 9/10\n",
            "1719/1719 [==============================] - 5s 3ms/step - loss: 0.4495 - accuracy: 0.8439 - val_loss: 0.3943 - val_accuracy: 0.8640\n",
            "Epoch 10/10\n",
            "1719/1719 [==============================] - 5s 3ms/step - loss: 0.4333 - accuracy: 0.8496 - val_loss: 0.3875 - val_accuracy: 0.8666\n"
          ],
          "name": "stdout"
        }
      ]
    },
    {
      "cell_type": "markdown",
      "metadata": {
        "id": "AhsK5fvjtv7H"
      },
      "source": [
        "## 그레이디언트 클리핑"
      ]
    },
    {
      "cell_type": "markdown",
      "metadata": {
        "id": "XZ_1TINdtv7H"
      },
      "source": [
        "모든 케라스 옵티마이저는 `clipnorm`이나 `clipvalue` 매개변수를 지원합니다:"
      ]
    },
    {
      "cell_type": "code",
      "metadata": {
        "id": "ssa6KN15tv7H"
      },
      "source": [
        "optimizer = keras.optimizers.SGD(clipvalue=1.0)"
      ],
      "execution_count": 44,
      "outputs": []
    },
    {
      "cell_type": "code",
      "metadata": {
        "id": "XlN3UimNtv7H"
      },
      "source": [
        "optimizer = keras.optimizers.SGD(clipnorm=1.0)"
      ],
      "execution_count": 45,
      "outputs": []
    },
    {
      "cell_type": "markdown",
      "metadata": {
        "id": "tN0eTu8Xtv7H"
      },
      "source": [
        "## 사전 훈련된 층 재사용하기"
      ]
    },
    {
      "cell_type": "markdown",
      "metadata": {
        "id": "ZpPOdIrKtv7H"
      },
      "source": [
        "### 케라스 모델 재사용하기"
      ]
    },
    {
      "cell_type": "markdown",
      "metadata": {
        "id": "p6VL2xrMtv7H"
      },
      "source": [
        "패션 MNIST 훈련 세트를 두 개로 나누어 보죠:\n",
        "* `X_train_A`: 샌달과 셔츠(클래스 5와 6)을 제외한 모든 이미지\n",
        "* `X_train_B`: 샌달과 셔츠 이미지 중 처음 200개만 가진 작은 훈련 세트\n",
        "\n",
        "검증 세트와 테스트 세트도 이렇게 나눕니다. 하지만 이미지 개수는 제한하지 않습니다.\n",
        "\n",
        "A 세트(8개의 클래스를 가진 분류 문제)에서 모델을 훈련하고 이를 재사용하여 B 세트(이진 분류)를 해결해 보겠습니다. A 작업에서 B 작업으로 약간의 지식이 전달되기를 기대합니다. 왜냐하면 A 세트의 클래스(스니커즈, 앵클 부츠, 코트, 티셔츠 등)가 B 세트에 있는 클래스(샌달과 셔츠)와 조금 비슷하기 때문입니다. 하지만 `Dense` 층을 사용하기 때문에 동일한 위치에 나타난 패턴만 재사용할 수 있습니다(반대로 합성곱 층은 훨씬 많은 정보를 전송합니다. 학습한 패턴을 이미지의 어느 위치에서나 감지할 수 있기 때문입니다. CNN 장에서 자세히 알아 보겠습니다)."
      ]
    },
    {
      "cell_type": "code",
      "metadata": {
        "id": "6MBWoy_ptv7H"
      },
      "source": [
        "def split_dataset(X, y):\n",
        "  y_5_or_6 = (y == 5) | (y == 6) # sandals  or shirts\n",
        "  y_A = y[~y_5_or_6]\n",
        "  y_A[y_A > 6] -= 2  # class indices 7, 8, 9 should be moved to 5, 6, 7\n",
        "  y_B = (y[y_5_or_6] == 6).astype(np.float32) # binary classification task: is it a hirt (class 6)?\n",
        "  return ((X[~y_5_or_6], y_A),\n",
        "          (X[y_5_or_6], y_B))\n",
        "\n",
        "(X_train_A, y_train_A), (X_train_B, y_train_B) = split_dataset(X_train, y_train)\n",
        "(X_valid_A, y_valid_A), (X_valid_B, y_valid_B) = split_dataset(X_valid, y_valid)\n",
        "(X_test_A, y_test_A), (X_test_B, y_test_B) = split_dataset(X_test, y_test)\n",
        "X_train_B = X_train_B[:200]\n",
        "y_train_B = y_train_B[:200]"
      ],
      "execution_count": 46,
      "outputs": []
    },
    {
      "cell_type": "code",
      "metadata": {
        "id": "a1SItMtVtv7H",
        "colab": {
          "base_uri": "https://localhost:8080/"
        },
        "outputId": "3c4cfe9e-1de1-4803-827c-d9975cc66f26"
      },
      "source": [
        "X_train_A.shape"
      ],
      "execution_count": 47,
      "outputs": [
        {
          "output_type": "execute_result",
          "data": {
            "text/plain": [
              "(43986, 28, 28)"
            ]
          },
          "metadata": {
            "tags": []
          },
          "execution_count": 47
        }
      ]
    },
    {
      "cell_type": "code",
      "metadata": {
        "id": "xbgfbeDn0vvp",
        "colab": {
          "base_uri": "https://localhost:8080/"
        },
        "outputId": "df9b0839-d180-4ed0-a064-bd563834c2fc"
      },
      "source": [
        "X_train_B.shape"
      ],
      "execution_count": 48,
      "outputs": [
        {
          "output_type": "execute_result",
          "data": {
            "text/plain": [
              "(200, 28, 28)"
            ]
          },
          "metadata": {
            "tags": []
          },
          "execution_count": 48
        }
      ]
    },
    {
      "cell_type": "code",
      "metadata": {
        "id": "nB5-X3kf00a0",
        "colab": {
          "base_uri": "https://localhost:8080/"
        },
        "outputId": "58c6c744-e8dd-482a-db8e-cca1a007cf60"
      },
      "source": [
        "y_train_A.shape"
      ],
      "execution_count": 49,
      "outputs": [
        {
          "output_type": "execute_result",
          "data": {
            "text/plain": [
              "(43986,)"
            ]
          },
          "metadata": {
            "tags": []
          },
          "execution_count": 49
        }
      ]
    },
    {
      "cell_type": "code",
      "metadata": {
        "id": "sMco10W807se",
        "colab": {
          "base_uri": "https://localhost:8080/"
        },
        "outputId": "0252fc7d-5e31-416e-d4a4-e23a00f37c72"
      },
      "source": [
        "y_train_B.shape"
      ],
      "execution_count": 50,
      "outputs": [
        {
          "output_type": "execute_result",
          "data": {
            "text/plain": [
              "(200,)"
            ]
          },
          "metadata": {
            "tags": []
          },
          "execution_count": 50
        }
      ]
    },
    {
      "cell_type": "code",
      "metadata": {
        "id": "fw9hf2px09Kc",
        "colab": {
          "base_uri": "https://localhost:8080/"
        },
        "outputId": "e643733c-a24e-4ec6-8ce8-9b72759df149"
      },
      "source": [
        "y_train_A[:30]"
      ],
      "execution_count": 51,
      "outputs": [
        {
          "output_type": "execute_result",
          "data": {
            "text/plain": [
              "array([4, 0, 5, 7, 7, 7, 4, 4, 3, 4, 0, 1, 6, 3, 4, 3, 2, 6, 5, 3, 4, 5,\n",
              "       1, 3, 4, 2, 0, 6, 7, 1], dtype=uint8)"
            ]
          },
          "metadata": {
            "tags": []
          },
          "execution_count": 51
        }
      ]
    },
    {
      "cell_type": "code",
      "metadata": {
        "id": "3nnQjteh1HOy",
        "colab": {
          "base_uri": "https://localhost:8080/"
        },
        "outputId": "b7f629d8-3082-47e7-bdbb-b6547d47a37d"
      },
      "source": [
        "y_train_B[:30]"
      ],
      "execution_count": 52,
      "outputs": [
        {
          "output_type": "execute_result",
          "data": {
            "text/plain": [
              "array([1., 1., 0., 0., 0., 0., 1., 1., 1., 0., 0., 1., 1., 0., 0., 0., 0.,\n",
              "       0., 0., 1., 1., 0., 0., 1., 1., 0., 1., 1., 1., 1.], dtype=float32)"
            ]
          },
          "metadata": {
            "tags": []
          },
          "execution_count": 52
        }
      ]
    },
    {
      "cell_type": "code",
      "metadata": {
        "id": "JVJtQ5E11J9L"
      },
      "source": [
        "tf.random.set_seed(42)\n",
        "np.random.seed(42)"
      ],
      "execution_count": 53,
      "outputs": []
    },
    {
      "cell_type": "markdown",
      "metadata": {
        "id": "7lIG-tY_DTNt"
      },
      "source": [
        "* model_A 생성"
      ]
    },
    {
      "cell_type": "code",
      "metadata": {
        "id": "2MSqTAL11b0F"
      },
      "source": [
        "model_A = keras.models.Sequential()\n",
        "model_A.add(keras.layers.Flatten(input_shape=[28, 28]))\n",
        "for n_hidden in (300, 100, 50, 50, 50):\n",
        "  model_A.add(keras.layers.Dense(n_hidden, activation='selu'))\n",
        "model_A.add(keras.layers.Dense(8, activation='softmax'))"
      ],
      "execution_count": 54,
      "outputs": []
    },
    {
      "cell_type": "code",
      "metadata": {
        "id": "RMU-hz7Y1iFx"
      },
      "source": [
        "model_A.compile(loss='sparse_categorical_crossentropy',\n",
        "                optimizer=keras.optimizers.SGD(lr=1e-3),\n",
        "                metrics=['accuracy'])"
      ],
      "execution_count": 55,
      "outputs": []
    },
    {
      "cell_type": "code",
      "metadata": {
        "colab": {
          "base_uri": "https://localhost:8080/"
        },
        "id": "lcGfSAiLCBv9",
        "outputId": "37817b41-42b1-49df-ca3a-869bda914ab7"
      },
      "source": [
        "history = model_A.fit(X_train_A, y_train_A, epochs=20,\n",
        "                      validation_data=(X_valid_A,y_valid_A))"
      ],
      "execution_count": 56,
      "outputs": [
        {
          "output_type": "stream",
          "text": [
            "Epoch 1/20\n",
            "1375/1375 [==============================] - 4s 2ms/step - loss: 0.9248 - accuracy: 0.6995 - val_loss: 0.3895 - val_accuracy: 0.8662\n",
            "Epoch 2/20\n",
            "1375/1375 [==============================] - 3s 2ms/step - loss: 0.3651 - accuracy: 0.8747 - val_loss: 0.3287 - val_accuracy: 0.8829\n",
            "Epoch 3/20\n",
            "1375/1375 [==============================] - 3s 2ms/step - loss: 0.3182 - accuracy: 0.8895 - val_loss: 0.3012 - val_accuracy: 0.8989\n",
            "Epoch 4/20\n",
            "1375/1375 [==============================] - 3s 2ms/step - loss: 0.3048 - accuracy: 0.8953 - val_loss: 0.2893 - val_accuracy: 0.9031\n",
            "Epoch 5/20\n",
            "1375/1375 [==============================] - 3s 2ms/step - loss: 0.2803 - accuracy: 0.9025 - val_loss: 0.2771 - val_accuracy: 0.9061\n",
            "Epoch 6/20\n",
            "1375/1375 [==============================] - 3s 2ms/step - loss: 0.2701 - accuracy: 0.9079 - val_loss: 0.2731 - val_accuracy: 0.9068\n",
            "Epoch 7/20\n",
            "1375/1375 [==============================] - 3s 2ms/step - loss: 0.2626 - accuracy: 0.9093 - val_loss: 0.2721 - val_accuracy: 0.9078\n",
            "Epoch 8/20\n",
            "1375/1375 [==============================] - 3s 2ms/step - loss: 0.2609 - accuracy: 0.9120 - val_loss: 0.2589 - val_accuracy: 0.9138\n",
            "Epoch 9/20\n",
            "1375/1375 [==============================] - 3s 2ms/step - loss: 0.2558 - accuracy: 0.9109 - val_loss: 0.2563 - val_accuracy: 0.9143\n",
            "Epoch 10/20\n",
            "1375/1375 [==============================] - 3s 2ms/step - loss: 0.2511 - accuracy: 0.9139 - val_loss: 0.2542 - val_accuracy: 0.9155\n",
            "Epoch 11/20\n",
            "1375/1375 [==============================] - 3s 2ms/step - loss: 0.2431 - accuracy: 0.9171 - val_loss: 0.2495 - val_accuracy: 0.9148\n",
            "Epoch 12/20\n",
            "1375/1375 [==============================] - 3s 2ms/step - loss: 0.2422 - accuracy: 0.9171 - val_loss: 0.2510 - val_accuracy: 0.9128\n",
            "Epoch 13/20\n",
            "1375/1375 [==============================] - 3s 2ms/step - loss: 0.2359 - accuracy: 0.9183 - val_loss: 0.2447 - val_accuracy: 0.9160\n",
            "Epoch 14/20\n",
            "1375/1375 [==============================] - 3s 2ms/step - loss: 0.2266 - accuracy: 0.9233 - val_loss: 0.2417 - val_accuracy: 0.9178\n",
            "Epoch 15/20\n",
            "1375/1375 [==============================] - 3s 2ms/step - loss: 0.2225 - accuracy: 0.9244 - val_loss: 0.2451 - val_accuracy: 0.9193\n",
            "Epoch 16/20\n",
            "1375/1375 [==============================] - 3s 2ms/step - loss: 0.2261 - accuracy: 0.9217 - val_loss: 0.2385 - val_accuracy: 0.9195\n",
            "Epoch 17/20\n",
            "1375/1375 [==============================] - 3s 2ms/step - loss: 0.2190 - accuracy: 0.9250 - val_loss: 0.2413 - val_accuracy: 0.9175\n",
            "Epoch 18/20\n",
            "1375/1375 [==============================] - 3s 2ms/step - loss: 0.2171 - accuracy: 0.9252 - val_loss: 0.2432 - val_accuracy: 0.9158\n",
            "Epoch 19/20\n",
            "1375/1375 [==============================] - 3s 2ms/step - loss: 0.2180 - accuracy: 0.9247 - val_loss: 0.2330 - val_accuracy: 0.9198\n",
            "Epoch 20/20\n",
            "1375/1375 [==============================] - 3s 2ms/step - loss: 0.2112 - accuracy: 0.9273 - val_loss: 0.2334 - val_accuracy: 0.9205\n"
          ],
          "name": "stdout"
        }
      ]
    },
    {
      "cell_type": "code",
      "metadata": {
        "id": "CNZB9ra9CSBr"
      },
      "source": [
        "model_A.save(\"my_model_A.h5\")"
      ],
      "execution_count": 57,
      "outputs": []
    },
    {
      "cell_type": "markdown",
      "metadata": {
        "id": "vMdVgO0sDbXN"
      },
      "source": [
        "* model_B 생성"
      ]
    },
    {
      "cell_type": "code",
      "metadata": {
        "id": "tZglqtkiCuuC"
      },
      "source": [
        "model_B = keras.models.Sequential()\n",
        "model_B.add(keras.layers.Flatten(input_shape=[28,28]))\n",
        "for n_hidden in (300, 100, 50, 50, 50):\n",
        "  model_B.add(keras.layers.Dense(n_hidden, activation='selu'))\n",
        "model_B.add(keras.layers.Dense(1, activation='sigmoid'))"
      ],
      "execution_count": 58,
      "outputs": []
    },
    {
      "cell_type": "code",
      "metadata": {
        "id": "ojmh6tNzEO0I"
      },
      "source": [
        "model_B.compile(loss='binary_crossentropy',\n",
        "                optimizer=keras.optimizers.SGD(lr=1e-3),\n",
        "                metrics=['accuracy'])"
      ],
      "execution_count": 59,
      "outputs": []
    },
    {
      "cell_type": "code",
      "metadata": {
        "colab": {
          "base_uri": "https://localhost:8080/"
        },
        "id": "GE4XtzQiElyS",
        "outputId": "e4d28223-d3da-46a6-a469-5dd4d23fd82d"
      },
      "source": [
        "history = model_B.fit(X_train_B, y_train_B, epochs=20,\n",
        "                      validation_data=(X_valid_B, y_valid_B))"
      ],
      "execution_count": 60,
      "outputs": [
        {
          "output_type": "stream",
          "text": [
            "Epoch 1/20\n",
            "7/7 [==============================] - 1s 36ms/step - loss: 1.0360 - accuracy: 0.4975 - val_loss: 0.6314 - val_accuracy: 0.6004\n",
            "Epoch 2/20\n",
            "7/7 [==============================] - 0s 14ms/step - loss: 0.5883 - accuracy: 0.6971 - val_loss: 0.4784 - val_accuracy: 0.8529\n",
            "Epoch 3/20\n",
            "7/7 [==============================] - 0s 13ms/step - loss: 0.4380 - accuracy: 0.8854 - val_loss: 0.4102 - val_accuracy: 0.8945\n",
            "Epoch 4/20\n",
            "7/7 [==============================] - 0s 13ms/step - loss: 0.4021 - accuracy: 0.8712 - val_loss: 0.3647 - val_accuracy: 0.9178\n",
            "Epoch 5/20\n",
            "7/7 [==============================] - 0s 14ms/step - loss: 0.3361 - accuracy: 0.9348 - val_loss: 0.3300 - val_accuracy: 0.9320\n",
            "Epoch 6/20\n",
            "7/7 [==============================] - 0s 13ms/step - loss: 0.3113 - accuracy: 0.9233 - val_loss: 0.3019 - val_accuracy: 0.9402\n",
            "Epoch 7/20\n",
            "7/7 [==============================] - 0s 13ms/step - loss: 0.2817 - accuracy: 0.9299 - val_loss: 0.2804 - val_accuracy: 0.9422\n",
            "Epoch 8/20\n",
            "7/7 [==============================] - 0s 14ms/step - loss: 0.2632 - accuracy: 0.9379 - val_loss: 0.2606 - val_accuracy: 0.9473\n",
            "Epoch 9/20\n",
            "7/7 [==============================] - 0s 14ms/step - loss: 0.2373 - accuracy: 0.9481 - val_loss: 0.2428 - val_accuracy: 0.9523\n",
            "Epoch 10/20\n",
            "7/7 [==============================] - 0s 14ms/step - loss: 0.2229 - accuracy: 0.9657 - val_loss: 0.2281 - val_accuracy: 0.9544\n",
            "Epoch 11/20\n",
            "7/7 [==============================] - 0s 13ms/step - loss: 0.2155 - accuracy: 0.9590 - val_loss: 0.2150 - val_accuracy: 0.9584\n",
            "Epoch 12/20\n",
            "7/7 [==============================] - 0s 14ms/step - loss: 0.1834 - accuracy: 0.9738 - val_loss: 0.2036 - val_accuracy: 0.9584\n",
            "Epoch 13/20\n",
            "7/7 [==============================] - 0s 15ms/step - loss: 0.1671 - accuracy: 0.9828 - val_loss: 0.1931 - val_accuracy: 0.9615\n",
            "Epoch 14/20\n",
            "7/7 [==============================] - 0s 13ms/step - loss: 0.1527 - accuracy: 0.9915 - val_loss: 0.1838 - val_accuracy: 0.9635\n",
            "Epoch 15/20\n",
            "7/7 [==============================] - 0s 13ms/step - loss: 0.1595 - accuracy: 0.9904 - val_loss: 0.1746 - val_accuracy: 0.9686\n",
            "Epoch 16/20\n",
            "7/7 [==============================] - 0s 14ms/step - loss: 0.1473 - accuracy: 0.9937 - val_loss: 0.1674 - val_accuracy: 0.9686\n",
            "Epoch 17/20\n",
            "7/7 [==============================] - 0s 13ms/step - loss: 0.1412 - accuracy: 0.9944 - val_loss: 0.1604 - val_accuracy: 0.9706\n",
            "Epoch 18/20\n",
            "7/7 [==============================] - 0s 13ms/step - loss: 0.1242 - accuracy: 0.9931 - val_loss: 0.1539 - val_accuracy: 0.9706\n",
            "Epoch 19/20\n",
            "7/7 [==============================] - 0s 14ms/step - loss: 0.1224 - accuracy: 0.9931 - val_loss: 0.1482 - val_accuracy: 0.9716\n",
            "Epoch 20/20\n",
            "7/7 [==============================] - 0s 13ms/step - loss: 0.1096 - accuracy: 0.9912 - val_loss: 0.1431 - val_accuracy: 0.9716\n"
          ],
          "name": "stdout"
        }
      ]
    },
    {
      "cell_type": "code",
      "metadata": {
        "colab": {
          "base_uri": "https://localhost:8080/"
        },
        "id": "0DZDMhFZE6lI",
        "outputId": "2fec0dcc-a827-47d1-dc10-740e7b399eb0"
      },
      "source": [
        "model.summary()"
      ],
      "execution_count": 61,
      "outputs": [
        {
          "output_type": "stream",
          "text": [
            "Model: \"sequential_5\"\n",
            "_________________________________________________________________\n",
            "Layer (type)                 Output Shape              Param #   \n",
            "=================================================================\n",
            "flatten_5 (Flatten)          (None, 784)               0         \n",
            "_________________________________________________________________\n",
            "batch_normalization_3 (Batch (None, 784)               3136      \n",
            "_________________________________________________________________\n",
            "dense_215 (Dense)            (None, 300)               235200    \n",
            "_________________________________________________________________\n",
            "batch_normalization_4 (Batch (None, 300)               1200      \n",
            "_________________________________________________________________\n",
            "activation (Activation)      (None, 300)               0         \n",
            "_________________________________________________________________\n",
            "dense_216 (Dense)            (None, 100)               30000     \n",
            "_________________________________________________________________\n",
            "batch_normalization_5 (Batch (None, 100)               400       \n",
            "_________________________________________________________________\n",
            "activation_1 (Activation)    (None, 100)               0         \n",
            "_________________________________________________________________\n",
            "dense_217 (Dense)            (None, 10)                1010      \n",
            "=================================================================\n",
            "Total params: 270,946\n",
            "Trainable params: 268,578\n",
            "Non-trainable params: 2,368\n",
            "_________________________________________________________________\n"
          ],
          "name": "stdout"
        }
      ]
    },
    {
      "cell_type": "markdown",
      "metadata": {
        "id": "5bk24kqWFHdR"
      },
      "source": [
        "먼저 모델 A를 로드하고 이 모델의 층을 기반으로 새로운 모델(model_B_on_A)을 만든다.\n",
        "출력층만 제외하고 모든 층을 재사용한다."
      ]
    },
    {
      "cell_type": "code",
      "metadata": {
        "id": "4XFYGkzoFC9E"
      },
      "source": [
        "model_A = keras.models.load_model('my_model_A.h5')\n",
        "model_B_on_A = keras.models.Sequential(model_A.layers[:-1])\n",
        "model_B_on_A.add(keras.layers.Dense(1, activation='sigmoid'))"
      ],
      "execution_count": 62,
      "outputs": []
    },
    {
      "cell_type": "markdown",
      "metadata": {
        "id": "VAT_b1B5F22K"
      },
      "source": [
        "model_A와 model_B_on_A는 일부 층을 공유한다. model_B_ond_A를 훈련할 때 model_A도 영향을 받는다. 이를 원치 않는다면 층을 재사용하기 전에 model_A를 클론해야한다. clone_model() 메서드로 모델 A의 구조를 복제한 후 가중치를 복사한다.(clone_model()메서드는 가중치를 복제하지 않는다.)"
      ]
    },
    {
      "cell_type": "code",
      "metadata": {
        "id": "GCJZXiD4Fxjs"
      },
      "source": [
        "model_A_clone = keras.models.clone_model(model_A)\n",
        "model_A_clone.set_weights(model_A.get_weights())"
      ],
      "execution_count": 63,
      "outputs": []
    },
    {
      "cell_type": "markdown",
      "metadata": {
        "id": "YES3Ktl0HAhJ"
      },
      "source": [
        "새로운 출력층이 랜덤하게 초기화되어 있으므로 큰 오차를 만들 수 있다.(적어도 처음 몇 번의 에포크 동안). 따라서 큰 오차 그레이디언트가 재사용된 가중치를 망칠 수 있다. 이를 피하는 한 가지 방법은 처음 몇 번의 에포크 동안 재사용된 층을 동결하고 새로운 층에게 적절한 가중치를 학습할 시간을 주는 것이다."
      ]
    },
    {
      "cell_type": "code",
      "metadata": {
        "id": "MiWm6V5BGebc"
      },
      "source": [
        "for layer in model_B_on_A.layers[:-1]:\n",
        "  layer.trainable = False\n",
        "\n",
        "model_B_on_A.compile(loss=\"binary_crossentropy\",optimizer=\"sgd\",\n",
        "                     metrics=[\"accuracy\"])"
      ],
      "execution_count": 64,
      "outputs": []
    },
    {
      "cell_type": "code",
      "metadata": {
        "colab": {
          "base_uri": "https://localhost:8080/"
        },
        "id": "J8QfUl3mHuKL",
        "outputId": "c496d929-b9ea-4f3f-eccb-45b942d56775"
      },
      "source": [
        "history = model_B_on_A.fit(X_train_B, y_train_B, epochs=4,\n",
        "                           validation_data=(X_valid_B, y_valid_B))"
      ],
      "execution_count": 65,
      "outputs": [
        {
          "output_type": "stream",
          "text": [
            "Epoch 1/4\n",
            "7/7 [==============================] - 1s 34ms/step - loss: 0.5360 - accuracy: 0.6783 - val_loss: 0.3572 - val_accuracy: 0.8499\n",
            "Epoch 2/4\n",
            "7/7 [==============================] - 0s 15ms/step - loss: 0.2996 - accuracy: 0.9117 - val_loss: 0.2350 - val_accuracy: 0.9432\n",
            "Epoch 3/4\n",
            "7/7 [==============================] - 0s 16ms/step - loss: 0.1803 - accuracy: 0.9777 - val_loss: 0.1772 - val_accuracy: 0.9665\n",
            "Epoch 4/4\n",
            "7/7 [==============================] - 0s 15ms/step - loss: 0.1447 - accuracy: 0.9858 - val_loss: 0.1446 - val_accuracy: 0.9828\n"
          ],
          "name": "stdout"
        }
      ]
    },
    {
      "cell_type": "code",
      "metadata": {
        "id": "_gk00kZKIMlp"
      },
      "source": [
        "for layer in model_B_on_A.layers[:-1]:\n",
        "  layer.trainable = True\n",
        "\n",
        "optimizer = keras.optimizers.SGD(lr=1e-4)\n",
        "model_B_on_A.compile(loss=\"binary_crossentropy\", optimizer=optimizer,\n",
        "                     metrics=[\"accuracy\"])"
      ],
      "execution_count": 66,
      "outputs": []
    },
    {
      "cell_type": "code",
      "metadata": {
        "colab": {
          "base_uri": "https://localhost:8080/"
        },
        "id": "ioeLKt_CIqrJ",
        "outputId": "107576b0-d412-432c-a8eb-3d3e97fc168d"
      },
      "source": [
        "history = model_B_on_A.fit(X_train_B, y_train_B, epochs=16,\n",
        "                           validation_data=(X_valid_B, y_valid_B))"
      ],
      "execution_count": 67,
      "outputs": [
        {
          "output_type": "stream",
          "text": [
            "Epoch 1/16\n",
            "7/7 [==============================] - 1s 36ms/step - loss: 0.1205 - accuracy: 0.9912 - val_loss: 0.1427 - val_accuracy: 0.9828\n",
            "Epoch 2/16\n",
            "7/7 [==============================] - 0s 14ms/step - loss: 0.1155 - accuracy: 0.9912 - val_loss: 0.1408 - val_accuracy: 0.9828\n",
            "Epoch 3/16\n",
            "7/7 [==============================] - 0s 13ms/step - loss: 0.1072 - accuracy: 0.9931 - val_loss: 0.1389 - val_accuracy: 0.9828\n",
            "Epoch 4/16\n",
            "7/7 [==============================] - 0s 14ms/step - loss: 0.1146 - accuracy: 0.9894 - val_loss: 0.1372 - val_accuracy: 0.9828\n",
            "Epoch 5/16\n",
            "7/7 [==============================] - 0s 14ms/step - loss: 0.1024 - accuracy: 0.9944 - val_loss: 0.1354 - val_accuracy: 0.9828\n",
            "Epoch 6/16\n",
            "7/7 [==============================] - 0s 15ms/step - loss: 0.1040 - accuracy: 0.9937 - val_loss: 0.1337 - val_accuracy: 0.9838\n",
            "Epoch 7/16\n",
            "7/7 [==============================] - 0s 15ms/step - loss: 0.1133 - accuracy: 0.9823 - val_loss: 0.1322 - val_accuracy: 0.9838\n",
            "Epoch 8/16\n",
            "7/7 [==============================] - 0s 14ms/step - loss: 0.1112 - accuracy: 0.9881 - val_loss: 0.1308 - val_accuracy: 0.9838\n",
            "Epoch 9/16\n",
            "7/7 [==============================] - 0s 13ms/step - loss: 0.0993 - accuracy: 0.9879 - val_loss: 0.1290 - val_accuracy: 0.9838\n",
            "Epoch 10/16\n",
            "7/7 [==============================] - 0s 13ms/step - loss: 0.1016 - accuracy: 0.9946 - val_loss: 0.1277 - val_accuracy: 0.9838\n",
            "Epoch 11/16\n",
            "7/7 [==============================] - 0s 14ms/step - loss: 0.0996 - accuracy: 0.9892 - val_loss: 0.1264 - val_accuracy: 0.9848\n",
            "Epoch 12/16\n",
            "7/7 [==============================] - 0s 14ms/step - loss: 0.1110 - accuracy: 0.9892 - val_loss: 0.1250 - val_accuracy: 0.9848\n",
            "Epoch 13/16\n",
            "7/7 [==============================] - 0s 13ms/step - loss: 0.0935 - accuracy: 0.9981 - val_loss: 0.1236 - val_accuracy: 0.9848\n",
            "Epoch 14/16\n",
            "7/7 [==============================] - 0s 13ms/step - loss: 0.0911 - accuracy: 0.9963 - val_loss: 0.1224 - val_accuracy: 0.9858\n",
            "Epoch 15/16\n",
            "7/7 [==============================] - 0s 14ms/step - loss: 0.0994 - accuracy: 0.9892 - val_loss: 0.1212 - val_accuracy: 0.9858\n",
            "Epoch 16/16\n",
            "7/7 [==============================] - 0s 14ms/step - loss: 0.0926 - accuracy: 1.0000 - val_loss: 0.1200 - val_accuracy: 0.9868\n"
          ],
          "name": "stdout"
        }
      ]
    },
    {
      "cell_type": "code",
      "metadata": {
        "colab": {
          "base_uri": "https://localhost:8080/"
        },
        "id": "d3e7lGZfI1lY",
        "outputId": "e337170d-f449-4317-a2ca-d247bfc242d5"
      },
      "source": [
        "model_B_on_A.evaluate(X_test_B, y_test_B)"
      ],
      "execution_count": 68,
      "outputs": [
        {
          "output_type": "stream",
          "text": [
            "63/63 [==============================] - 0s 2ms/step - loss: 0.1168 - accuracy: 0.9875\n"
          ],
          "name": "stdout"
        },
        {
          "output_type": "execute_result",
          "data": {
            "text/plain": [
              "[0.11678335815668106, 0.987500011920929]"
            ]
          },
          "metadata": {
            "tags": []
          },
          "execution_count": 68
        }
      ]
    },
    {
      "cell_type": "markdown",
      "metadata": {
        "id": "mX_WGEGtLO2e"
      },
      "source": [
        "### 11.2.2 비지도 사전훈련"
      ]
    },
    {
      "cell_type": "markdown",
      "metadata": {
        "id": "NRM7SnK_LY-k"
      },
      "source": [
        "레이블되지 않은 훈련 데이터를 많이 모을 수 있다면 이를 사용하여 오토인코더나 생성적 적대 신경망과 같은 비지도 학습 모델을 훈련할 수 있다. 그다음 오토인코더나 GAN 판별자의 하위층을 재사용하고 그 위에 새로운 작업에 맞는 출력층을 추가할 수 있다. 그다음 지도 학습으로 (즉, 레이블된 훈련 샘플로) 최종 네트워크를 세밀하게 튜닝한다."
      ]
    },
    {
      "cell_type": "markdown",
      "metadata": {
        "id": "2jvI346OMdgc"
      },
      "source": [
        "### 11.2.3 보조 작업에서 사전훈련"
      ]
    },
    {
      "cell_type": "markdown",
      "metadata": {
        "id": "1XsxhUZmMkG7"
      },
      "source": [
        "레이블된 훈련 데이터가 많지 않다면 마지막 선택 사항은 레이블된 훈련 데이터를 쉽게 얻거나 생성할 수 있는 보조 작업에서 첫 번째 신경망을 훈련하는 것이다."
      ]
    },
    {
      "cell_type": "markdown",
      "metadata": {
        "id": "n3th1a9tN7HP"
      },
      "source": [
        "## 11.3 고속 옵티마이저"
      ]
    },
    {
      "cell_type": "markdown",
      "metadata": {
        "id": "sgleX2BeORso"
      },
      "source": [
        "훈련속도를 크게 높일 수 있는 또 다른 방법으로 표준적인 경사 하강법 오티마이저 대신 더 빠른 옵티마이저를 사용할 수 있다. 모멘텀 최적화, 네스테로프 가속 경사, ADaGrad, RMSProp, Adam, Nadam 옵티마이저"
      ]
    },
    {
      "cell_type": "markdown",
      "metadata": {
        "id": "kx52g67hOjzY"
      },
      "source": [
        "### 11.3.1 모멘텀 최적화"
      ]
    },
    {
      "cell_type": "markdown",
      "metadata": {
        "id": "S7o3I2JyPm9N"
      },
      "source": [
        "모멘텀 최적화는 이전 그레이디언트가 얼마였는지를 상당히 중요하게 생각한다. 그레이디언트를 속도가 아니라 가속도로 사용한다. 일종의 마찰저항을 표현하고 모멘텀이 너무 커지는 것을 막기 위해 이 알고리즘에는 모멘텀이라는 새로운 하이퍼파라미터가 등장한다. 배치 정규화를 사용하지 않는 심층 신경망에서 모멘텀 최적화를 사용하면 큰 도움이 된다. 또한 이 기법은 지역 최적점(local optima)을 건너뛰도록 하는 데도 도움이 된다."
      ]
    },
    {
      "cell_type": "code",
      "metadata": {
        "id": "wF0SBae2JAOP"
      },
      "source": [
        "optimizer = keras.optimizers.SGD(lr=0.001, momentum=0.9)"
      ],
      "execution_count": 69,
      "outputs": []
    },
    {
      "cell_type": "markdown",
      "metadata": {
        "id": "FhsuTv8kRYdy"
      },
      "source": [
        "### 11.3.2. 네스테로프 가속 경사"
      ]
    },
    {
      "cell_type": "code",
      "metadata": {
        "id": "ovnaJy3fRULG"
      },
      "source": [
        "optimizer = keras.optimizers.SGD(lr=0.001, momentum=0.9, nesterov=True)"
      ],
      "execution_count": 70,
      "outputs": []
    },
    {
      "cell_type": "markdown",
      "metadata": {
        "id": "eUFNfaUSSRFn"
      },
      "source": [
        "### 11.3.3 AdaGrad"
      ]
    },
    {
      "cell_type": "markdown",
      "metadata": {
        "id": "CeXJJTkVTs6r"
      },
      "source": [
        "학습률을 감소시키지만 경사가 완만한 차원보다 가파른 차원에 대해 더 빠르게 감소된다. 이를 적응적 학습률이라고 부르며, 전역 최적점 방향으로 더 곧장 가도록 갱신되는 데 도움이 된다."
      ]
    },
    {
      "cell_type": "code",
      "metadata": {
        "id": "q7oyNAneSLQp"
      },
      "source": [
        "optimizer = keras.optimizers.Adagrad(lr=0.001)"
      ],
      "execution_count": 71,
      "outputs": []
    },
    {
      "cell_type": "markdown",
      "metadata": {
        "id": "Y7xgLpyPjY0C"
      },
      "source": [
        "### 11.3.4 RMSProp"
      ]
    },
    {
      "cell_type": "code",
      "metadata": {
        "id": "bl_tIEPLcrrS"
      },
      "source": [
        "optimizer = keras.optimizers.RMSprop(lr=0.001, rho=0.9)"
      ],
      "execution_count": 72,
      "outputs": []
    },
    {
      "cell_type": "markdown",
      "metadata": {
        "id": "NggV6nIokB6T"
      },
      "source": [
        "### 11.3.5 Adam과 Nadam 최적화"
      ]
    },
    {
      "cell_type": "markdown",
      "metadata": {
        "id": "oZlIuco05YvK"
      },
      "source": [
        "* Adam"
      ]
    },
    {
      "cell_type": "code",
      "metadata": {
        "id": "l7dj9RdxjxQz"
      },
      "source": [
        "optimizer = keras.optimizers.Adam(lr=0.001, beta_1=0.9, beta_2=0.999)"
      ],
      "execution_count": 73,
      "outputs": []
    },
    {
      "cell_type": "markdown",
      "metadata": {
        "id": "JvpR_1Yw5cFN"
      },
      "source": [
        "* AdaMax"
      ]
    },
    {
      "cell_type": "code",
      "metadata": {
        "id": "bkZMf91X1D2m"
      },
      "source": [
        "optimizer = keras.optimizers.Adamax(lr=0.001, beta_1=0.9, beta_2=0.999)"
      ],
      "execution_count": 74,
      "outputs": []
    },
    {
      "cell_type": "markdown",
      "metadata": {
        "id": "0ADtoCN26FCa"
      },
      "source": [
        "* Nadam"
      ]
    },
    {
      "cell_type": "code",
      "metadata": {
        "id": "K3xwEHnB5qhJ"
      },
      "source": [
        "optimizer = keras.optimizers.Nadam(lr=0.001, beta_1=0.9, beta_2=0.999)"
      ],
      "execution_count": 75,
      "outputs": []
    },
    {
      "cell_type": "markdown",
      "metadata": {
        "id": "kuBurlG764Eu"
      },
      "source": [
        "### 11.3.6 학습률 스케줄링"
      ]
    },
    {
      "cell_type": "markdown",
      "metadata": {
        "id": "0ubZ9Xrc7Th4"
      },
      "source": [
        "* 거듭제곱 기반 스케줄링(power scheduling)  \n",
        "lr = lr0 / (1 + steps / s)**c  \n",
        "학습률은 각 스텝마다 감소한다."
      ]
    },
    {
      "cell_type": "code",
      "metadata": {
        "id": "g5VWNDW96PPI"
      },
      "source": [
        "optimizer = keras.optimizers.SGD(lr=0.01, decay=1e-4)"
      ],
      "execution_count": 76,
      "outputs": []
    },
    {
      "cell_type": "code",
      "metadata": {
        "id": "fI047xsW8BVO"
      },
      "source": [
        "model = keras.models.Sequential([\n",
        "    keras.layers.Flatten(input_shape=[28, 28]),\n",
        "    keras.layers.Dense(300, activation=\"selu\", kernel_initializer=\"lecun_normal\"),\n",
        "    keras.layers.Dense(100, activation=\"selu\", kernel_initializer=\"lecun_normal\"),\n",
        "    keras.layers.Dense(10, activation=\"softmax\")\n",
        "])\n",
        "model.compile(loss=\"sparse_categorical_crossentropy\", optimizer=optimizer, metrics=[\"accuracy\"])"
      ],
      "execution_count": 77,
      "outputs": []
    },
    {
      "cell_type": "code",
      "metadata": {
        "colab": {
          "base_uri": "https://localhost:8080/"
        },
        "id": "sEtz0WSJ8Tic",
        "outputId": "3e228714-4c43-4477-9d8c-f73efe28bc9c"
      },
      "source": [
        "n_epochs = 25\n",
        "history = model.fit(X_train_scaled, y_train, epochs=n_epochs,\n",
        "                    validation_data=(X_valid_scaled, y_valid))"
      ],
      "execution_count": 78,
      "outputs": [
        {
          "output_type": "stream",
          "text": [
            "Epoch 1/25\n",
            "1719/1719 [==============================] - 4s 2ms/step - loss: 0.5980 - accuracy: 0.7933 - val_loss: 0.4029 - val_accuracy: 0.8604\n",
            "Epoch 2/25\n",
            "1719/1719 [==============================] - 3s 2ms/step - loss: 0.3830 - accuracy: 0.8638 - val_loss: 0.3717 - val_accuracy: 0.8726\n",
            "Epoch 3/25\n",
            "1719/1719 [==============================] - 3s 2ms/step - loss: 0.3491 - accuracy: 0.8775 - val_loss: 0.3748 - val_accuracy: 0.8748\n",
            "Epoch 4/25\n",
            "1719/1719 [==============================] - 3s 2ms/step - loss: 0.3276 - accuracy: 0.8814 - val_loss: 0.3501 - val_accuracy: 0.8800\n",
            "Epoch 5/25\n",
            "1719/1719 [==============================] - 3s 2ms/step - loss: 0.3172 - accuracy: 0.8859 - val_loss: 0.3449 - val_accuracy: 0.8778\n",
            "Epoch 6/25\n",
            "1719/1719 [==============================] - 3s 2ms/step - loss: 0.2923 - accuracy: 0.8940 - val_loss: 0.3416 - val_accuracy: 0.8832\n",
            "Epoch 7/25\n",
            "1719/1719 [==============================] - 3s 2ms/step - loss: 0.2870 - accuracy: 0.8971 - val_loss: 0.3357 - val_accuracy: 0.8860\n",
            "Epoch 8/25\n",
            "1719/1719 [==============================] - 3s 2ms/step - loss: 0.2721 - accuracy: 0.9032 - val_loss: 0.3410 - val_accuracy: 0.8836\n",
            "Epoch 9/25\n",
            "1719/1719 [==============================] - 3s 2ms/step - loss: 0.2729 - accuracy: 0.9004 - val_loss: 0.3293 - val_accuracy: 0.8874\n",
            "Epoch 10/25\n",
            "1719/1719 [==============================] - 4s 2ms/step - loss: 0.2585 - accuracy: 0.9073 - val_loss: 0.3261 - val_accuracy: 0.8886\n",
            "Epoch 11/25\n",
            "1719/1719 [==============================] - 3s 2ms/step - loss: 0.2530 - accuracy: 0.9099 - val_loss: 0.3267 - val_accuracy: 0.8874\n",
            "Epoch 12/25\n",
            "1719/1719 [==============================] - 3s 2ms/step - loss: 0.2485 - accuracy: 0.9102 - val_loss: 0.3332 - val_accuracy: 0.8832\n",
            "Epoch 13/25\n",
            "1719/1719 [==============================] - 3s 2ms/step - loss: 0.2421 - accuracy: 0.9145 - val_loss: 0.3254 - val_accuracy: 0.8902\n",
            "Epoch 14/25\n",
            "1719/1719 [==============================] - 3s 2ms/step - loss: 0.2372 - accuracy: 0.9145 - val_loss: 0.3288 - val_accuracy: 0.8890\n",
            "Epoch 15/25\n",
            "1719/1719 [==============================] - 3s 2ms/step - loss: 0.2363 - accuracy: 0.9152 - val_loss: 0.3241 - val_accuracy: 0.8872\n",
            "Epoch 16/25\n",
            "1719/1719 [==============================] - 4s 2ms/step - loss: 0.2311 - accuracy: 0.9175 - val_loss: 0.3203 - val_accuracy: 0.8912\n",
            "Epoch 17/25\n",
            "1719/1719 [==============================] - 4s 2ms/step - loss: 0.2236 - accuracy: 0.9208 - val_loss: 0.3235 - val_accuracy: 0.8904\n",
            "Epoch 18/25\n",
            "1719/1719 [==============================] - 3s 2ms/step - loss: 0.2248 - accuracy: 0.9191 - val_loss: 0.3189 - val_accuracy: 0.8924\n",
            "Epoch 19/25\n",
            "1719/1719 [==============================] - 3s 2ms/step - loss: 0.2237 - accuracy: 0.9210 - val_loss: 0.3229 - val_accuracy: 0.8896\n",
            "Epoch 20/25\n",
            "1719/1719 [==============================] - 3s 2ms/step - loss: 0.2229 - accuracy: 0.9217 - val_loss: 0.3209 - val_accuracy: 0.8918\n",
            "Epoch 21/25\n",
            "1719/1719 [==============================] - 3s 2ms/step - loss: 0.2194 - accuracy: 0.9230 - val_loss: 0.3207 - val_accuracy: 0.8918\n",
            "Epoch 22/25\n",
            "1719/1719 [==============================] - 3s 2ms/step - loss: 0.2164 - accuracy: 0.9231 - val_loss: 0.3180 - val_accuracy: 0.8940\n",
            "Epoch 23/25\n",
            "1719/1719 [==============================] - 3s 2ms/step - loss: 0.2129 - accuracy: 0.9245 - val_loss: 0.3193 - val_accuracy: 0.8908\n",
            "Epoch 24/25\n",
            "1719/1719 [==============================] - 3s 2ms/step - loss: 0.2076 - accuracy: 0.9277 - val_loss: 0.3212 - val_accuracy: 0.8892\n",
            "Epoch 25/25\n",
            "1719/1719 [==============================] - 3s 2ms/step - loss: 0.2103 - accuracy: 0.9257 - val_loss: 0.3211 - val_accuracy: 0.8934\n"
          ],
          "name": "stdout"
        }
      ]
    },
    {
      "cell_type": "code",
      "metadata": {
        "colab": {
          "base_uri": "https://localhost:8080/",
          "height": 303
        },
        "id": "PxiL5ZZq8u0h",
        "outputId": "ccb4ab1f-c7dc-4a63-9bfd-f550bca064ab"
      },
      "source": [
        "learning_rate = 0.01\n",
        "decay = 1e-4\n",
        "batch_size = 32\n",
        "n_step_per_epoch = len(X_train) // batch_size\n",
        "epochs = np.arange(n_epochs)\n",
        "lrs = learning_rate / (1 + decay * epochs * n_step_per_epoch)\n",
        "\n",
        "plt.plot(epochs, lrs,  \"o-\")\n",
        "plt.axis([0, n_epochs - 1, 0, 0.01])\n",
        "plt.xlabel(\"Epoch\")\n",
        "plt.ylabel(\"Learning Rate\")\n",
        "plt.title(\"Power Scheduling\", fontsize=14)\n",
        "plt.grid(True)\n",
        "plt.show()"
      ],
      "execution_count": 79,
      "outputs": [
        {
          "output_type": "display_data",
          "data": {
            "image/png": "[encoded data removed]",
            "text/plain": [
              "<Figure size 432x288 with 1 Axes>"
            ]
          },
          "metadata": {
            "tags": [],
            "needs_background": "light"
          }
        }
      ]
    },
    {
      "cell_type": "markdown",
      "metadata": {
        "id": "3w3hn-Gk92Si"
      },
      "source": [
        "* 지수 기반 스케줄링(exponential scheduling)  \n",
        "lr = lr0 * 0.1**(epoch / s)  \n",
        "학습률이 s 스텝마다 10배씩 점차 줄어든다."
      ]
    },
    {
      "cell_type": "code",
      "metadata": {
        "id": "oRbS6TNN9xrJ"
      },
      "source": [
        "def exponential_decay_fn(epoch):\n",
        "  return 0.01 * 0.1 **(epoch / 20)"
      ],
      "execution_count": 80,
      "outputs": []
    },
    {
      "cell_type": "code",
      "metadata": {
        "id": "Yo53EfNL-anS"
      },
      "source": [
        "def exponential_decay(lr0, s):\n",
        "  def exponential_decay_fn(epoch):\n",
        "    return 0.01 * 0.1 **(epoch / 20)\n",
        "  return exponential_decay_fn\n",
        "\n",
        "exponential_decay_fn = exponential_decay(lr0=0.01, s=20)"
      ],
      "execution_count": 81,
      "outputs": []
    },
    {
      "cell_type": "code",
      "metadata": {
        "id": "3Lz6B1tB-2Vd"
      },
      "source": [
        "model = keras.models.Sequential([\n",
        "    keras.layers.Flatten(input_shape=[28, 28]),\n",
        "    keras.layers.Dense(300, activation=\"selu\", kernel_initializer=\"lecun_normal\"),\n",
        "    keras.layers.Dense(100, activation=\"selu\", kernel_initializer=\"lecun_normal\"),\n",
        "    keras.layers.Dense(10, activation=\"softmax\")\n",
        "])\n",
        "model.compile(loss=\"sparse_categorical_crossentropy\", optimizer=\"nadam\", metrics=[\"accuracy\"])\n",
        "n_epochs = 25"
      ],
      "execution_count": 82,
      "outputs": []
    },
    {
      "cell_type": "code",
      "metadata": {
        "colab": {
          "base_uri": "https://localhost:8080/"
        },
        "id": "UVcwHsnJ-_eO",
        "outputId": "8be4df11-eee9-4c5e-c1e2-f026a37851b9"
      },
      "source": [
        "lr_scheduler = keras.callbacks.LearningRateScheduler(exponential_decay_fn)\n",
        "history = model.fit(X_train_scaled, y_train, epochs=n_epochs,\n",
        "                    validation_data=(X_valid_scaled, y_valid),\n",
        "                    callbacks=[lr_scheduler])"
      ],
      "execution_count": 83,
      "outputs": [
        {
          "output_type": "stream",
          "text": [
            "Epoch 1/25\n",
            "1719/1719 [==============================] - 6s 3ms/step - loss: 1.1250 - accuracy: 0.7325 - val_loss: 0.7404 - val_accuracy: 0.7632\n",
            "Epoch 2/25\n",
            "1719/1719 [==============================] - 4s 3ms/step - loss: 0.6838 - accuracy: 0.7865 - val_loss: 0.6216 - val_accuracy: 0.8132\n",
            "Epoch 3/25\n",
            "1719/1719 [==============================] - 5s 3ms/step - loss: 0.6428 - accuracy: 0.8066 - val_loss: 0.6087 - val_accuracy: 0.8196\n",
            "Epoch 4/25\n",
            "1719/1719 [==============================] - 5s 3ms/step - loss: 0.5572 - accuracy: 0.8268 - val_loss: 0.5745 - val_accuracy: 0.8444\n",
            "Epoch 5/25\n",
            "1719/1719 [==============================] - 5s 3ms/step - loss: 0.5298 - accuracy: 0.8316 - val_loss: 0.4760 - val_accuracy: 0.8610\n",
            "Epoch 6/25\n",
            "1719/1719 [==============================] - 5s 3ms/step - loss: 0.4472 - accuracy: 0.8573 - val_loss: 0.4809 - val_accuracy: 0.8558\n",
            "Epoch 7/25\n",
            "1719/1719 [==============================] - 5s 3ms/step - loss: 0.4189 - accuracy: 0.8621 - val_loss: 0.4909 - val_accuracy: 0.8500\n",
            "Epoch 8/25\n",
            "1719/1719 [==============================] - 5s 3ms/step - loss: 0.3818 - accuracy: 0.8736 - val_loss: 0.5162 - val_accuracy: 0.8326\n",
            "Epoch 9/25\n",
            "1719/1719 [==============================] - 4s 3ms/step - loss: 0.3692 - accuracy: 0.8762 - val_loss: 0.4942 - val_accuracy: 0.8626\n",
            "Epoch 10/25\n",
            "1719/1719 [==============================] - 5s 3ms/step - loss: 0.3253 - accuracy: 0.8892 - val_loss: 0.4297 - val_accuracy: 0.8750\n",
            "Epoch 11/25\n",
            "1719/1719 [==============================] - 5s 3ms/step - loss: 0.2981 - accuracy: 0.8980 - val_loss: 0.4799 - val_accuracy: 0.8694\n",
            "Epoch 12/25\n",
            "1719/1719 [==============================] - 5s 3ms/step - loss: 0.2772 - accuracy: 0.9041 - val_loss: 0.4336 - val_accuracy: 0.8682\n",
            "Epoch 13/25\n",
            "1719/1719 [==============================] - 5s 3ms/step - loss: 0.2637 - accuracy: 0.9086 - val_loss: 0.4307 - val_accuracy: 0.8818\n",
            "Epoch 14/25\n",
            "1719/1719 [==============================] - 5s 3ms/step - loss: 0.2410 - accuracy: 0.9150 - val_loss: 0.4512 - val_accuracy: 0.8822\n",
            "Epoch 15/25\n",
            "1719/1719 [==============================] - 5s 3ms/step - loss: 0.2310 - accuracy: 0.9202 - val_loss: 0.4745 - val_accuracy: 0.8864\n",
            "Epoch 16/25\n",
            "1719/1719 [==============================] - 5s 3ms/step - loss: 0.2105 - accuracy: 0.9257 - val_loss: 0.4708 - val_accuracy: 0.8866\n",
            "Epoch 17/25\n",
            "1719/1719 [==============================] - 5s 3ms/step - loss: 0.1880 - accuracy: 0.9341 - val_loss: 0.4968 - val_accuracy: 0.8882\n",
            "Epoch 18/25\n",
            "1719/1719 [==============================] - 5s 3ms/step - loss: 0.1801 - accuracy: 0.9364 - val_loss: 0.4797 - val_accuracy: 0.8884\n",
            "Epoch 19/25\n",
            "1719/1719 [==============================] - 4s 3ms/step - loss: 0.1703 - accuracy: 0.9416 - val_loss: 0.4815 - val_accuracy: 0.8892\n",
            "Epoch 20/25\n",
            "1719/1719 [==============================] - 5s 3ms/step - loss: 0.1639 - accuracy: 0.9435 - val_loss: 0.4935 - val_accuracy: 0.8918\n",
            "Epoch 21/25\n",
            "1719/1719 [==============================] - 5s 3ms/step - loss: 0.1495 - accuracy: 0.9482 - val_loss: 0.5414 - val_accuracy: 0.8880\n",
            "Epoch 22/25\n",
            "1719/1719 [==============================] - 5s 3ms/step - loss: 0.1418 - accuracy: 0.9507 - val_loss: 0.5534 - val_accuracy: 0.8932\n",
            "Epoch 23/25\n",
            "1719/1719 [==============================] - 5s 3ms/step - loss: 0.1338 - accuracy: 0.9533 - val_loss: 0.5752 - val_accuracy: 0.8878\n",
            "Epoch 24/25\n",
            "1719/1719 [==============================] - 5s 3ms/step - loss: 0.1234 - accuracy: 0.9581 - val_loss: 0.5809 - val_accuracy: 0.8888\n",
            "Epoch 25/25\n",
            "1719/1719 [==============================] - 5s 3ms/step - loss: 0.1225 - accuracy: 0.9591 - val_loss: 0.5929 - val_accuracy: 0.8900\n"
          ],
          "name": "stdout"
        }
      ]
    },
    {
      "cell_type": "code",
      "metadata": {
        "colab": {
          "base_uri": "https://localhost:8080/",
          "height": 303
        },
        "id": "nNuCRpA4_dy0",
        "outputId": "432b4ec0-0ded-4387-b107-c1ac9374ef98"
      },
      "source": [
        "plt.plot(history.epoch, history.history[\"lr\"], \"o-\")\n",
        "plt.axis([0, n_epochs - 1, 0, 0.011])\n",
        "plt.xlabel(\"Epoch\")\n",
        "plt.ylabel(\"Learning Rate\")\n",
        "plt.title(\"Exponential Scheduling\", fontsize=14)\n",
        "plt.grid(True)\n",
        "plt.show()"
      ],
      "execution_count": 84,
      "outputs": [
        {
          "output_type": "display_data",
          "data": {
            "image/png": "[encoded data removed]",
            "text/plain": [
              "<Figure size 432x288 with 1 Axes>"
            ]
          },
          "metadata": {
            "tags": [],
            "needs_background": "light"
          }
        }
      ]
    },
    {
      "cell_type": "markdown",
      "metadata": {
        "id": "aiQqcjc1Akyn"
      },
      "source": [
        "이 스케줄함수는 두번째 매개변수로 현재학습률을 받을 수 있다."
      ]
    },
    {
      "cell_type": "code",
      "metadata": {
        "id": "uD4kvZm2AJCX"
      },
      "source": [
        "def exponential_decay_fn(epoch, lr):\n",
        "  return lr * 0.1**(1/20)"
      ],
      "execution_count": 85,
      "outputs": []
    },
    {
      "cell_type": "markdown",
      "metadata": {
        "id": "d_3ujGc1BAxu"
      },
      "source": [
        "에포크가 아니라 반복마다 학습률을 업데이트하려면 사용자 정의 콜백 클래스를 작성해야 한다."
      ]
    },
    {
      "cell_type": "code",
      "metadata": {
        "colab": {
          "base_uri": "https://localhost:8080/"
        },
        "id": "gRE_NgEPA5rl",
        "outputId": "5df5eb69-1ffe-47b5-874b-0ee8274228cb"
      },
      "source": [
        "K = keras.backend\n",
        "\n",
        "class ExponentialDecay(keras.callbacks.Callback):\n",
        "    def __init__(self, s=40000):\n",
        "        super().__init__()\n",
        "        self.s = s\n",
        "\n",
        "    def on_batch_begin(self, batch, logs=None):\n",
        "        # 노트: 에포크마다 `batch` 매개변수가 재설정됩니다\n",
        "        lr = K.get_value(self.model.optimizer.lr)\n",
        "        K.set_value(self.model.optimizer.lr, lr * 0.1**(1 / s))\n",
        "\n",
        "    def on_epoch_end(self, epoch, logs=None):\n",
        "        logs = logs or {}\n",
        "        logs['lr'] = K.get_value(self.model.optimizer.lr)\n",
        "\n",
        "model = keras.models.Sequential([\n",
        "    keras.layers.Flatten(input_shape=[28, 28]),\n",
        "    keras.layers.Dense(300, activation=\"selu\", kernel_initializer=\"lecun_normal\"),\n",
        "    keras.layers.Dense(100, activation=\"selu\", kernel_initializer=\"lecun_normal\"),\n",
        "    keras.layers.Dense(10, activation=\"softmax\")\n",
        "])\n",
        "lr0 = 0.01\n",
        "optimizer = keras.optimizers.Nadam(lr=lr0)\n",
        "model.compile(loss=\"sparse_categorical_crossentropy\", optimizer=optimizer, metrics=[\"accuracy\"])\n",
        "n_epochs = 25\n",
        "\n",
        "s = 20 * len(X_train) // 32 # 20 에포크 동안 스텝 횟수 (배치 크기 = 32)\n",
        "exp_decay = ExponentialDecay(s)\n",
        "history = model.fit(X_train_scaled, y_train, epochs=n_epochs,\n",
        "                    validation_data=(X_valid_scaled, y_valid),\n",
        "                    callbacks=[exp_decay])"
      ],
      "execution_count": 86,
      "outputs": [
        {
          "output_type": "stream",
          "text": [
            "Epoch 1/25\n",
            "1719/1719 [==============================] - 6s 3ms/step - loss: 1.1087 - accuracy: 0.7400 - val_loss: 1.0278 - val_accuracy: 0.7352\n",
            "Epoch 2/25\n",
            "1719/1719 [==============================] - 6s 4ms/step - loss: 0.6610 - accuracy: 0.7959 - val_loss: 0.5505 - val_accuracy: 0.8308\n",
            "Epoch 3/25\n",
            "1719/1719 [==============================] - 6s 3ms/step - loss: 0.5444 - accuracy: 0.8261 - val_loss: 0.7267 - val_accuracy: 0.7712\n",
            "Epoch 4/25\n",
            "1719/1719 [==============================] - 6s 3ms/step - loss: 0.5203 - accuracy: 0.8348 - val_loss: 0.4962 - val_accuracy: 0.8464\n",
            "Epoch 5/25\n",
            "1719/1719 [==============================] - 6s 3ms/step - loss: 0.5045 - accuracy: 0.8412 - val_loss: 0.4959 - val_accuracy: 0.8454\n",
            "Epoch 6/25\n",
            "1719/1719 [==============================] - 6s 3ms/step - loss: 0.4374 - accuracy: 0.8591 - val_loss: 0.5554 - val_accuracy: 0.8564\n",
            "Epoch 7/25\n",
            "1719/1719 [==============================] - 6s 3ms/step - loss: 0.3884 - accuracy: 0.8747 - val_loss: 0.4349 - val_accuracy: 0.8698\n",
            "Epoch 8/25\n",
            "1719/1719 [==============================] - 5s 3ms/step - loss: 0.3609 - accuracy: 0.8822 - val_loss: 0.4906 - val_accuracy: 0.8554\n",
            "Epoch 9/25\n",
            "1719/1719 [==============================] - 6s 3ms/step - loss: 0.3373 - accuracy: 0.8865 - val_loss: 0.4492 - val_accuracy: 0.8670\n",
            "Epoch 10/25\n",
            "1719/1719 [==============================] - 5s 3ms/step - loss: 0.3054 - accuracy: 0.8966 - val_loss: 0.4127 - val_accuracy: 0.8908\n",
            "Epoch 11/25\n",
            "1719/1719 [==============================] - 6s 3ms/step - loss: 0.2792 - accuracy: 0.9054 - val_loss: 0.4105 - val_accuracy: 0.8832\n",
            "Epoch 12/25\n",
            "1719/1719 [==============================] - 6s 3ms/step - loss: 0.2554 - accuracy: 0.9114 - val_loss: 0.4401 - val_accuracy: 0.8790\n",
            "Epoch 13/25\n",
            "1719/1719 [==============================] - 6s 3ms/step - loss: 0.2437 - accuracy: 0.9175 - val_loss: 0.4127 - val_accuracy: 0.8878\n",
            "Epoch 14/25\n",
            "1719/1719 [==============================] - 6s 3ms/step - loss: 0.2193 - accuracy: 0.9243 - val_loss: 0.4420 - val_accuracy: 0.8776\n",
            "Epoch 15/25\n",
            "1719/1719 [==============================] - 6s 4ms/step - loss: 0.2151 - accuracy: 0.9252 - val_loss: 0.4399 - val_accuracy: 0.8850\n",
            "Epoch 16/25\n",
            "1719/1719 [==============================] - 6s 3ms/step - loss: 0.1978 - accuracy: 0.9329 - val_loss: 0.4331 - val_accuracy: 0.8900\n",
            "Epoch 17/25\n",
            "1719/1719 [==============================] - 5s 3ms/step - loss: 0.1766 - accuracy: 0.9398 - val_loss: 0.4789 - val_accuracy: 0.8870\n",
            "Epoch 18/25\n",
            "1719/1719 [==============================] - 6s 3ms/step - loss: 0.1646 - accuracy: 0.9437 - val_loss: 0.4562 - val_accuracy: 0.8898\n",
            "Epoch 19/25\n",
            "1719/1719 [==============================] - 6s 3ms/step - loss: 0.1531 - accuracy: 0.9473 - val_loss: 0.4947 - val_accuracy: 0.8922\n",
            "Epoch 20/25\n",
            "1719/1719 [==============================] - 6s 3ms/step - loss: 0.1451 - accuracy: 0.9504 - val_loss: 0.4786 - val_accuracy: 0.8930\n",
            "Epoch 21/25\n",
            "1719/1719 [==============================] - 6s 3ms/step - loss: 0.1335 - accuracy: 0.9550 - val_loss: 0.5178 - val_accuracy: 0.8896\n",
            "Epoch 22/25\n",
            "1719/1719 [==============================] - 6s 3ms/step - loss: 0.1249 - accuracy: 0.9579 - val_loss: 0.5345 - val_accuracy: 0.8924\n",
            "Epoch 23/25\n",
            "1719/1719 [==============================] - 6s 3ms/step - loss: 0.1159 - accuracy: 0.9615 - val_loss: 0.5899 - val_accuracy: 0.8902\n",
            "Epoch 24/25\n",
            "1719/1719 [==============================] - 6s 3ms/step - loss: 0.1068 - accuracy: 0.9657 - val_loss: 0.5800 - val_accuracy: 0.8950\n",
            "Epoch 25/25\n",
            "1719/1719 [==============================] - 5s 3ms/step - loss: 0.1055 - accuracy: 0.9663 - val_loss: 0.6182 - val_accuracy: 0.8928\n"
          ],
          "name": "stdout"
        }
      ]
    },
    {
      "cell_type": "code",
      "metadata": {
        "id": "58SKegIqBaza"
      },
      "source": [
        "n_steps = n_epochs * len(X_train) // 32\n",
        "steps = np.arange(n_steps)\n",
        "lrs = lr0 * 0.1**(steps / s)"
      ],
      "execution_count": 87,
      "outputs": []
    },
    {
      "cell_type": "code",
      "metadata": {
        "colab": {
          "base_uri": "https://localhost:8080/",
          "height": 303
        },
        "id": "OMY2I1R9CAY8",
        "outputId": "10b3be01-0f19-4066-9e15-e22b5e3df714"
      },
      "source": [
        "plt.plot(steps, lrs, \"-\", linewidth=2)\n",
        "plt.axis([0, n_steps - 1, 0, lr0 * 1.1])\n",
        "plt.xlabel(\"Batch\")\n",
        "plt.ylabel(\"Learning Rate\")\n",
        "plt.title(\"Exponential Scheduling (per batch)\", fontsize=14)\n",
        "plt.grid(True)\n",
        "plt.show()"
      ],
      "execution_count": 88,
      "outputs": [
        {
          "output_type": "display_data",
          "data": {
            "image/png": "[encoded data removed]",
            "text/plain": [
              "<Figure size 432x288 with 1 Axes>"
            ]
          },
          "metadata": {
            "tags": [],
            "needs_background": "light"
          }
        }
      ]
    },
    {
      "cell_type": "markdown",
      "metadata": {
        "id": "BzBnhQp9CGu5"
      },
      "source": [
        "* 구간별 고정 스케줄링(piecewise constant scheduling)  "
      ]
    },
    {
      "cell_type": "code",
      "metadata": {
        "id": "D9EKXpV5CCMn"
      },
      "source": [
        "def piecewise_constant_fn(epoch):\n",
        "  if epoch < 5:\n",
        "    return 0.01\n",
        "  elif epoch < 15:\n",
        "    return 0.005\n",
        "  else:\n",
        "    return 0.001"
      ],
      "execution_count": 89,
      "outputs": []
    },
    {
      "cell_type": "code",
      "metadata": {
        "id": "lhXZc4RuCyzp"
      },
      "source": [
        "def piecewise_constant(boundaries, values):\n",
        "  boundaries = np.array([0] + boundaries)\n",
        "  values = np.array(values)\n",
        "  def piecewise_constant_fn(epoch):\n",
        "    return values[np.argmax(boundaries > epoch) - 1]\n",
        "  return piecewise_constant_fn\n",
        "\n",
        "piecewise_constant_fn = piecewise_constant([5,15], [0.01, 0.005, 0.001])"
      ],
      "execution_count": 90,
      "outputs": []
    },
    {
      "cell_type": "code",
      "metadata": {
        "colab": {
          "base_uri": "https://localhost:8080/"
        },
        "id": "YQ9dFi1dDlgL",
        "outputId": "3912b735-1688-4ed2-b272-c54dc2a928bf"
      },
      "source": [
        "lr_scheduler = keras.callbacks.LearningRateScheduler(piecewise_constant_fn)\n",
        "\n",
        "model = keras.models.Sequential([\n",
        "    keras.layers.Flatten(input_shape=[28, 28]),\n",
        "    keras.layers.Dense(300, activation=\"selu\", kernel_initializer=\"lecun_normal\"),\n",
        "    keras.layers.Dense(100, activation=\"selu\", kernel_initializer=\"lecun_normal\"),\n",
        "    keras.layers.Dense(10, activation=\"softmax\")\n",
        "])\n",
        "model.compile(loss=\"sparse_categorical_crossentropy\", optimizer=\"nadam\", metrics=[\"accuracy\"])\n",
        "n_epochs = 25\n",
        "history = model.fit(X_train_scaled, y_train, epochs=n_epochs,\n",
        "                    validation_data=(X_valid_scaled, y_valid),\n",
        "                    callbacks=[lr_scheduler])"
      ],
      "execution_count": 91,
      "outputs": [
        {
          "output_type": "stream",
          "text": [
            "Epoch 1/25\n",
            "1719/1719 [==============================] - 5s 3ms/step - loss: 1.1412 - accuracy: 0.7337 - val_loss: 1.1054 - val_accuracy: 0.6608\n",
            "Epoch 2/25\n",
            "1719/1719 [==============================] - 5s 3ms/step - loss: 0.8547 - accuracy: 0.7528 - val_loss: 0.6455 - val_accuracy: 0.7974\n",
            "Epoch 3/25\n",
            "1719/1719 [==============================] - 5s 3ms/step - loss: 0.7681 - accuracy: 0.7693 - val_loss: 0.9585 - val_accuracy: 0.7052\n",
            "Epoch 4/25\n",
            "1719/1719 [==============================] - 5s 3ms/step - loss: 0.8884 - accuracy: 0.7533 - val_loss: 0.8764 - val_accuracy: 0.6954\n",
            "Epoch 5/25\n",
            "1719/1719 [==============================] - 4s 3ms/step - loss: 0.9488 - accuracy: 0.6969 - val_loss: 1.1546 - val_accuracy: 0.6254\n",
            "Epoch 6/25\n",
            "1719/1719 [==============================] - 5s 3ms/step - loss: 0.7269 - accuracy: 0.7394 - val_loss: 0.7396 - val_accuracy: 0.8082\n",
            "Epoch 7/25\n",
            "1719/1719 [==============================] - 4s 3ms/step - loss: 0.5513 - accuracy: 0.8209 - val_loss: 0.6080 - val_accuracy: 0.8164\n",
            "Epoch 8/25\n",
            "1719/1719 [==============================] - 5s 3ms/step - loss: 0.4964 - accuracy: 0.8368 - val_loss: 0.5976 - val_accuracy: 0.7892\n",
            "Epoch 9/25\n",
            "1719/1719 [==============================] - 5s 3ms/step - loss: 0.4776 - accuracy: 0.8425 - val_loss: 0.5560 - val_accuracy: 0.8346\n",
            "Epoch 10/25\n",
            "1719/1719 [==============================] - 5s 3ms/step - loss: 0.4533 - accuracy: 0.8543 - val_loss: 0.5699 - val_accuracy: 0.8482\n",
            "Epoch 11/25\n",
            "1719/1719 [==============================] - 5s 3ms/step - loss: 0.4287 - accuracy: 0.8661 - val_loss: 0.5518 - val_accuracy: 0.8474\n",
            "Epoch 12/25\n",
            "1719/1719 [==============================] - 5s 3ms/step - loss: 0.4098 - accuracy: 0.8657 - val_loss: 0.7490 - val_accuracy: 0.8434\n",
            "Epoch 13/25\n",
            "1719/1719 [==============================] - 5s 3ms/step - loss: 0.4483 - accuracy: 0.8683 - val_loss: 0.5244 - val_accuracy: 0.8718\n",
            "Epoch 14/25\n",
            "1719/1719 [==============================] - 4s 3ms/step - loss: 0.3961 - accuracy: 0.8762 - val_loss: 0.5408 - val_accuracy: 0.8616\n",
            "Epoch 15/25\n",
            "1719/1719 [==============================] - 5s 3ms/step - loss: 0.4196 - accuracy: 0.8717 - val_loss: 0.6175 - val_accuracy: 0.8586\n",
            "Epoch 16/25\n",
            "1719/1719 [==============================] - 4s 3ms/step - loss: 0.3081 - accuracy: 0.8926 - val_loss: 0.4638 - val_accuracy: 0.8860\n",
            "Epoch 17/25\n",
            "1719/1719 [==============================] - 5s 3ms/step - loss: 0.2563 - accuracy: 0.9080 - val_loss: 0.5061 - val_accuracy: 0.8818\n",
            "Epoch 18/25\n",
            "1719/1719 [==============================] - 5s 3ms/step - loss: 0.2454 - accuracy: 0.9128 - val_loss: 0.4598 - val_accuracy: 0.8822\n",
            "Epoch 19/25\n",
            "1719/1719 [==============================] - 5s 3ms/step - loss: 0.2366 - accuracy: 0.9150 - val_loss: 0.4808 - val_accuracy: 0.8872\n",
            "Epoch 20/25\n",
            "1719/1719 [==============================] - 4s 3ms/step - loss: 0.2318 - accuracy: 0.9170 - val_loss: 0.4834 - val_accuracy: 0.8862\n",
            "Epoch 21/25\n",
            "1719/1719 [==============================] - 5s 3ms/step - loss: 0.2234 - accuracy: 0.9198 - val_loss: 0.4965 - val_accuracy: 0.8844\n",
            "Epoch 22/25\n",
            "1719/1719 [==============================] - 4s 3ms/step - loss: 0.2153 - accuracy: 0.9223 - val_loss: 0.5108 - val_accuracy: 0.8880\n",
            "Epoch 23/25\n",
            "1719/1719 [==============================] - 4s 3ms/step - loss: 0.2114 - accuracy: 0.9260 - val_loss: 0.5081 - val_accuracy: 0.8828\n",
            "Epoch 24/25\n",
            "1719/1719 [==============================] - 4s 3ms/step - loss: 0.1974 - accuracy: 0.9303 - val_loss: 0.5820 - val_accuracy: 0.8856\n",
            "Epoch 25/25\n",
            "1719/1719 [==============================] - 4s 3ms/step - loss: 0.2004 - accuracy: 0.9278 - val_loss: 0.5349 - val_accuracy: 0.8862\n"
          ],
          "name": "stdout"
        }
      ]
    },
    {
      "cell_type": "code",
      "metadata": {
        "colab": {
          "base_uri": "https://localhost:8080/",
          "height": 303
        },
        "id": "XqC-1DZ-Fszh",
        "outputId": "4072b987-a848-42c1-de16-37b72e37c666"
      },
      "source": [
        "plt.plot(history.epoch, [piecewise_constant_fn(epoch) for epoch in history.epoch], \"o-\")\n",
        "plt.axis([0, n_epochs - 1, 0, 0.011])\n",
        "plt.xlabel(\"Epoch\")\n",
        "plt.ylabel(\"Learning Rate\")\n",
        "plt.title(\"Piecewise Constant Scheduling\", fontsize=14)\n",
        "plt.grid(True)\n",
        "plt.show()"
      ],
      "execution_count": 92,
      "outputs": [
        {
          "output_type": "display_data",
          "data": {
            "image/png": "[encoded data removed]",
            "text/plain": [
              "<Figure size 432x288 with 1 Axes>"
            ]
          },
          "metadata": {
            "tags": [],
            "needs_background": "light"
          }
        }
      ]
    },
    {
      "cell_type": "markdown",
      "metadata": {
        "id": "L_uUq7hlHvAI"
      },
      "source": [
        "* 성능 기반 스케줄링(perfomance scheduling)  \n",
        "매 N 스텝마다 (조기 종료처럼) 검증 오차를 측정하고 오차가 줄어들지 않으면 람다 배 만큼 학습률을 감소시킨다."
      ]
    },
    {
      "cell_type": "code",
      "metadata": {
        "id": "RuvIbVdCHnjp"
      },
      "source": [
        "tf.random.set_seed(42)\n",
        "np.random.seed(42)"
      ],
      "execution_count": 93,
      "outputs": []
    },
    {
      "cell_type": "code",
      "metadata": {
        "colab": {
          "base_uri": "https://localhost:8080/"
        },
        "id": "bHIdv5rcISdN",
        "outputId": "7d713129-6160-4cc4-fade-c7d5933e4dfe"
      },
      "source": [
        "lr_scheduler = keras.callbacks.ReduceLROnPlateau(factor=0.5, patience=5)\n",
        "\n",
        "model = keras.models.Sequential([\n",
        "    keras.layers.Flatten(input_shape=[28, 28]),\n",
        "    keras.layers.Dense(300, activation=\"selu\", kernel_initializer=\"lecun_normal\"),\n",
        "    keras.layers.Dense(100, activation=\"selu\", kernel_initializer=\"lecun_normal\"),\n",
        "    keras.layers.Dense(10, activation=\"softmax\")\n",
        "])\n",
        "optimizer = keras.optimizers.SGD(lr=0.02, momentum=0.9)\n",
        "model.compile(loss=\"sparse_categorical_crossentropy\", optimizer=optimizer, metrics=[\"accuracy\"])\n",
        "n_epochs = 25\n",
        "history = model.fit(X_train_scaled, y_train, epochs=n_epochs,\n",
        "                    validation_data=(X_valid_scaled, y_valid),\n",
        "                    callbacks=[lr_scheduler])"
      ],
      "execution_count": 94,
      "outputs": [
        {
          "output_type": "stream",
          "text": [
            "Epoch 1/25\n",
            "1719/1719 [==============================] - 4s 2ms/step - loss: 0.7133 - accuracy: 0.7771 - val_loss: 0.4908 - val_accuracy: 0.8486\n",
            "Epoch 2/25\n",
            "1719/1719 [==============================] - 3s 2ms/step - loss: 0.4814 - accuracy: 0.8404 - val_loss: 0.5758 - val_accuracy: 0.8276\n",
            "Epoch 3/25\n",
            "1719/1719 [==============================] - 3s 2ms/step - loss: 0.4865 - accuracy: 0.8451 - val_loss: 0.5217 - val_accuracy: 0.8482\n",
            "Epoch 4/25\n",
            "1719/1719 [==============================] - 4s 2ms/step - loss: 0.5018 - accuracy: 0.8476 - val_loss: 0.5181 - val_accuracy: 0.8534\n",
            "Epoch 5/25\n",
            "1719/1719 [==============================] - 3s 2ms/step - loss: 0.5333 - accuracy: 0.8468 - val_loss: 0.4902 - val_accuracy: 0.8514\n",
            "Epoch 6/25\n",
            "1719/1719 [==============================] - 3s 2ms/step - loss: 0.5028 - accuracy: 0.8536 - val_loss: 0.5183 - val_accuracy: 0.8502\n",
            "Epoch 7/25\n",
            "1719/1719 [==============================] - 3s 2ms/step - loss: 0.4875 - accuracy: 0.8592 - val_loss: 0.5478 - val_accuracy: 0.8542\n",
            "Epoch 8/25\n",
            "1719/1719 [==============================] - 3s 2ms/step - loss: 0.5055 - accuracy: 0.8571 - val_loss: 0.6187 - val_accuracy: 0.8328\n",
            "Epoch 9/25\n",
            "1719/1719 [==============================] - 4s 2ms/step - loss: 0.4893 - accuracy: 0.8607 - val_loss: 0.6539 - val_accuracy: 0.8386\n",
            "Epoch 10/25\n",
            "1719/1719 [==============================] - 4s 2ms/step - loss: 0.4943 - accuracy: 0.8637 - val_loss: 0.6894 - val_accuracy: 0.8488\n",
            "Epoch 11/25\n",
            "1719/1719 [==============================] - 3s 2ms/step - loss: 0.3056 - accuracy: 0.8983 - val_loss: 0.4188 - val_accuracy: 0.8822\n",
            "Epoch 12/25\n",
            "1719/1719 [==============================] - 4s 2ms/step - loss: 0.2370 - accuracy: 0.9141 - val_loss: 0.4624 - val_accuracy: 0.8700\n",
            "Epoch 13/25\n",
            "1719/1719 [==============================] - 4s 2ms/step - loss: 0.2097 - accuracy: 0.9217 - val_loss: 0.4813 - val_accuracy: 0.8796\n",
            "Epoch 14/25\n",
            "1719/1719 [==============================] - 3s 2ms/step - loss: 0.1917 - accuracy: 0.9274 - val_loss: 0.4596 - val_accuracy: 0.8770\n",
            "Epoch 15/25\n",
            "1719/1719 [==============================] - 3s 2ms/step - loss: 0.1928 - accuracy: 0.9289 - val_loss: 0.4750 - val_accuracy: 0.8790\n",
            "Epoch 16/25\n",
            "1719/1719 [==============================] - 3s 2ms/step - loss: 0.1780 - accuracy: 0.9326 - val_loss: 0.4600 - val_accuracy: 0.8912\n",
            "Epoch 17/25\n",
            "1719/1719 [==============================] - 3s 2ms/step - loss: 0.1257 - accuracy: 0.9507 - val_loss: 0.4677 - val_accuracy: 0.8870\n",
            "Epoch 18/25\n",
            "1719/1719 [==============================] - 3s 2ms/step - loss: 0.1105 - accuracy: 0.9567 - val_loss: 0.4853 - val_accuracy: 0.8900\n",
            "Epoch 19/25\n",
            "1719/1719 [==============================] - 3s 2ms/step - loss: 0.1040 - accuracy: 0.9591 - val_loss: 0.5020 - val_accuracy: 0.8902\n",
            "Epoch 20/25\n",
            "1719/1719 [==============================] - 3s 2ms/step - loss: 0.0972 - accuracy: 0.9620 - val_loss: 0.5096 - val_accuracy: 0.8928\n",
            "Epoch 21/25\n",
            "1719/1719 [==============================] - 3s 2ms/step - loss: 0.0918 - accuracy: 0.9638 - val_loss: 0.5395 - val_accuracy: 0.8902\n",
            "Epoch 22/25\n",
            "1719/1719 [==============================] - 3s 2ms/step - loss: 0.0781 - accuracy: 0.9695 - val_loss: 0.5281 - val_accuracy: 0.8932\n",
            "Epoch 23/25\n",
            "1719/1719 [==============================] - 3s 2ms/step - loss: 0.0681 - accuracy: 0.9742 - val_loss: 0.5334 - val_accuracy: 0.8942\n",
            "Epoch 24/25\n",
            "1719/1719 [==============================] - 3s 2ms/step - loss: 0.0638 - accuracy: 0.9769 - val_loss: 0.5532 - val_accuracy: 0.8910\n",
            "Epoch 25/25\n",
            "1719/1719 [==============================] - 3s 2ms/step - loss: 0.0614 - accuracy: 0.9772 - val_loss: 0.5662 - val_accuracy: 0.8922\n"
          ],
          "name": "stdout"
        }
      ]
    },
    {
      "cell_type": "code",
      "metadata": {
        "colab": {
          "base_uri": "https://localhost:8080/",
          "height": 303
        },
        "id": "GjQFXk0MIgyn",
        "outputId": "958005d7-eaed-4b0c-bb79-022ea94433fd"
      },
      "source": [
        "plt.plot(history.epoch, history.history[\"lr\"], \"bo-\")\n",
        "plt.xlabel(\"Epoch\")\n",
        "plt.ylabel(\"Learning Rate\", color='b')\n",
        "plt.tick_params('y', colors='b')\n",
        "plt.gca().set_xlim(0, n_epochs - 1)\n",
        "plt.grid(True)\n",
        "\n",
        "ax2 = plt.gca().twinx()\n",
        "ax2.plot(history.epoch, history.history[\"val_loss\"], \"r^-\")\n",
        "ax2.set_ylabel('Validation Loss', color='r')\n",
        "ax2.tick_params('y', colors='r')\n",
        "\n",
        "plt.title(\"Reduce LR on Plateau\", fontsize=14)\n",
        "plt.show()"
      ],
      "execution_count": 95,
      "outputs": [
        {
          "output_type": "display_data",
          "data": {
            "image/png": "[encoded data removed]",
            "text/plain": [
              "<Figure size 432x288 with 2 Axes>"
            ]
          },
          "metadata": {
            "tags": [],
            "needs_background": "light"
          }
        }
      ]
    },
    {
      "cell_type": "markdown",
      "metadata": {
        "id": "4cDnWJ8-JHB4"
      },
      "source": [
        "* tf.keras 스케줄러"
      ]
    },
    {
      "cell_type": "code",
      "metadata": {
        "colab": {
          "base_uri": "https://localhost:8080/"
        },
        "id": "vjSRSDRyI0wr",
        "outputId": "505b12ec-41f6-48be-c049-c26172191f7e"
      },
      "source": [
        "model = keras.models.Sequential([\n",
        "    keras.layers.Flatten(input_shape=[28, 28]),\n",
        "    keras.layers.Dense(300, activation=\"selu\", kernel_initializer=\"lecun_normal\"),\n",
        "    keras.layers.Dense(100, activation=\"selu\", kernel_initializer=\"lecun_normal\"),\n",
        "    keras.layers.Dense(10, activation=\"softmax\")\n",
        "])\n",
        "s = 20 * len(X_train) // 32 # number of steps in 20 epochs (batch size = 32)\n",
        "learning_rate = keras.optimizers.schedules.ExponentialDecay(0.01, s, 0.1)\n",
        "optimizer = keras.optimizers.SGD(learning_rate)\n",
        "model.compile(loss=\"sparse_categorical_crossentropy\", optimizer=optimizer, metrics=[\"accuracy\"])\n",
        "n_epochs = 25\n",
        "history = model.fit(X_train_scaled, y_train, epochs=n_epochs,\n",
        "                    validation_data=(X_valid_scaled, y_valid))"
      ],
      "execution_count": 96,
      "outputs": [
        {
          "output_type": "stream",
          "text": [
            "Epoch 1/25\n",
            "1719/1719 [==============================] - 4s 2ms/step - loss: 0.5995 - accuracy: 0.7923 - val_loss: 0.4092 - val_accuracy: 0.8604\n",
            "Epoch 2/25\n",
            "1719/1719 [==============================] - 3s 2ms/step - loss: 0.3890 - accuracy: 0.8614 - val_loss: 0.3738 - val_accuracy: 0.8694\n",
            "Epoch 3/25\n",
            "1719/1719 [==============================] - 3s 2ms/step - loss: 0.3530 - accuracy: 0.8776 - val_loss: 0.3735 - val_accuracy: 0.8680\n",
            "Epoch 4/25\n",
            "1719/1719 [==============================] - 3s 2ms/step - loss: 0.3296 - accuracy: 0.8815 - val_loss: 0.3492 - val_accuracy: 0.8800\n",
            "Epoch 5/25\n",
            "1719/1719 [==============================] - 3s 2ms/step - loss: 0.3176 - accuracy: 0.8868 - val_loss: 0.3431 - val_accuracy: 0.8794\n",
            "Epoch 6/25\n",
            "1719/1719 [==============================] - 3s 2ms/step - loss: 0.2928 - accuracy: 0.8953 - val_loss: 0.3415 - val_accuracy: 0.8814\n",
            "Epoch 7/25\n",
            "1719/1719 [==============================] - 3s 2ms/step - loss: 0.2852 - accuracy: 0.8988 - val_loss: 0.3355 - val_accuracy: 0.8812\n",
            "Epoch 8/25\n",
            "1719/1719 [==============================] - 4s 2ms/step - loss: 0.2713 - accuracy: 0.9039 - val_loss: 0.3367 - val_accuracy: 0.8820\n",
            "Epoch 9/25\n",
            "1719/1719 [==============================] - 3s 2ms/step - loss: 0.2713 - accuracy: 0.9043 - val_loss: 0.3266 - val_accuracy: 0.8862\n",
            "Epoch 10/25\n",
            "1719/1719 [==============================] - 3s 2ms/step - loss: 0.2569 - accuracy: 0.9083 - val_loss: 0.3242 - val_accuracy: 0.8854\n",
            "Epoch 11/25\n",
            "1719/1719 [==============================] - 4s 2ms/step - loss: 0.2501 - accuracy: 0.9118 - val_loss: 0.3253 - val_accuracy: 0.8864\n",
            "Epoch 12/25\n",
            "1719/1719 [==============================] - 3s 2ms/step - loss: 0.2452 - accuracy: 0.9149 - val_loss: 0.3303 - val_accuracy: 0.8808\n",
            "Epoch 13/25\n",
            "1719/1719 [==============================] - 3s 2ms/step - loss: 0.2408 - accuracy: 0.9157 - val_loss: 0.3220 - val_accuracy: 0.8858\n",
            "Epoch 14/25\n",
            "1719/1719 [==============================] - 3s 2ms/step - loss: 0.2378 - accuracy: 0.9155 - val_loss: 0.3224 - val_accuracy: 0.8860\n",
            "Epoch 15/25\n",
            "1719/1719 [==============================] - 3s 2ms/step - loss: 0.2377 - accuracy: 0.9170 - val_loss: 0.3211 - val_accuracy: 0.8878\n",
            "Epoch 16/25\n",
            "1719/1719 [==============================] - 3s 2ms/step - loss: 0.2316 - accuracy: 0.9191 - val_loss: 0.3187 - val_accuracy: 0.8888\n",
            "Epoch 17/25\n",
            "1719/1719 [==============================] - 3s 2ms/step - loss: 0.2264 - accuracy: 0.9212 - val_loss: 0.3199 - val_accuracy: 0.8894\n",
            "Epoch 18/25\n",
            "1719/1719 [==============================] - 4s 2ms/step - loss: 0.2283 - accuracy: 0.9189 - val_loss: 0.3170 - val_accuracy: 0.8904\n",
            "Epoch 19/25\n",
            "1719/1719 [==============================] - 3s 2ms/step - loss: 0.2284 - accuracy: 0.9206 - val_loss: 0.3198 - val_accuracy: 0.8880\n",
            "Epoch 20/25\n",
            "1719/1719 [==============================] - 3s 2ms/step - loss: 0.2286 - accuracy: 0.9217 - val_loss: 0.3171 - val_accuracy: 0.8894\n",
            "Epoch 21/25\n",
            "1719/1719 [==============================] - 4s 2ms/step - loss: 0.2264 - accuracy: 0.9209 - val_loss: 0.3180 - val_accuracy: 0.8900\n",
            "Epoch 22/25\n",
            "1719/1719 [==============================] - 3s 2ms/step - loss: 0.2257 - accuracy: 0.9203 - val_loss: 0.3165 - val_accuracy: 0.8910\n",
            "Epoch 23/25\n",
            "1719/1719 [==============================] - 4s 2ms/step - loss: 0.2222 - accuracy: 0.9231 - val_loss: 0.3172 - val_accuracy: 0.8904\n",
            "Epoch 24/25\n",
            "1719/1719 [==============================] - 3s 2ms/step - loss: 0.2180 - accuracy: 0.9243 - val_loss: 0.3168 - val_accuracy: 0.8902\n",
            "Epoch 25/25\n",
            "1719/1719 [==============================] - 3s 2ms/step - loss: 0.2222 - accuracy: 0.9233 - val_loss: 0.3166 - val_accuracy: 0.8916\n"
          ],
          "name": "stdout"
        }
      ]
    },
    {
      "cell_type": "markdown",
      "metadata": {
        "id": "OpHXJcJpJReb"
      },
      "source": [
        "구간별 고정 스케줄링은 다음을 사용"
      ]
    },
    {
      "cell_type": "code",
      "metadata": {
        "id": "V2J_a906JLTL"
      },
      "source": [
        "learning_rate = keras.optimizers.schedules.PiecewiseConstantDecay(\n",
        "    boundaries=[5. * n_step_per_epoch, 15. * n_step_per_epoch],\n",
        "    values=[0.01, 0.005, 0.001])"
      ],
      "execution_count": 97,
      "outputs": []
    },
    {
      "cell_type": "markdown",
      "metadata": {
        "id": "aXBiCf6fJdV6"
      },
      "source": [
        "* 1 사이클 스케줄링(1cycle scheduling)"
      ]
    },
    {
      "cell_type": "code",
      "metadata": {
        "id": "q5ntCvjxJafS"
      },
      "source": [
        "K = keras.backend\n",
        "\n",
        "class ExponentialLearningRate(keras.callbacks.Callback):\n",
        "  def __init__(self, factor):\n",
        "    self.factor = factor\n",
        "    self.rates = []\n",
        "    self.losses = []\n",
        "  def on_batch_end(self, batch, logs):\n",
        "    self.rates.append(K.get_value(self.model.optimizer.lr))\n",
        "    self.losses.append(logs[\"loss\"])\n",
        "    K.set_value(self.model.optimizer.lr, self.model.optimizer.lr * self.factor)\n",
        "\n",
        "def find_learning_rate(model, X, y, epochs=1, batch_size=32, min_rate=10**-5, max_rate=10):\n",
        "  init_weights = model.get_weights()\n",
        "  iterations = len(X) // batch_size * epochs\n",
        "  factor = np.exp(np.log(max_rate / min_rate) / iterations)\n",
        "  init_lr = K.get_value(model.optimizer.lr)\n",
        "  K.set_value(model.optimizer.lr, min_rate)\n",
        "  exp_lr = ExponentialLearningRate(factor)\n",
        "  history = model.fit(X, y, epochs=epochs, batch_size=batch_size,\n",
        "                      callbacks=[exp_lr])\n",
        "  K.set_value(model.optimizer.lr, init_lr)\n",
        "  model.set_weights(init_weights)\n",
        "  return exp_lr.rates, exp_lr.losses\n",
        "\n",
        "def plot_lr_vs_loss(rates, losses):\n",
        "    plt.plot(rates, losses)\n",
        "    plt.gca().set_xscale('log')\n",
        "    plt.hlines(min(losses), min(rates), max(rates))\n",
        "    plt.axis([min(rates), max(rates), min(losses), (losses[0] + min(losses)) / 2])\n",
        "    plt.xlabel(\"Learning rate\")\n",
        "    plt.ylabel(\"Loss\")"
      ],
      "execution_count": 98,
      "outputs": []
    },
    {
      "cell_type": "code",
      "metadata": {
        "id": "TSWsjVpTK0T2"
      },
      "source": [
        "tf.random.set_seed(42)\n",
        "np.random.seed(42)\n",
        "\n",
        "model = keras.models.Sequential([\n",
        "    keras.layers.Flatten(input_shape=[28, 28]),\n",
        "    keras.layers.Dense(300, activation=\"selu\", kernel_initializer=\"lecun_normal\"),\n",
        "    keras.layers.Dense(100, activation=\"selu\", kernel_initializer=\"lecun_normal\"),\n",
        "    keras.layers.Dense(10, activation=\"softmax\")\n",
        "])\n",
        "model.compile(loss=\"sparse_categorical_crossentropy\",\n",
        "              optimizer=keras.optimizers.SGD(lr=1e-3),\n",
        "              metrics=[\"accuracy\"])"
      ],
      "execution_count": 99,
      "outputs": []
    },
    {
      "cell_type": "code",
      "metadata": {
        "colab": {
          "base_uri": "https://localhost:8080/",
          "height": 346
        },
        "id": "j-mhD21MP_LY",
        "outputId": "9ca723f8-cbeb-4c9a-b5df-d64d25294989"
      },
      "source": [
        "batch_size = 128\n",
        "rates, losses = find_learning_rate(model, X_train_scaled, y_train, epochs=1, batch_size=batch_size)\n",
        "plot_lr_vs_loss(rates, losses)"
      ],
      "execution_count": 100,
      "outputs": [
        {
          "output_type": "stream",
          "text": [
            "  1/430 [..............................] - ETA: 1:36 - loss: 2.6624 - accuracy: 0.1406WARNING:tensorflow:Callback method `on_train_batch_end` is slow compared to the batch time (batch time: 0.0016s vs `on_train_batch_end` time: 0.0016s). Check your callbacks.\n",
            "430/430 [==============================] - 1s 3ms/step - loss: 2730182245963.7817 - accuracy: 0.3135\n"
          ],
          "name": "stdout"
        },
        {
          "output_type": "display_data",
          "data": {
            "image/png": "[encoded data removed]",
            "text/plain": [
              "<Figure size 432x288 with 1 Axes>"
            ]
          },
          "metadata": {
            "tags": [],
            "needs_background": "light"
          }
        }
      ]
    },
    {
      "cell_type": "code",
      "metadata": {
        "id": "rHVSHeZEQCcx"
      },
      "source": [
        "class OneCycleScheduler(keras.callbacks.Callback):\n",
        "    def __init__(self, iterations, max_rate, start_rate=None,\n",
        "                 last_iterations=None, last_rate=None):\n",
        "        self.iterations = iterations\n",
        "        self.max_rate = max_rate\n",
        "        self.start_rate = start_rate or max_rate / 10\n",
        "        self.last_iterations = last_iterations or iterations // 10 + 1\n",
        "        self.half_iteration = (iterations - self.last_iterations) // 2\n",
        "        self.last_rate = last_rate or self.start_rate / 1000\n",
        "        self.iteration = 0\n",
        "    def _interpolate(self, iter1, iter2, rate1, rate2):\n",
        "        return ((rate2 - rate1) * (self.iteration - iter1)\n",
        "                / (iter2 - iter1) + rate1)\n",
        "    def on_batch_begin(self, batch, logs):\n",
        "        if self.iteration < self.half_iteration:\n",
        "            rate = self._interpolate(0, self.half_iteration, self.start_rate, self.max_rate)\n",
        "        elif self.iteration < 2 * self.half_iteration:\n",
        "            rate = self._interpolate(self.half_iteration, 2 * self.half_iteration,\n",
        "                                     self.max_rate, self.start_rate)\n",
        "        else:\n",
        "            rate = self._interpolate(2 * self.half_iteration, self.iterations,\n",
        "                                     self.start_rate, self.last_rate)\n",
        "            rate = max(rate, self.last_rate)\n",
        "        self.iteration += 1\n",
        "        K.set_value(self.model.optimizer.lr, rate)"
      ],
      "execution_count": 101,
      "outputs": []
    },
    {
      "cell_type": "code",
      "metadata": {
        "colab": {
          "base_uri": "https://localhost:8080/"
        },
        "id": "6o34np4aSXpd",
        "outputId": "4910cb75-ab13-4c21-fa15-bd635a7f826f"
      },
      "source": [
        "n_epochs = 25\n",
        "onecycle = OneCycleScheduler(len(X_train) // batch_size * n_epochs, max_rate=0.05)\n",
        "history = model.fit(X_train_scaled, y_train, epochs=n_epochs, batch_size=batch_size,\n",
        "                    validation_data=(X_valid_scaled, y_valid),\n",
        "                    callbacks=[onecycle])"
      ],
      "execution_count": 102,
      "outputs": [
        {
          "output_type": "stream",
          "text": [
            "Epoch 1/25\n",
            "430/430 [==============================] - 1s 3ms/step - loss: 0.6572 - accuracy: 0.7739 - val_loss: 0.4871 - val_accuracy: 0.8336\n",
            "Epoch 2/25\n",
            "430/430 [==============================] - 1s 3ms/step - loss: 0.4581 - accuracy: 0.8396 - val_loss: 0.4274 - val_accuracy: 0.8526\n",
            "Epoch 3/25\n",
            "430/430 [==============================] - 1s 3ms/step - loss: 0.4121 - accuracy: 0.8544 - val_loss: 0.4114 - val_accuracy: 0.8584\n",
            "Epoch 4/25\n",
            "430/430 [==============================] - 1s 3ms/step - loss: 0.3837 - accuracy: 0.8641 - val_loss: 0.3869 - val_accuracy: 0.8684\n",
            "Epoch 5/25\n",
            "430/430 [==============================] - 1s 3ms/step - loss: 0.3639 - accuracy: 0.8717 - val_loss: 0.3765 - val_accuracy: 0.8678\n",
            "Epoch 6/25\n",
            "430/430 [==============================] - 1s 3ms/step - loss: 0.3456 - accuracy: 0.8773 - val_loss: 0.3741 - val_accuracy: 0.8706\n",
            "Epoch 7/25\n",
            "430/430 [==============================] - 1s 3ms/step - loss: 0.3329 - accuracy: 0.8809 - val_loss: 0.3635 - val_accuracy: 0.8708\n",
            "Epoch 8/25\n",
            "430/430 [==============================] - 1s 3ms/step - loss: 0.3184 - accuracy: 0.8860 - val_loss: 0.3958 - val_accuracy: 0.8604\n",
            "Epoch 9/25\n",
            "430/430 [==============================] - 1s 3ms/step - loss: 0.3064 - accuracy: 0.8892 - val_loss: 0.3491 - val_accuracy: 0.8754\n",
            "Epoch 10/25\n",
            "430/430 [==============================] - 1s 3ms/step - loss: 0.2944 - accuracy: 0.8926 - val_loss: 0.3396 - val_accuracy: 0.8804\n",
            "Epoch 11/25\n",
            "430/430 [==============================] - 1s 3ms/step - loss: 0.2838 - accuracy: 0.8963 - val_loss: 0.3455 - val_accuracy: 0.8824\n",
            "Epoch 12/25\n",
            "430/430 [==============================] - 1s 3ms/step - loss: 0.2707 - accuracy: 0.9026 - val_loss: 0.3643 - val_accuracy: 0.8702\n",
            "Epoch 13/25\n",
            "430/430 [==============================] - 1s 3ms/step - loss: 0.2537 - accuracy: 0.9082 - val_loss: 0.3358 - val_accuracy: 0.8840\n",
            "Epoch 14/25\n",
            "430/430 [==============================] - 1s 3ms/step - loss: 0.2404 - accuracy: 0.9139 - val_loss: 0.3465 - val_accuracy: 0.8808\n",
            "Epoch 15/25\n",
            "430/430 [==============================] - 1s 3ms/step - loss: 0.2279 - accuracy: 0.9181 - val_loss: 0.3261 - val_accuracy: 0.8846\n",
            "Epoch 16/25\n",
            "430/430 [==============================] - 1s 3ms/step - loss: 0.2159 - accuracy: 0.9229 - val_loss: 0.3296 - val_accuracy: 0.8834\n",
            "Epoch 17/25\n",
            "430/430 [==============================] - 1s 3ms/step - loss: 0.2061 - accuracy: 0.9269 - val_loss: 0.3339 - val_accuracy: 0.8876\n",
            "Epoch 18/25\n",
            "430/430 [==============================] - 1s 3ms/step - loss: 0.1978 - accuracy: 0.9300 - val_loss: 0.3242 - val_accuracy: 0.8902\n",
            "Epoch 19/25\n",
            "430/430 [==============================] - 1s 2ms/step - loss: 0.1892 - accuracy: 0.9339 - val_loss: 0.3236 - val_accuracy: 0.8910\n",
            "Epoch 20/25\n",
            "430/430 [==============================] - 1s 3ms/step - loss: 0.1821 - accuracy: 0.9371 - val_loss: 0.3224 - val_accuracy: 0.8918\n",
            "Epoch 21/25\n",
            "430/430 [==============================] - 1s 2ms/step - loss: 0.1752 - accuracy: 0.9401 - val_loss: 0.3219 - val_accuracy: 0.8924\n",
            "Epoch 22/25\n",
            "430/430 [==============================] - 1s 3ms/step - loss: 0.1700 - accuracy: 0.9418 - val_loss: 0.3184 - val_accuracy: 0.8938\n",
            "Epoch 23/25\n",
            "430/430 [==============================] - 1s 3ms/step - loss: 0.1655 - accuracy: 0.9442 - val_loss: 0.3188 - val_accuracy: 0.8948\n",
            "Epoch 24/25\n",
            "430/430 [==============================] - 1s 3ms/step - loss: 0.1627 - accuracy: 0.9455 - val_loss: 0.3177 - val_accuracy: 0.8934\n",
            "Epoch 25/25\n",
            "430/430 [==============================] - 1s 3ms/step - loss: 0.1610 - accuracy: 0.9462 - val_loss: 0.3170 - val_accuracy: 0.8948\n"
          ],
          "name": "stdout"
        }
      ]
    },
    {
      "cell_type": "markdown",
      "metadata": {
        "id": "gDj8uZJXTQQW"
      },
      "source": [
        "## 11.4 규제를 사용해 과대적합 피하기"
      ]
    },
    {
      "cell_type": "markdown",
      "metadata": {
        "id": "cpwBfd-CVUba"
      },
      "source": [
        "## 11.4.1 $\\ell_1$과 $\\ell_2$ 규제"
      ]
    },
    {
      "cell_type": "code",
      "metadata": {
        "id": "b7-BHgkBSZ6j"
      },
      "source": [
        "layer = keras.layers.Dense(100, activation=\"elu\",\n",
        "                           kernel_initializer=\"he_normal\",\n",
        "                           kernel_regularizer=keras.regularizers.l2(0.01))"
      ],
      "execution_count": 103,
      "outputs": []
    },
    {
      "cell_type": "markdown",
      "metadata": {
        "id": "Wef9JU1GzApQ"
      },
      "source": [
        "l2()함수는 훈련하는 동안 규제 손실을 계산하기 위해 각 스텝에서 호출되는 규제 객체를 반환한다. 이 손실은 최종 손실에 합산된다. $\\ell_1$규제가 필요하면 keras.regularizers.l1()를 사용할 수 있다. $\\ell_1$과 $\\ell_2$가 모두 필요하면 keras.regularizers.l1_l2()를 사용한다."
      ]
    },
    {
      "cell_type": "code",
      "metadata": {
        "id": "hL_UShn3tSsc",
        "colab": {
          "base_uri": "https://localhost:8080/"
        },
        "outputId": "aa43cc94-04b9-4337-a64a-96e96826aaef"
      },
      "source": [
        "model = keras.models.Sequential([\n",
        "    keras.layers.Flatten(input_shape=[28, 28]),\n",
        "    keras.layers.Dense(300, activation=\"elu\",\n",
        "                       kernel_initializer=\"he_normal\",\n",
        "                       kernel_regularizer=keras.regularizers.l2(0.01)),\n",
        "    keras.layers.Dense(100, activation=\"elu\",\n",
        "                       kernel_initializer=\"he_normal\",\n",
        "                       kernel_regularizer=keras.regularizers.l2(0.01)),\n",
        "    keras.layers.Dense(10, activation=\"softmax\",\n",
        "                       kernel_regularizer=keras.regularizers.l2(0.01))\n",
        "])\n",
        "model.compile(loss=\"sparse_categorical_crossentropy\", optimizer=\"nadam\", metrics=[\"accuracy\"])\n",
        "n_epochs = 2\n",
        "history = model.fit(X_train_scaled, y_train, epochs=n_epochs,\n",
        "                    validation_data=(X_valid_scaled, y_valid))"
      ],
      "execution_count": 104,
      "outputs": [
        {
          "output_type": "stream",
          "text": [
            "Epoch 1/2\n",
            "1719/1719 [==============================] - 6s 3ms/step - loss: 3.2189 - accuracy: 0.7967 - val_loss: 0.7169 - val_accuracy: 0.8340\n",
            "Epoch 2/2\n",
            "1719/1719 [==============================] - 6s 3ms/step - loss: 0.7280 - accuracy: 0.8247 - val_loss: 0.6850 - val_accuracy: 0.8376\n"
          ],
          "name": "stdout"
        }
      ]
    },
    {
      "cell_type": "code",
      "metadata": {
        "id": "DRdMRFn70VFH",
        "colab": {
          "base_uri": "https://localhost:8080/"
        },
        "outputId": "0523d6ad-8511-4b94-d36a-83ae0dcf8883"
      },
      "source": [
        "from functools import partial\n",
        "\n",
        "RegularizedDense = partial(keras.layers.Dense,\n",
        "                           activation=\"elu\",\n",
        "                           kernel_initializer=\"he_normal\",\n",
        "                           kernel_regularizer=keras.regularizers.l2(0.01))\n",
        "\n",
        "model = keras.models.Sequential([\n",
        "                                 keras.layers.Flatten(input_shape=[28,28]),\n",
        "                                 RegularizedDense(300),\n",
        "                                 RegularizedDense(100),\n",
        "                                 RegularizedDense(10, activation=\"softmax\",\n",
        "                                                  kernel_initializer=\"glorot_uniform\")\n",
        "])\n",
        "model.compile(loss=\"sparse_categorical_crossentropy\", optimizer=\"nadam\", metrics=[\"accuracy\"])\n",
        "n_epochs = 2\n",
        "history = model.fit(X_train_scaled, y_train, epochs=n_epochs,\n",
        "                    validation_data=(X_valid_scaled, y_valid))"
      ],
      "execution_count": 105,
      "outputs": [
        {
          "output_type": "stream",
          "text": [
            "Epoch 1/2\n",
            "1719/1719 [==============================] - 6s 3ms/step - loss: 3.1835 - accuracy: 0.7944 - val_loss: 0.7197 - val_accuracy: 0.8302\n",
            "Epoch 2/2\n",
            "1719/1719 [==============================] - 5s 3ms/step - loss: 0.7294 - accuracy: 0.8244 - val_loss: 0.6862 - val_accuracy: 0.8360\n"
          ],
          "name": "stdout"
        }
      ]
    },
    {
      "cell_type": "markdown",
      "metadata": {
        "id": "shzj4ms32bs0"
      },
      "source": [
        "### 11.4.2 드롭아웃"
      ]
    },
    {
      "cell_type": "markdown",
      "metadata": {
        "id": "SnE09shVuUsx"
      },
      "source": [
        "훈련하는 동안 일부 입력을 랜덤하게 버린다."
      ]
    },
    {
      "cell_type": "code",
      "metadata": {
        "id": "cToF1xUJ1bl6",
        "outputId": "d8197dd0-bb0a-443a-ec11-88b6bda14ee4",
        "colab": {
          "base_uri": "https://localhost:8080/"
        }
      },
      "source": [
        "model = keras.models.Sequential([\r\n",
        "                                 keras.layers.Flatten(input_shape=[28, 28]),\r\n",
        "                                 keras.layers.Dropout(rate=0.2),\r\n",
        "                                 keras.layers.Dense(300, activation=\"elu\", kernel_initializer=\"he_normal\"),\r\n",
        "                                 keras.layers.Dropout(rate=0.2),\r\n",
        "                                 keras.layers.Dense(100, activation=\"elu\", kernel_initializer=\"he_normal\"),\r\n",
        "                                 keras.layers.Dropout(rate=0.2),\r\n",
        "                                 keras.layers.Dense(10, activation=\"softmax\")\r\n",
        "])\r\n",
        "model.compile(loss=\"sparse_categorical_crossentropy\", optimizer=\"nadam\", metrics=[\"accuracy\"])\r\n",
        "n_epochs = 2\r\n",
        "history = model.fit(X_train_scaled, y_train, epochs=n_epochs,\r\n",
        "                    validation_data=(X_valid_scaled, y_valid))"
      ],
      "execution_count": 106,
      "outputs": [
        {
          "output_type": "stream",
          "text": [
            "Epoch 1/2\n",
            "1719/1719 [==============================] - 5s 3ms/step - loss: 0.7611 - accuracy: 0.7576 - val_loss: 0.3730 - val_accuracy: 0.8644\n",
            "Epoch 2/2\n",
            "1719/1719 [==============================] - 5s 3ms/step - loss: 0.4306 - accuracy: 0.8401 - val_loss: 0.3409 - val_accuracy: 0.8726\n"
          ],
          "name": "stdout"
        }
      ]
    },
    {
      "cell_type": "markdown",
      "metadata": {
        "id": "Ao5Mk2b_L7-H"
      },
      "source": [
        "### 11.4.3 몬테 카를로 드롭아웃\r\n",
        "앞서 훈련한 드롭아웃 모델을 재훈련하지 않고 성능을 향상시키는 완전한 MC 드롭아웃 "
      ]
    },
    {
      "cell_type": "code",
      "metadata": {
        "id": "n-0V4WbENick"
      },
      "source": [
        "tf.random.set_seed(42)\r\n",
        "np.random.seed(42)"
      ],
      "execution_count": 107,
      "outputs": []
    },
    {
      "cell_type": "code",
      "metadata": {
        "id": "820ImXCTIjA6"
      },
      "source": [
        "y_probas = np.stack([model(X_test_scaled, training=True) for sample in range(100)])\r\n",
        "y_proba = y_probas.mean(axis=0)\r\n",
        "y_std = y_probas.std(axis=0)"
      ],
      "execution_count": 108,
      "outputs": []
    },
    {
      "cell_type": "code",
      "metadata": {
        "id": "zzmuxk_HNhng",
        "outputId": "60a22cbb-569b-45c5-b5bf-e2417353f2da",
        "colab": {
          "base_uri": "https://localhost:8080/"
        }
      },
      "source": [
        "# 드롭아웃을 비활성하고 예측\r\n",
        "np.round(model.predict(X_test_scaled[:1]), 2)"
      ],
      "execution_count": 109,
      "outputs": [
        {
          "output_type": "execute_result",
          "data": {
            "text/plain": [
              "array([[0.  , 0.  , 0.  , 0.  , 0.  , 0.02, 0.  , 0.17, 0.  , 0.81]],\n",
              "      dtype=float32)"
            ]
          },
          "metadata": {
            "tags": []
          },
          "execution_count": 109
        }
      ]
    },
    {
      "cell_type": "code",
      "metadata": {
        "id": "OQKMZ0BON0E1",
        "outputId": "71950b40-6c80-465c-f49d-fd8b1281827b",
        "colab": {
          "base_uri": "https://localhost:8080/"
        }
      },
      "source": [
        "# 드롭아웃을 활성화하고 만든 예측\r\n",
        "np.round(y_probas[:, :1], 2)"
      ],
      "execution_count": 110,
      "outputs": [
        {
          "output_type": "execute_result",
          "data": {
            "text/plain": [
              "array([[[0.  , 0.  , 0.  , 0.  , 0.  , 0.05, 0.  , 0.16, 0.  , 0.79]],\n",
              "\n",
              "       [[0.  , 0.  , 0.  , 0.  , 0.  , 0.01, 0.  , 0.23, 0.  , 0.76]],\n",
              "\n",
              "       [[0.  , 0.  , 0.  , 0.  , 0.  , 0.05, 0.  , 0.07, 0.  , 0.87]],\n",
              "\n",
              "       [[0.  , 0.  , 0.  , 0.  , 0.  , 0.01, 0.  , 0.03, 0.  , 0.96]],\n",
              "\n",
              "       [[0.  , 0.  , 0.  , 0.  , 0.  , 0.03, 0.  , 0.53, 0.  , 0.45]],\n",
              "\n",
              "       [[0.  , 0.  , 0.  , 0.  , 0.  , 0.1 , 0.  , 0.37, 0.  , 0.53]],\n",
              "\n",
              "       [[0.  , 0.  , 0.  , 0.  , 0.  , 0.07, 0.  , 0.21, 0.  , 0.72]],\n",
              "\n",
              "       [[0.  , 0.  , 0.  , 0.  , 0.  , 0.01, 0.  , 0.43, 0.  , 0.56]],\n",
              "\n",
              "       [[0.  , 0.  , 0.  , 0.  , 0.  , 0.01, 0.  , 0.19, 0.  , 0.8 ]],\n",
              "\n",
              "       [[0.  , 0.  , 0.  , 0.  , 0.  , 0.02, 0.  , 0.06, 0.  , 0.91]],\n",
              "\n",
              "       [[0.  , 0.  , 0.  , 0.  , 0.  , 0.03, 0.  , 0.26, 0.  , 0.72]],\n",
              "\n",
              "       [[0.  , 0.  , 0.  , 0.  , 0.  , 0.23, 0.  , 0.16, 0.  , 0.61]],\n",
              "\n",
              "       [[0.  , 0.  , 0.  , 0.  , 0.  , 0.02, 0.  , 0.09, 0.  , 0.89]],\n",
              "\n",
              "       [[0.  , 0.  , 0.  , 0.  , 0.  , 0.25, 0.  , 0.02, 0.  , 0.73]],\n",
              "\n",
              "       [[0.  , 0.  , 0.  , 0.  , 0.  , 0.06, 0.  , 0.22, 0.  , 0.72]],\n",
              "\n",
              "       [[0.  , 0.  , 0.  , 0.  , 0.  , 0.03, 0.  , 0.19, 0.  , 0.78]],\n",
              "\n",
              "       [[0.  , 0.  , 0.  , 0.  , 0.  , 0.09, 0.  , 0.2 , 0.  , 0.71]],\n",
              "\n",
              "       [[0.  , 0.  , 0.  , 0.  , 0.  , 0.01, 0.  , 0.24, 0.  , 0.75]],\n",
              "\n",
              "       [[0.  , 0.  , 0.  , 0.  , 0.  , 0.  , 0.  , 0.08, 0.  , 0.92]],\n",
              "\n",
              "       [[0.  , 0.  , 0.  , 0.  , 0.  , 0.02, 0.  , 0.26, 0.  , 0.72]],\n",
              "\n",
              "       [[0.  , 0.  , 0.  , 0.  , 0.  , 0.  , 0.  , 0.16, 0.  , 0.83]],\n",
              "\n",
              "       [[0.  , 0.  , 0.  , 0.  , 0.  , 0.  , 0.  , 0.04, 0.  , 0.96]],\n",
              "\n",
              "       [[0.  , 0.  , 0.  , 0.  , 0.  , 0.04, 0.  , 0.12, 0.  , 0.85]],\n",
              "\n",
              "       [[0.  , 0.  , 0.  , 0.  , 0.  , 0.06, 0.  , 0.28, 0.  , 0.67]],\n",
              "\n",
              "       [[0.  , 0.  , 0.  , 0.  , 0.  , 0.01, 0.  , 0.12, 0.  , 0.87]],\n",
              "\n",
              "       [[0.  , 0.  , 0.  , 0.  , 0.  , 0.  , 0.  , 0.01, 0.  , 0.98]],\n",
              "\n",
              "       [[0.  , 0.  , 0.  , 0.  , 0.  , 0.08, 0.  , 0.22, 0.  , 0.7 ]],\n",
              "\n",
              "       [[0.  , 0.  , 0.  , 0.  , 0.  , 0.02, 0.  , 0.14, 0.  , 0.83]],\n",
              "\n",
              "       [[0.  , 0.  , 0.  , 0.  , 0.  , 0.05, 0.  , 0.13, 0.  , 0.82]],\n",
              "\n",
              "       [[0.  , 0.  , 0.  , 0.  , 0.  , 0.11, 0.  , 0.56, 0.  , 0.32]],\n",
              "\n",
              "       [[0.  , 0.  , 0.  , 0.  , 0.  , 0.05, 0.  , 0.21, 0.  , 0.74]],\n",
              "\n",
              "       [[0.  , 0.  , 0.  , 0.  , 0.  , 0.  , 0.  , 0.12, 0.  , 0.88]],\n",
              "\n",
              "       [[0.  , 0.  , 0.  , 0.  , 0.  , 0.02, 0.  , 0.03, 0.  , 0.95]],\n",
              "\n",
              "       [[0.  , 0.01, 0.  , 0.  , 0.  , 0.09, 0.  , 0.54, 0.  , 0.37]],\n",
              "\n",
              "       [[0.  , 0.  , 0.  , 0.  , 0.  , 0.  , 0.  , 0.08, 0.  , 0.92]],\n",
              "\n",
              "       [[0.  , 0.  , 0.  , 0.  , 0.  , 0.26, 0.  , 0.14, 0.  , 0.6 ]],\n",
              "\n",
              "       [[0.  , 0.  , 0.  , 0.  , 0.  , 0.03, 0.  , 0.45, 0.  , 0.51]],\n",
              "\n",
              "       [[0.  , 0.  , 0.  , 0.  , 0.  , 0.  , 0.  , 0.35, 0.  , 0.65]],\n",
              "\n",
              "       [[0.  , 0.  , 0.  , 0.  , 0.  , 0.  , 0.  , 0.01, 0.  , 0.99]],\n",
              "\n",
              "       [[0.  , 0.  , 0.  , 0.  , 0.  , 0.  , 0.  , 0.12, 0.  , 0.88]],\n",
              "\n",
              "       [[0.  , 0.  , 0.  , 0.  , 0.  , 0.  , 0.  , 0.35, 0.  , 0.65]],\n",
              "\n",
              "       [[0.  , 0.  , 0.  , 0.  , 0.  , 0.03, 0.  , 0.82, 0.  , 0.15]],\n",
              "\n",
              "       [[0.  , 0.  , 0.  , 0.  , 0.  , 0.05, 0.  , 0.13, 0.  , 0.81]],\n",
              "\n",
              "       [[0.  , 0.  , 0.  , 0.  , 0.  , 0.05, 0.  , 0.35, 0.  , 0.59]],\n",
              "\n",
              "       [[0.  , 0.  , 0.  , 0.  , 0.  , 0.1 , 0.  , 0.27, 0.  , 0.64]],\n",
              "\n",
              "       [[0.  , 0.  , 0.  , 0.  , 0.  , 0.  , 0.  , 0.18, 0.  , 0.82]],\n",
              "\n",
              "       [[0.  , 0.  , 0.  , 0.  , 0.  , 0.05, 0.  , 0.13, 0.  , 0.82]],\n",
              "\n",
              "       [[0.  , 0.  , 0.  , 0.  , 0.  , 0.13, 0.  , 0.13, 0.  , 0.73]],\n",
              "\n",
              "       [[0.  , 0.  , 0.  , 0.  , 0.  , 0.13, 0.  , 0.37, 0.  , 0.51]],\n",
              "\n",
              "       [[0.  , 0.  , 0.  , 0.  , 0.  , 0.24, 0.  , 0.46, 0.  , 0.3 ]],\n",
              "\n",
              "       [[0.  , 0.  , 0.  , 0.  , 0.  , 0.2 , 0.  , 0.11, 0.  , 0.68]],\n",
              "\n",
              "       [[0.  , 0.  , 0.  , 0.  , 0.  , 0.01, 0.  , 0.57, 0.  , 0.42]],\n",
              "\n",
              "       [[0.  , 0.  , 0.  , 0.  , 0.  , 0.02, 0.  , 0.1 , 0.  , 0.89]],\n",
              "\n",
              "       [[0.  , 0.  , 0.  , 0.  , 0.  , 0.  , 0.  , 0.26, 0.  , 0.74]],\n",
              "\n",
              "       [[0.  , 0.  , 0.  , 0.  , 0.  , 0.  , 0.  , 0.35, 0.  , 0.65]],\n",
              "\n",
              "       [[0.  , 0.  , 0.  , 0.  , 0.  , 0.01, 0.  , 0.21, 0.  , 0.79]],\n",
              "\n",
              "       [[0.  , 0.  , 0.  , 0.  , 0.  , 0.1 , 0.  , 0.11, 0.  , 0.79]],\n",
              "\n",
              "       [[0.  , 0.  , 0.  , 0.  , 0.  , 0.24, 0.  , 0.05, 0.  , 0.71]],\n",
              "\n",
              "       [[0.  , 0.  , 0.  , 0.  , 0.  , 0.01, 0.  , 0.22, 0.  , 0.77]],\n",
              "\n",
              "       [[0.  , 0.01, 0.  , 0.  , 0.  , 0.08, 0.  , 0.15, 0.  , 0.77]],\n",
              "\n",
              "       [[0.  , 0.  , 0.  , 0.  , 0.  , 0.  , 0.  , 0.35, 0.  , 0.65]],\n",
              "\n",
              "       [[0.  , 0.  , 0.  , 0.  , 0.  , 0.  , 0.  , 0.46, 0.  , 0.54]],\n",
              "\n",
              "       [[0.  , 0.  , 0.  , 0.  , 0.  , 0.03, 0.  , 0.03, 0.  , 0.94]],\n",
              "\n",
              "       [[0.  , 0.  , 0.  , 0.  , 0.  , 0.02, 0.  , 0.07, 0.  , 0.91]],\n",
              "\n",
              "       [[0.  , 0.  , 0.  , 0.  , 0.  , 0.35, 0.  , 0.33, 0.  , 0.33]],\n",
              "\n",
              "       [[0.  , 0.  , 0.  , 0.  , 0.  , 0.1 , 0.  , 0.27, 0.  , 0.64]],\n",
              "\n",
              "       [[0.  , 0.  , 0.  , 0.  , 0.  , 0.14, 0.  , 0.08, 0.  , 0.79]],\n",
              "\n",
              "       [[0.  , 0.  , 0.  , 0.  , 0.  , 0.08, 0.  , 0.53, 0.  , 0.39]],\n",
              "\n",
              "       [[0.  , 0.  , 0.  , 0.  , 0.  , 0.03, 0.  , 0.62, 0.  , 0.35]],\n",
              "\n",
              "       [[0.  , 0.  , 0.  , 0.  , 0.  , 0.32, 0.  , 0.34, 0.  , 0.34]],\n",
              "\n",
              "       [[0.  , 0.  , 0.  , 0.  , 0.  , 0.02, 0.  , 0.07, 0.  , 0.91]],\n",
              "\n",
              "       [[0.  , 0.  , 0.  , 0.  , 0.  , 0.02, 0.  , 0.05, 0.  , 0.93]],\n",
              "\n",
              "       [[0.  , 0.  , 0.  , 0.  , 0.  , 0.36, 0.  , 0.03, 0.  , 0.61]],\n",
              "\n",
              "       [[0.  , 0.  , 0.  , 0.  , 0.  , 0.04, 0.  , 0.18, 0.  , 0.78]],\n",
              "\n",
              "       [[0.  , 0.  , 0.  , 0.  , 0.  , 0.02, 0.  , 0.48, 0.  , 0.5 ]],\n",
              "\n",
              "       [[0.  , 0.  , 0.  , 0.  , 0.  , 0.01, 0.  , 0.39, 0.  , 0.61]],\n",
              "\n",
              "       [[0.  , 0.  , 0.  , 0.  , 0.  , 0.01, 0.  , 0.4 , 0.  , 0.59]],\n",
              "\n",
              "       [[0.  , 0.  , 0.  , 0.  , 0.  , 0.06, 0.  , 0.42, 0.  , 0.53]],\n",
              "\n",
              "       [[0.  , 0.  , 0.  , 0.  , 0.  , 0.04, 0.  , 0.23, 0.  , 0.73]],\n",
              "\n",
              "       [[0.  , 0.  , 0.  , 0.  , 0.  , 0.03, 0.  , 0.2 , 0.  , 0.77]],\n",
              "\n",
              "       [[0.  , 0.  , 0.  , 0.  , 0.  , 0.01, 0.  , 0.39, 0.  , 0.61]],\n",
              "\n",
              "       [[0.  , 0.  , 0.  , 0.  , 0.  , 0.04, 0.  , 0.31, 0.  , 0.64]],\n",
              "\n",
              "       [[0.  , 0.  , 0.  , 0.  , 0.  , 0.37, 0.  , 0.15, 0.  , 0.47]],\n",
              "\n",
              "       [[0.  , 0.  , 0.  , 0.  , 0.  , 0.03, 0.  , 0.17, 0.  , 0.8 ]],\n",
              "\n",
              "       [[0.  , 0.  , 0.  , 0.  , 0.  , 0.03, 0.  , 0.06, 0.  , 0.92]],\n",
              "\n",
              "       [[0.  , 0.  , 0.  , 0.  , 0.  , 0.02, 0.  , 0.04, 0.  , 0.95]],\n",
              "\n",
              "       [[0.  , 0.  , 0.  , 0.  , 0.  , 0.08, 0.  , 0.22, 0.  , 0.7 ]],\n",
              "\n",
              "       [[0.  , 0.  , 0.  , 0.  , 0.  , 0.02, 0.  , 0.05, 0.  , 0.94]],\n",
              "\n",
              "       [[0.  , 0.  , 0.  , 0.  , 0.  , 0.01, 0.  , 0.04, 0.  , 0.95]],\n",
              "\n",
              "       [[0.  , 0.  , 0.  , 0.  , 0.  , 0.  , 0.  , 0.22, 0.  , 0.78]],\n",
              "\n",
              "       [[0.  , 0.  , 0.  , 0.  , 0.  , 0.04, 0.  , 0.6 , 0.  , 0.36]],\n",
              "\n",
              "       [[0.  , 0.  , 0.  , 0.  , 0.  , 0.  , 0.  , 0.06, 0.  , 0.94]],\n",
              "\n",
              "       [[0.  , 0.  , 0.  , 0.  , 0.  , 0.35, 0.  , 0.12, 0.  , 0.53]],\n",
              "\n",
              "       [[0.  , 0.  , 0.  , 0.  , 0.  , 0.31, 0.  , 0.05, 0.  , 0.64]],\n",
              "\n",
              "       [[0.  , 0.  , 0.  , 0.  , 0.  , 0.02, 0.  , 0.11, 0.  , 0.88]],\n",
              "\n",
              "       [[0.  , 0.  , 0.  , 0.  , 0.  , 0.01, 0.  , 0.15, 0.  , 0.84]],\n",
              "\n",
              "       [[0.  , 0.  , 0.  , 0.  , 0.  , 0.06, 0.  , 0.26, 0.  , 0.68]],\n",
              "\n",
              "       [[0.  , 0.  , 0.  , 0.  , 0.  , 0.04, 0.  , 0.21, 0.  , 0.76]],\n",
              "\n",
              "       [[0.  , 0.  , 0.  , 0.  , 0.  , 0.02, 0.  , 0.13, 0.  , 0.85]],\n",
              "\n",
              "       [[0.  , 0.  , 0.  , 0.  , 0.  , 0.03, 0.  , 0.38, 0.  , 0.6 ]]],\n",
              "      dtype=float32)"
            ]
          },
          "metadata": {
            "tags": []
          },
          "execution_count": 110
        }
      ]
    },
    {
      "cell_type": "code",
      "metadata": {
        "id": "QtRon_PeN6Nq",
        "outputId": "045dcf47-7b48-4957-9dd3-aad540ab6994",
        "colab": {
          "base_uri": "https://localhost:8080/"
        }
      },
      "source": [
        "# 첫 번째 차원으로 평균을 낸 MC 드롭아웃의 예측\r\n",
        "np.round(y_proba[:1], 2)"
      ],
      "execution_count": 111,
      "outputs": [
        {
          "output_type": "execute_result",
          "data": {
            "text/plain": [
              "array([[0.  , 0.  , 0.  , 0.  , 0.  , 0.07, 0.  , 0.22, 0.  , 0.71]],\n",
              "      dtype=float32)"
            ]
          },
          "metadata": {
            "tags": []
          },
          "execution_count": 111
        }
      ]
    },
    {
      "cell_type": "code",
      "metadata": {
        "id": "licp6YwxOcKg",
        "outputId": "7d8260f0-251e-4042-d3e1-b2835bceb02b",
        "colab": {
          "base_uri": "https://localhost:8080/"
        }
      },
      "source": [
        "# 위 확률 추정의 표준 분포\r\n",
        "np.round(y_std[:1], 2)"
      ],
      "execution_count": 112,
      "outputs": [
        {
          "output_type": "execute_result",
          "data": {
            "text/plain": [
              "array([[0.  , 0.  , 0.  , 0.  , 0.  , 0.09, 0.  , 0.16, 0.  , 0.18]],\n",
              "      dtype=float32)"
            ]
          },
          "metadata": {
            "tags": []
          },
          "execution_count": 112
        }
      ]
    },
    {
      "cell_type": "code",
      "metadata": {
        "id": "BFW0DdY8OycO"
      },
      "source": [
        "class MCDropout(keras.layers.Dropout):\r\n",
        "  def call(self, inputs):\r\n",
        "    return super().call(inputs, training=True)"
      ],
      "execution_count": 114,
      "outputs": []
    },
    {
      "cell_type": "code",
      "metadata": {
        "id": "APKKmKxRPjP5"
      },
      "source": [
        "class MCAlphaDropout(keras.layers.AlphaDropout):\r\n",
        "  def call(self, inputs):\r\n",
        "    return super().call(inputs, training)"
      ],
      "execution_count": null,
      "outputs": []
    }
  ]
}