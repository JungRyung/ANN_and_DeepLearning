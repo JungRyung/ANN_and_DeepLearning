{
 "cells": [
  {
   "cell_type": "markdown",
   "metadata": {
    "colab_type": "text",
    "id": "CRPj6udWpTVV"
   },
   "source": [
    "- Perceptron"
   ]
  },
  {
   "cell_type": "code",
   "execution_count": 11,
   "metadata": {
    "colab": {},
    "colab_type": "code",
    "id": "GJnveEAdpTVW"
   },
   "outputs": [],
   "source": [
    "import numpy as np\n",
    "from sklearn.datasets import load_iris\n",
    "from sklearn.linear_model import Perceptron"
   ]
  },
  {
   "cell_type": "code",
   "execution_count": 12,
   "metadata": {
    "colab": {},
    "colab_type": "code",
    "id": "1ECIa7Y6pTVc"
   },
   "outputs": [],
   "source": [
    "iris = load_iris()\n",
    "X = iris.data[:,(2,3)] # 꽃잎의 길이와 너비\n",
    "y = (iris.target == 0).astype(np.int) # 부채붓꽃(Iris Setosa) 인가?"
   ]
  },
  {
   "cell_type": "code",
   "execution_count": 13,
   "metadata": {
    "colab": {
     "base_uri": "https://localhost:8080/",
     "height": 89
    },
    "colab_type": "code",
    "id": "nkoFX9MfpTVj",
    "outputId": "a2ed1f56-6ff7-49fa-96d7-28b2ac050aeb"
   },
   "outputs": [
    {
     "data": {
      "text/plain": [
       "Perceptron()"
      ]
     },
     "execution_count": 13,
     "metadata": {},
     "output_type": "execute_result"
    }
   ],
   "source": [
    "per_clf = Perceptron()\n",
    "per_clf.fit(X,y)"
   ]
  },
  {
   "cell_type": "code",
   "execution_count": 14,
   "metadata": {
    "colab": {
     "base_uri": "https://localhost:8080/",
     "height": 35
    },
    "colab_type": "code",
    "id": "0AIrpVDNpTVn",
    "outputId": "51bef9ef-6ae9-4a86-e369-f7506566f1c6"
   },
   "outputs": [
    {
     "data": {
      "text/plain": [
       "array([0])"
      ]
     },
     "execution_count": 14,
     "metadata": {},
     "output_type": "execute_result"
    }
   ],
   "source": [
    "y_pred = per_clf.predict([[2, 0.5]])\n",
    "y_pred"
   ]
  },
  {
   "cell_type": "code",
   "execution_count": 15,
   "metadata": {
    "colab": {},
    "colab_type": "code",
    "id": "Sx3YMGCXqSP3"
   },
   "outputs": [],
   "source": [
    "import tensorflow as tf\n",
    "from tensorflow import keras"
   ]
  },
  {
   "cell_type": "code",
   "execution_count": 16,
   "metadata": {
    "colab": {
     "base_uri": "https://localhost:8080/",
     "height": 53
    },
    "colab_type": "code",
    "id": "P5vYu38bqZOM",
    "outputId": "7f7a645b-f052-43d5-e7a4-58d0e7577ee8"
   },
   "outputs": [
    {
     "name": "stdout",
     "output_type": "stream",
     "text": [
      "2.1.0\n",
      "2.2.4-tf\n"
     ]
    }
   ],
   "source": [
    "print(tf.__version__)\n",
    "print(keras.__version__)"
   ]
  },
  {
   "cell_type": "markdown",
   "metadata": {
    "colab_type": "text",
    "id": "YyecaeL4px2t"
   },
   "source": [
    "### 10.2.2 시퀀셜 API를 사용하여 이미지 분류기 만들기"
   ]
  },
  {
   "cell_type": "markdown",
   "metadata": {
    "colab_type": "text",
    "id": "fGVHEGS_sZa-"
   },
   "source": [
    "- 케라스를 사용하여 데이터셋 적재하기"
   ]
  },
  {
   "cell_type": "code",
   "execution_count": 17,
   "metadata": {
    "colab": {
     "base_uri": "https://localhost:8080/",
     "height": 161
    },
    "colab_type": "code",
    "id": "b1hkaQFGpTVs",
    "outputId": "aed79042-c852-4d3c-e92d-f9f4c6bdbd77"
   },
   "outputs": [],
   "source": [
    "fashion_mnist = keras.datasets.fashion_mnist\n",
    "(X_train_full, y_train_full), (X_test, y_test) = fashion_mnist.load_data()"
   ]
  },
  {
   "cell_type": "code",
   "execution_count": 18,
   "metadata": {
    "colab": {
     "base_uri": "https://localhost:8080/",
     "height": 35
    },
    "colab_type": "code",
    "id": "vGtY54mGqNTR",
    "outputId": "3abeb77d-c784-454e-a34c-434db5b62a97"
   },
   "outputs": [
    {
     "data": {
      "text/plain": [
       "(60000, 28, 28)"
      ]
     },
     "execution_count": 18,
     "metadata": {},
     "output_type": "execute_result"
    }
   ],
   "source": [
    "X_train_full.shape"
   ]
  },
  {
   "cell_type": "code",
   "execution_count": 19,
   "metadata": {
    "colab": {
     "base_uri": "https://localhost:8080/",
     "height": 35
    },
    "colab_type": "code",
    "id": "uof12GreqlaS",
    "outputId": "2e2f23ac-d65b-493c-ccd0-b94f6f78ac3d"
   },
   "outputs": [
    {
     "data": {
      "text/plain": [
       "dtype('uint8')"
      ]
     },
     "execution_count": 19,
     "metadata": {},
     "output_type": "execute_result"
    }
   ],
   "source": [
    "X_train_full.dtype"
   ]
  },
  {
   "cell_type": "code",
   "execution_count": 20,
   "metadata": {
    "colab": {},
    "colab_type": "code",
    "id": "ndYf7iyHqoKb"
   },
   "outputs": [],
   "source": [
    "# 위의 데이터셋은 이미 훈련 세트와 테스트 세트로 나뉘어져 있으나 검증세트는 없다.\n",
    "# 아래에서 검증세트를 만들고 0~255.0의 스케일을 0~1의 스케일로 조정한다.\n",
    "X_valid, X_train = X_train_full[:5000] / 255.0, X_train_full[5000:] / 255.0\n",
    "y_valid, y_train = y_train_full[:5000], y_train_full[5000:]\n",
    "X_test = X_test / 255.0"
   ]
  },
  {
   "cell_type": "code",
   "execution_count": 21,
   "metadata": {
    "colab": {},
    "colab_type": "code",
    "id": "HUHGl-SVrTyt"
   },
   "outputs": [],
   "source": [
    "class_names = [\"T-shirt/top\",\"Trouser\",\"Pullover\",\"Dress\",\"Coat\",\n",
    "               \"Sandal\",\"Shirt\",\"Sneaker\",\"Bag\",\"Ankle boot\"]"
   ]
  },
  {
   "cell_type": "code",
   "execution_count": 22,
   "metadata": {
    "colab": {
     "base_uri": "https://localhost:8080/",
     "height": 35
    },
    "colab_type": "code",
    "id": "OTgiPz1BsBe9",
    "outputId": "e8bc55cb-889f-4273-883e-60b6142eaec1"
   },
   "outputs": [
    {
     "data": {
      "text/plain": [
       "'Coat'"
      ]
     },
     "execution_count": 22,
     "metadata": {},
     "output_type": "execute_result"
    }
   ],
   "source": [
    "class_names[y_train[0]]"
   ]
  },
  {
   "cell_type": "markdown",
   "metadata": {
    "colab_type": "text",
    "id": "DQY76iRxsedS"
   },
   "source": [
    "- 시퀀셜 API를 사용하여 모델 만들기"
   ]
  },
  {
   "cell_type": "code",
   "execution_count": 23,
   "metadata": {
    "colab": {},
    "colab_type": "code",
    "id": "EB_wU8XFsRUA"
   },
   "outputs": [],
   "source": [
    "model = keras.models.Sequential()\n",
    "model.add(keras.layers.Flatten(input_shape=[28,28]))\n",
    "model.add(keras.layers.Dense(300, activation=\"relu\"))\n",
    "model.add(keras.layers.Dense(100, activation=\"relu\"))\n",
    "model.add(keras.layers.Dense(10, activation=\"softmax\"))"
   ]
  },
  {
   "cell_type": "code",
   "execution_count": 24,
   "metadata": {
    "colab": {},
    "colab_type": "code",
    "id": "JunQXAGWtAw-"
   },
   "outputs": [],
   "source": [
    "# 층을 하나씩 추가하지 않고 Sequential 모델을 만들 때 층의 리스트를 전달할 수 있다.\n",
    "# model = keras.models.Sequential([\n",
    "#     keras.layers.Flatten(input_shape=[28,28]),\n",
    "#     keras.layers.Dense(300, activation=\"relu\"),\n",
    "#     keras.layers.Dense(100, activation=\"relu\"),\n",
    "#     keras.layers.Dense(10, activation=\"softmax\")\n",
    "# ])"
   ]
  },
  {
   "cell_type": "code",
   "execution_count": 25,
   "metadata": {
    "colab": {
     "base_uri": "https://localhost:8080/",
     "height": 305
    },
    "colab_type": "code",
    "id": "5m9ZG-CFuawq",
    "outputId": "cef78ac9-95c3-4ba7-b462-71c582df57d2"
   },
   "outputs": [
    {
     "name": "stdout",
     "output_type": "stream",
     "text": [
      "Model: \"sequential\"\n",
      "_________________________________________________________________\n",
      "Layer (type)                 Output Shape              Param #   \n",
      "=================================================================\n",
      "flatten (Flatten)            (None, 784)               0         \n",
      "_________________________________________________________________\n",
      "dense (Dense)                (None, 300)               235500    \n",
      "_________________________________________________________________\n",
      "dense_1 (Dense)              (None, 100)               30100     \n",
      "_________________________________________________________________\n",
      "dense_2 (Dense)              (None, 10)                1010      \n",
      "=================================================================\n",
      "Total params: 266,610\n",
      "Trainable params: 266,610\n",
      "Non-trainable params: 0\n",
      "_________________________________________________________________\n"
     ]
    }
   ],
   "source": [
    "model.summary()"
   ]
  },
  {
   "cell_type": "code",
   "execution_count": 26,
   "metadata": {
    "colab": {
     "base_uri": "https://localhost:8080/",
     "height": 89
    },
    "colab_type": "code",
    "id": "dJo2m0Zcu1DJ",
    "outputId": "ce2d579b-bc56-450a-9cf2-ba81ad94191e"
   },
   "outputs": [
    {
     "data": {
      "text/plain": [
       "[<tensorflow.python.keras.layers.core.Flatten at 0x296bee49208>,\n",
       " <tensorflow.python.keras.layers.core.Dense at 0x296bee49b88>,\n",
       " <tensorflow.python.keras.layers.core.Dense at 0x296c4b05c88>,\n",
       " <tensorflow.python.keras.layers.core.Dense at 0x296bed70e48>]"
      ]
     },
     "execution_count": 26,
     "metadata": {},
     "output_type": "execute_result"
    }
   ],
   "source": [
    "model.layers"
   ]
  },
  {
   "cell_type": "code",
   "execution_count": 27,
   "metadata": {
    "colab": {
     "base_uri": "https://localhost:8080/",
     "height": 35
    },
    "colab_type": "code",
    "id": "11aS0EPeu_eK",
    "outputId": "c06fb529-0a1e-4353-b101-69fd2ffb55e4"
   },
   "outputs": [
    {
     "data": {
      "text/plain": [
       "'dense'"
      ]
     },
     "execution_count": 27,
     "metadata": {},
     "output_type": "execute_result"
    }
   ],
   "source": [
    "hidden1 = model.layers[1]\n",
    "hidden1.name"
   ]
  },
  {
   "cell_type": "code",
   "execution_count": 28,
   "metadata": {
    "colab": {
     "base_uri": "https://localhost:8080/",
     "height": 35
    },
    "colab_type": "code",
    "id": "-RekM98LvD--",
    "outputId": "7aae7dbd-dfa2-4569-8230-978fc2356fde"
   },
   "outputs": [
    {
     "data": {
      "text/plain": [
       "True"
      ]
     },
     "execution_count": 28,
     "metadata": {},
     "output_type": "execute_result"
    }
   ],
   "source": [
    "model.get_layer('dense') is hidden1"
   ]
  },
  {
   "cell_type": "code",
   "execution_count": 29,
   "metadata": {
    "colab": {},
    "colab_type": "code",
    "id": "wa2vcRoSvLIo"
   },
   "outputs": [],
   "source": [
    "weights, biases = hidden1.get_weights()"
   ]
  },
  {
   "cell_type": "code",
   "execution_count": 30,
   "metadata": {
    "colab": {
     "base_uri": "https://localhost:8080/",
     "height": 251
    },
    "colab_type": "code",
    "id": "Wee44hYEvVp_",
    "outputId": "1b3b2d36-9c84-4356-d2ba-00a774cc870c"
   },
   "outputs": [
    {
     "data": {
      "text/plain": [
       "array([[ 2.0817749e-02, -3.0544158e-02, -3.3398163e-02, ...,\n",
       "        -6.7450173e-02,  5.6666434e-03,  6.3997656e-02],\n",
       "       [-4.2754170e-02, -2.5168240e-02, -5.9112817e-02, ...,\n",
       "        -5.2167878e-02,  6.5406293e-02,  8.1539303e-03],\n",
       "       [-7.1498469e-02,  6.0969055e-02, -1.1296779e-02, ...,\n",
       "        -2.2206765e-02, -3.9146841e-02, -4.4389889e-03],\n",
       "       ...,\n",
       "       [-6.3866347e-02, -5.0282825e-02, -6.8586409e-02, ...,\n",
       "         9.4793737e-05, -3.2134604e-02,  3.3280365e-02],\n",
       "       [ 6.5540746e-02,  2.0671234e-02,  4.8200652e-02, ...,\n",
       "        -1.5426859e-02, -2.6044082e-02, -3.4311023e-02],\n",
       "       [-6.8359688e-02, -6.8689287e-03, -4.9992010e-02, ...,\n",
       "         3.2251962e-02,  5.5229515e-02,  4.1071467e-02]], dtype=float32)"
      ]
     },
     "execution_count": 30,
     "metadata": {},
     "output_type": "execute_result"
    }
   ],
   "source": [
    "weights"
   ]
  },
  {
   "cell_type": "code",
   "execution_count": 31,
   "metadata": {
    "colab": {
     "base_uri": "https://localhost:8080/",
     "height": 35
    },
    "colab_type": "code",
    "id": "aKpqtK-PvWYT",
    "outputId": "ca634fc6-f10e-4b0e-f2e3-957713c5bb89"
   },
   "outputs": [
    {
     "data": {
      "text/plain": [
       "(784, 300)"
      ]
     },
     "execution_count": 31,
     "metadata": {},
     "output_type": "execute_result"
    }
   ],
   "source": [
    "weights.shape"
   ]
  },
  {
   "cell_type": "code",
   "execution_count": 32,
   "metadata": {
    "colab": {
     "base_uri": "https://localhost:8080/",
     "height": 341
    },
    "colab_type": "code",
    "id": "dRbMM5XtvZzF",
    "outputId": "84809b4a-979b-4285-bc2f-c01d460f9724"
   },
   "outputs": [
    {
     "data": {
      "text/plain": [
       "array([0., 0., 0., 0., 0., 0., 0., 0., 0., 0., 0., 0., 0., 0., 0., 0., 0.,\n",
       "       0., 0., 0., 0., 0., 0., 0., 0., 0., 0., 0., 0., 0., 0., 0., 0., 0.,\n",
       "       0., 0., 0., 0., 0., 0., 0., 0., 0., 0., 0., 0., 0., 0., 0., 0., 0.,\n",
       "       0., 0., 0., 0., 0., 0., 0., 0., 0., 0., 0., 0., 0., 0., 0., 0., 0.,\n",
       "       0., 0., 0., 0., 0., 0., 0., 0., 0., 0., 0., 0., 0., 0., 0., 0., 0.,\n",
       "       0., 0., 0., 0., 0., 0., 0., 0., 0., 0., 0., 0., 0., 0., 0., 0., 0.,\n",
       "       0., 0., 0., 0., 0., 0., 0., 0., 0., 0., 0., 0., 0., 0., 0., 0., 0.,\n",
       "       0., 0., 0., 0., 0., 0., 0., 0., 0., 0., 0., 0., 0., 0., 0., 0., 0.,\n",
       "       0., 0., 0., 0., 0., 0., 0., 0., 0., 0., 0., 0., 0., 0., 0., 0., 0.,\n",
       "       0., 0., 0., 0., 0., 0., 0., 0., 0., 0., 0., 0., 0., 0., 0., 0., 0.,\n",
       "       0., 0., 0., 0., 0., 0., 0., 0., 0., 0., 0., 0., 0., 0., 0., 0., 0.,\n",
       "       0., 0., 0., 0., 0., 0., 0., 0., 0., 0., 0., 0., 0., 0., 0., 0., 0.,\n",
       "       0., 0., 0., 0., 0., 0., 0., 0., 0., 0., 0., 0., 0., 0., 0., 0., 0.,\n",
       "       0., 0., 0., 0., 0., 0., 0., 0., 0., 0., 0., 0., 0., 0., 0., 0., 0.,\n",
       "       0., 0., 0., 0., 0., 0., 0., 0., 0., 0., 0., 0., 0., 0., 0., 0., 0.,\n",
       "       0., 0., 0., 0., 0., 0., 0., 0., 0., 0., 0., 0., 0., 0., 0., 0., 0.,\n",
       "       0., 0., 0., 0., 0., 0., 0., 0., 0., 0., 0., 0., 0., 0., 0., 0., 0.,\n",
       "       0., 0., 0., 0., 0., 0., 0., 0., 0., 0., 0.], dtype=float32)"
      ]
     },
     "execution_count": 32,
     "metadata": {},
     "output_type": "execute_result"
    }
   ],
   "source": [
    "biases"
   ]
  },
  {
   "cell_type": "code",
   "execution_count": 33,
   "metadata": {
    "colab": {
     "base_uri": "https://localhost:8080/",
     "height": 35
    },
    "colab_type": "code",
    "id": "xKIZ8hrhva8B",
    "outputId": "e0c1f1da-c78a-4587-d49d-40c41263f1a4"
   },
   "outputs": [
    {
     "data": {
      "text/plain": [
       "(300,)"
      ]
     },
     "execution_count": 33,
     "metadata": {},
     "output_type": "execute_result"
    }
   ],
   "source": [
    "biases.shape"
   ]
  },
  {
   "cell_type": "code",
   "execution_count": 34,
   "metadata": {
    "colab": {},
    "colab_type": "code",
    "id": "K8PsefjEvdrp"
   },
   "outputs": [],
   "source": [
    "model.compile(loss=\"sparse_categorical_crossentropy\",\n",
    "              optimizer=\"sgd\",\n",
    "              metrics=[\"accuracy\"])"
   ]
  },
  {
   "cell_type": "code",
   "execution_count": 35,
   "metadata": {},
   "outputs": [
    {
     "name": "stdout",
     "output_type": "stream",
     "text": [
      "Train on 55000 samples, validate on 5000 samples\n",
      "Epoch 1/30\n",
      "55000/55000 [==============================] - 5s 96us/sample - loss: 0.7133 - accuracy: 0.7634 - val_loss: 0.5269 - val_accuracy: 0.8128\n",
      "Epoch 2/30\n",
      "55000/55000 [==============================] - 5s 82us/sample - loss: 0.4873 - accuracy: 0.8315 - val_loss: 0.4549 - val_accuracy: 0.8428\n",
      "Epoch 3/30\n",
      "55000/55000 [==============================] - 5s 83us/sample - loss: 0.4431 - accuracy: 0.8456 - val_loss: 0.4135 - val_accuracy: 0.8572\n",
      "Epoch 4/30\n",
      "55000/55000 [==============================] - 4s 77us/sample - loss: 0.4141 - accuracy: 0.8547 - val_loss: 0.3944 - val_accuracy: 0.8658\n",
      "Epoch 5/30\n",
      "55000/55000 [==============================] - 5s 84us/sample - loss: 0.3936 - accuracy: 0.8605 - val_loss: 0.3739 - val_accuracy: 0.8708\n",
      "Epoch 6/30\n",
      "55000/55000 [==============================] - 5s 84us/sample - loss: 0.3774 - accuracy: 0.8663 - val_loss: 0.3731 - val_accuracy: 0.8724\n",
      "Epoch 7/30\n",
      "55000/55000 [==============================] - 5s 86us/sample - loss: 0.3632 - accuracy: 0.8715 - val_loss: 0.3579 - val_accuracy: 0.8734\n",
      "Epoch 8/30\n",
      "55000/55000 [==============================] - 5s 90us/sample - loss: 0.3512 - accuracy: 0.8746 - val_loss: 0.3567 - val_accuracy: 0.8704\n",
      "Epoch 9/30\n",
      "55000/55000 [==============================] - 4s 81us/sample - loss: 0.3407 - accuracy: 0.8793 - val_loss: 0.3598 - val_accuracy: 0.8756\n",
      "Epoch 10/30\n",
      "55000/55000 [==============================] - 5s 84us/sample - loss: 0.3315 - accuracy: 0.8817 - val_loss: 0.3445 - val_accuracy: 0.8752\n",
      "Epoch 11/30\n",
      "55000/55000 [==============================] - 5s 85us/sample - loss: 0.3228 - accuracy: 0.8855 - val_loss: 0.3631 - val_accuracy: 0.8686\n",
      "Epoch 12/30\n",
      "55000/55000 [==============================] - 5s 84us/sample - loss: 0.3145 - accuracy: 0.8882 - val_loss: 0.3532 - val_accuracy: 0.8786\n",
      "Epoch 13/30\n",
      "55000/55000 [==============================] - 5s 90us/sample - loss: 0.3072 - accuracy: 0.8900 - val_loss: 0.3250 - val_accuracy: 0.8850\n",
      "Epoch 14/30\n",
      "55000/55000 [==============================] - 5s 90us/sample - loss: 0.3011 - accuracy: 0.8908 - val_loss: 0.3219 - val_accuracy: 0.8826\n",
      "Epoch 15/30\n",
      "55000/55000 [==============================] - 4s 81us/sample - loss: 0.2935 - accuracy: 0.8944 - val_loss: 0.3431 - val_accuracy: 0.8750\n",
      "Epoch 16/30\n",
      "55000/55000 [==============================] - 4s 81us/sample - loss: 0.2879 - accuracy: 0.8967 - val_loss: 0.3111 - val_accuracy: 0.8882\n",
      "Epoch 17/30\n",
      "55000/55000 [==============================] - 5s 88us/sample - loss: 0.2813 - accuracy: 0.8989 - val_loss: 0.3274 - val_accuracy: 0.8816\n",
      "Epoch 18/30\n",
      "55000/55000 [==============================] - 4s 81us/sample - loss: 0.2767 - accuracy: 0.8996 - val_loss: 0.3124 - val_accuracy: 0.8830\n",
      "Epoch 19/30\n",
      "55000/55000 [==============================] - 5s 88us/sample - loss: 0.2711 - accuracy: 0.9028 - val_loss: 0.3163 - val_accuracy: 0.8820\n",
      "Epoch 20/30\n",
      "55000/55000 [==============================] - 5s 90us/sample - loss: 0.2664 - accuracy: 0.9034 - val_loss: 0.3248 - val_accuracy: 0.8818\n",
      "Epoch 21/30\n",
      "55000/55000 [==============================] - 4s 81us/sample - loss: 0.2607 - accuracy: 0.9064 - val_loss: 0.3183 - val_accuracy: 0.8830\n",
      "Epoch 22/30\n",
      "55000/55000 [==============================] - 4s 79us/sample - loss: 0.2562 - accuracy: 0.9081 - val_loss: 0.2974 - val_accuracy: 0.8930\n",
      "Epoch 23/30\n",
      "55000/55000 [==============================] - 5s 90us/sample - loss: 0.2513 - accuracy: 0.9088 - val_loss: 0.2952 - val_accuracy: 0.8934\n",
      "Epoch 24/30\n",
      "55000/55000 [==============================] - 5s 85us/sample - loss: 0.2472 - accuracy: 0.9102 - val_loss: 0.2910 - val_accuracy: 0.8934\n",
      "Epoch 25/30\n",
      "55000/55000 [==============================] - 4s 80us/sample - loss: 0.2421 - accuracy: 0.9124 - val_loss: 0.2997 - val_accuracy: 0.8914\n",
      "Epoch 26/30\n",
      "55000/55000 [==============================] - 4s 79us/sample - loss: 0.2387 - accuracy: 0.9137 - val_loss: 0.2889 - val_accuracy: 0.8970\n",
      "Epoch 27/30\n",
      "55000/55000 [==============================] - 5s 86us/sample - loss: 0.2355 - accuracy: 0.9144 - val_loss: 0.2897 - val_accuracy: 0.8944\n",
      "Epoch 28/30\n",
      "55000/55000 [==============================] - 4s 79us/sample - loss: 0.2299 - accuracy: 0.9168 - val_loss: 0.3472 - val_accuracy: 0.8712\n",
      "Epoch 29/30\n",
      "55000/55000 [==============================] - 4s 78us/sample - loss: 0.2261 - accuracy: 0.9189 - val_loss: 0.2862 - val_accuracy: 0.8968\n",
      "Epoch 30/30\n",
      "55000/55000 [==============================] - 5s 84us/sample - loss: 0.2229 - accuracy: 0.9197 - val_loss: 0.2905 - val_accuracy: 0.8954\n"
     ]
    }
   ],
   "source": [
    "tensorboard_cb = keras.callbacks.TensorBoard(run_logdir)\n",
    "history = model.fit(X_train, y_train, epochs=30,\n",
    "                    validation_data=(X_valid, y_valid),\n",
    "                    callbacks=[tensorboard_cb])"
   ]
  },
  {
   "cell_type": "code",
   "execution_count": 25,
   "metadata": {
    "colab": {
     "base_uri": "https://localhost:8080/",
     "height": 1000
    },
    "colab_type": "code",
    "id": "jWv96MH_wKNZ",
    "outputId": "dae7939a-5b5b-421d-cc00-e5a35868a8b7"
   },
   "outputs": [
    {
     "name": "stdout",
     "output_type": "stream",
     "text": [
      "Epoch 1/30\n",
      "1719/1719 [==============================] - 6s 3ms/step - loss: 0.7060 - accuracy: 0.7694 - val_loss: 0.5332 - val_accuracy: 0.8134\n",
      "Epoch 2/30\n",
      "1719/1719 [==============================] - 5s 3ms/step - loss: 0.4859 - accuracy: 0.8307 - val_loss: 0.4414 - val_accuracy: 0.8502\n",
      "Epoch 3/30\n",
      "1719/1719 [==============================] - 5s 3ms/step - loss: 0.4434 - accuracy: 0.8450 - val_loss: 0.4111 - val_accuracy: 0.8628\n",
      "Epoch 4/30\n",
      "1719/1719 [==============================] - 6s 3ms/step - loss: 0.4162 - accuracy: 0.8546 - val_loss: 0.3936 - val_accuracy: 0.8636\n",
      "Epoch 5/30\n",
      "1719/1719 [==============================] - 5s 3ms/step - loss: 0.3966 - accuracy: 0.8605 - val_loss: 0.4032 - val_accuracy: 0.8568\n",
      "Epoch 6/30\n",
      "1719/1719 [==============================] - 6s 3ms/step - loss: 0.3795 - accuracy: 0.8665 - val_loss: 0.3704 - val_accuracy: 0.8696\n",
      "Epoch 7/30\n",
      "1719/1719 [==============================] - 5s 3ms/step - loss: 0.3665 - accuracy: 0.8703 - val_loss: 0.3758 - val_accuracy: 0.8686\n",
      "Epoch 8/30\n",
      "1719/1719 [==============================] - 6s 3ms/step - loss: 0.3541 - accuracy: 0.8746 - val_loss: 0.3696 - val_accuracy: 0.8700\n",
      "Epoch 9/30\n",
      "1719/1719 [==============================] - 6s 3ms/step - loss: 0.3439 - accuracy: 0.8770 - val_loss: 0.3604 - val_accuracy: 0.8704\n",
      "Epoch 10/30\n",
      "1719/1719 [==============================] - 6s 3ms/step - loss: 0.3346 - accuracy: 0.8807 - val_loss: 0.3485 - val_accuracy: 0.8758\n",
      "Epoch 11/30\n",
      "1719/1719 [==============================] - 6s 3ms/step - loss: 0.3252 - accuracy: 0.8836 - val_loss: 0.3477 - val_accuracy: 0.8754\n",
      "Epoch 12/30\n",
      "1719/1719 [==============================] - 5s 3ms/step - loss: 0.3178 - accuracy: 0.8855 - val_loss: 0.3360 - val_accuracy: 0.8788\n",
      "Epoch 13/30\n",
      "1719/1719 [==============================] - 5s 3ms/step - loss: 0.3110 - accuracy: 0.8895 - val_loss: 0.3485 - val_accuracy: 0.8722\n",
      "Epoch 14/30\n",
      "1719/1719 [==============================] - 5s 3ms/step - loss: 0.3038 - accuracy: 0.8912 - val_loss: 0.3291 - val_accuracy: 0.8822\n",
      "Epoch 15/30\n",
      "1719/1719 [==============================] - 5s 3ms/step - loss: 0.2972 - accuracy: 0.8930 - val_loss: 0.3188 - val_accuracy: 0.8810\n",
      "Epoch 16/30\n",
      "1719/1719 [==============================] - 5s 3ms/step - loss: 0.2900 - accuracy: 0.8954 - val_loss: 0.3184 - val_accuracy: 0.8852\n",
      "Epoch 17/30\n",
      "1719/1719 [==============================] - 5s 3ms/step - loss: 0.2837 - accuracy: 0.8967 - val_loss: 0.3210 - val_accuracy: 0.8846\n",
      "Epoch 18/30\n",
      "1719/1719 [==============================] - 5s 3ms/step - loss: 0.2799 - accuracy: 0.9001 - val_loss: 0.3146 - val_accuracy: 0.8868\n",
      "Epoch 19/30\n",
      "1719/1719 [==============================] - 5s 3ms/step - loss: 0.2742 - accuracy: 0.9010 - val_loss: 0.3158 - val_accuracy: 0.8864\n",
      "Epoch 20/30\n",
      "1719/1719 [==============================] - 5s 3ms/step - loss: 0.2690 - accuracy: 0.9031 - val_loss: 0.3105 - val_accuracy: 0.8870\n",
      "Epoch 21/30\n",
      "1719/1719 [==============================] - 5s 3ms/step - loss: 0.2645 - accuracy: 0.9053 - val_loss: 0.3190 - val_accuracy: 0.8834\n",
      "Epoch 22/30\n",
      "1719/1719 [==============================] - 5s 3ms/step - loss: 0.2601 - accuracy: 0.9069 - val_loss: 0.3008 - val_accuracy: 0.8898\n",
      "Epoch 23/30\n",
      "1719/1719 [==============================] - 5s 3ms/step - loss: 0.2553 - accuracy: 0.9079 - val_loss: 0.3074 - val_accuracy: 0.8884\n",
      "Epoch 24/30\n",
      "1719/1719 [==============================] - 5s 3ms/step - loss: 0.2505 - accuracy: 0.9109 - val_loss: 0.3044 - val_accuracy: 0.8918\n",
      "Epoch 25/30\n",
      "1719/1719 [==============================] - 5s 3ms/step - loss: 0.2469 - accuracy: 0.9111 - val_loss: 0.2998 - val_accuracy: 0.8892\n",
      "Epoch 26/30\n",
      "1719/1719 [==============================] - 5s 3ms/step - loss: 0.2415 - accuracy: 0.9125 - val_loss: 0.3162 - val_accuracy: 0.8828\n",
      "Epoch 27/30\n",
      "1719/1719 [==============================] - 5s 3ms/step - loss: 0.2370 - accuracy: 0.9157 - val_loss: 0.2962 - val_accuracy: 0.8960\n",
      "Epoch 28/30\n",
      "1719/1719 [==============================] - 5s 3ms/step - loss: 0.2345 - accuracy: 0.9153 - val_loss: 0.3021 - val_accuracy: 0.8946\n",
      "Epoch 29/30\n",
      "1719/1719 [==============================] - 5s 3ms/step - loss: 0.2304 - accuracy: 0.9176 - val_loss: 0.3236 - val_accuracy: 0.8878\n",
      "Epoch 30/30\n",
      "1719/1719 [==============================] - 5s 3ms/step - loss: 0.2268 - accuracy: 0.9183 - val_loss: 0.3049 - val_accuracy: 0.8920\n"
     ]
    }
   ],
   "source": [
    "history = model.fit(X_train, y_train, epochs=30,\n",
    "                    validation_data=(X_valid,y_valid))"
   ]
  },
  {
   "cell_type": "code",
   "execution_count": 26,
   "metadata": {
    "colab": {
     "base_uri": "https://localhost:8080/",
     "height": 324
    },
    "colab_type": "code",
    "id": "f2gkx8vvwprv",
    "outputId": "696a4f05-d9e9-4443-aa07-f91f2e355acd"
   },
   "outputs": [
    {
     "data": {
      "image/png": "[encoded data removed]",
      "text/plain": [
       "<Figure size 576x360 with 1 Axes>"
      ]
     },
     "metadata": {
      "needs_background": "light",
      "tags": []
     },
     "output_type": "display_data"
    }
   ],
   "source": [
    "import pandas as pd\n",
    "import matplotlib.pyplot as plt\n",
    "\n",
    "pd.DataFrame(history.history).plot(figsize=(8,5))\n",
    "plt.grid(True)\n",
    "plt.gca().set_ylim(0,1)\n",
    "plt.show()"
   ]
  },
  {
   "cell_type": "code",
   "execution_count": 27,
   "metadata": {
    "colab": {
     "base_uri": "https://localhost:8080/",
     "height": 53
    },
    "colab_type": "code",
    "id": "lPb2Bhc0y5Fu",
    "outputId": "065be7c9-2b6e-4232-f988-5511393bc142"
   },
   "outputs": [
    {
     "name": "stdout",
     "output_type": "stream",
     "text": [
      "313/313 [==============================] - 1s 2ms/step - loss: 0.3333 - accuracy: 0.8848\n"
     ]
    },
    {
     "data": {
      "text/plain": [
       "[0.33332398533821106, 0.8848000168800354]"
      ]
     },
     "execution_count": 27,
     "metadata": {
      "tags": []
     },
     "output_type": "execute_result"
    }
   ],
   "source": [
    "# 테스트 세트로 모델 평가\n",
    "model.evaluate(X_test, y_test)"
   ]
  },
  {
   "cell_type": "markdown",
   "metadata": {
    "colab_type": "text",
    "id": "xOz8ZG9c0Ycu"
   },
   "source": [
    "- 모델을 사용해 예측을 만들기"
   ]
  },
  {
   "cell_type": "code",
   "execution_count": 28,
   "metadata": {
    "colab": {},
    "colab_type": "code",
    "id": "KNQWdkeVz67Y"
   },
   "outputs": [],
   "source": [
    "X_new = X_test[:3] # 여기서는 실제로 새로운 샘플이 없기 때문에 테스트 세트의 앞부분을 사용한다."
   ]
  },
  {
   "cell_type": "code",
   "execution_count": 29,
   "metadata": {
    "colab": {},
    "colab_type": "code",
    "id": "QcqseNIT0ljr"
   },
   "outputs": [],
   "source": [
    "y_proba = model.predict(X_new)"
   ]
  },
  {
   "cell_type": "code",
   "execution_count": 30,
   "metadata": {
    "colab": {
     "base_uri": "https://localhost:8080/",
     "height": 89
    },
    "colab_type": "code",
    "id": "x0UImaSq0qgO",
    "outputId": "0496fa5b-41b3-4f17-b8a5-711afd0b2c5d"
   },
   "outputs": [
    {
     "data": {
      "text/plain": [
       "array([[0.  , 0.  , 0.  , 0.  , 0.  , 0.  , 0.  , 0.02, 0.  , 0.97],\n",
       "       [0.  , 0.  , 1.  , 0.  , 0.  , 0.  , 0.  , 0.  , 0.  , 0.  ],\n",
       "       [0.  , 1.  , 0.  , 0.  , 0.  , 0.  , 0.  , 0.  , 0.  , 0.  ]],\n",
       "      dtype=float32)"
      ]
     },
     "execution_count": 30,
     "metadata": {
      "tags": []
     },
     "output_type": "execute_result"
    }
   ],
   "source": [
    "y_proba.round(2)"
   ]
  },
  {
   "cell_type": "code",
   "execution_count": 31,
   "metadata": {
    "colab": {
     "base_uri": "https://localhost:8080/",
     "height": 109
    },
    "colab_type": "code",
    "id": "njYBA3wJ0sCq",
    "outputId": "a96fb112-606b-467f-db67-7a473edc44b1"
   },
   "outputs": [
    {
     "name": "stdout",
     "output_type": "stream",
     "text": [
      "WARNING:tensorflow:From <ipython-input-31-81ace37e545f>:1: Sequential.predict_classes (from tensorflow.python.keras.engine.sequential) is deprecated and will be removed after 2021-01-01.\n",
      "Instructions for updating:\n",
      "Please use instead:* `np.argmax(model.predict(x), axis=-1)`,   if your model does multi-class classification   (e.g. if it uses a `softmax` last-layer activation).* `(model.predict(x) > 0.5).astype(\"int32\")`,   if your model does binary classification   (e.g. if it uses a `sigmoid` last-layer activation).\n"
     ]
    },
    {
     "data": {
      "text/plain": [
       "array([9, 2, 1])"
      ]
     },
     "execution_count": 31,
     "metadata": {
      "tags": []
     },
     "output_type": "execute_result"
    }
   ],
   "source": [
    "y_pred = model.predict_classes(X_new)\n",
    "y_pred"
   ]
  },
  {
   "cell_type": "code",
   "execution_count": 32,
   "metadata": {
    "colab": {
     "base_uri": "https://localhost:8080/",
     "height": 35
    },
    "colab_type": "code",
    "id": "49rMXvVK1IT0",
    "outputId": "65357312-176d-4515-99b7-db946e0cd579"
   },
   "outputs": [
    {
     "data": {
      "text/plain": [
       "array(['Ankle boot', 'Pullover', 'Trouser'], dtype='<U11')"
      ]
     },
     "execution_count": 32,
     "metadata": {
      "tags": []
     },
     "output_type": "execute_result"
    }
   ],
   "source": [
    "np.array(class_names)[y_pred]"
   ]
  },
  {
   "cell_type": "code",
   "execution_count": 33,
   "metadata": {
    "colab": {
     "base_uri": "https://localhost:8080/",
     "height": 35
    },
    "colab_type": "code",
    "id": "l4v5WLMU1NPv",
    "outputId": "01cc386b-748d-4d13-dacf-7cc4f20da79e"
   },
   "outputs": [
    {
     "data": {
      "text/plain": [
       "array([9, 2, 1], dtype=uint8)"
      ]
     },
     "execution_count": 33,
     "metadata": {
      "tags": []
     },
     "output_type": "execute_result"
    }
   ],
   "source": [
    "y_new = y_test[:3]\n",
    "y_new"
   ]
  },
  {
   "cell_type": "markdown",
   "metadata": {
    "colab_type": "text",
    "id": "w49slT2d1phV"
   },
   "source": [
    "### 10.2.3 시퀀셜 API를 사용하여 회귀용 다층 퍼셉트론 만들기"
   ]
  },
  {
   "cell_type": "code",
   "execution_count": 34,
   "metadata": {
    "colab": {
     "base_uri": "https://localhost:8080/",
     "height": 0
    },
    "colab_type": "code",
    "id": "twGGe39i1S5X",
    "outputId": "dce38ed9-f097-4dfc-8582-97ea601c8c96"
   },
   "outputs": [
    {
     "name": "stderr",
     "output_type": "stream",
     "text": [
      "Downloading Cal. housing from https://ndownloader.figshare.com/files/5976036 to /root/scikit_learn_data\n"
     ]
    }
   ],
   "source": [
    "from sklearn.datasets import fetch_california_housing\n",
    "from sklearn.model_selection import train_test_split\n",
    "from sklearn.preprocessing import StandardScaler\n",
    "\n",
    "housing = fetch_california_housing()\n",
    "\n",
    "X_train_full, X_test, y_train_full, y_test = train_test_split(housing.data, housing.target)\n",
    "X_train, X_valid, y_train, y_valid = train_test_split(X_train_full, y_train_full)\n",
    "\n",
    "scaler = StandardScaler()\n",
    "X_train = scaler.fit_transform(X_train)\n",
    "X_valid = scaler.transform(X_valid)\n",
    "X_test = scaler.transform(X_test)"
   ]
  },
  {
   "cell_type": "code",
   "execution_count": 35,
   "metadata": {
    "colab": {
     "base_uri": "https://localhost:8080/",
     "height": 0
    },
    "colab_type": "code",
    "id": "i_qIykBS1-gX",
    "outputId": "82526417-287e-4d38-e1dc-9f930e0b1ed2"
   },
   "outputs": [
    {
     "name": "stdout",
     "output_type": "stream",
     "text": [
      "Epoch 1/20\n",
      "363/363 [==============================] - 1s 2ms/step - loss: 0.8696 - val_loss: 3.5560\n",
      "Epoch 2/20\n",
      "363/363 [==============================] - 1s 1ms/step - loss: 0.5802 - val_loss: 9.9830\n",
      "Epoch 3/20\n",
      "363/363 [==============================] - 1s 2ms/step - loss: 1.0541 - val_loss: 0.5369\n",
      "Epoch 4/20\n",
      "363/363 [==============================] - 1s 1ms/step - loss: 0.4426 - val_loss: 0.7167\n",
      "Epoch 5/20\n",
      "363/363 [==============================] - 1s 1ms/step - loss: 0.4317 - val_loss: 3.6686\n",
      "Epoch 6/20\n",
      "363/363 [==============================] - 1s 1ms/step - loss: 0.5806 - val_loss: 0.3756\n",
      "Epoch 7/20\n",
      "363/363 [==============================] - 1s 1ms/step - loss: 0.3930 - val_loss: 0.3572\n",
      "Epoch 8/20\n",
      "363/363 [==============================] - 1s 1ms/step - loss: 0.3858 - val_loss: 0.3570\n",
      "Epoch 9/20\n",
      "363/363 [==============================] - 1s 1ms/step - loss: 0.3827 - val_loss: 0.3576\n",
      "Epoch 10/20\n",
      "363/363 [==============================] - 1s 1ms/step - loss: 0.3748 - val_loss: 0.3470\n",
      "Epoch 11/20\n",
      "363/363 [==============================] - 1s 1ms/step - loss: 0.3763 - val_loss: 0.3490\n",
      "Epoch 12/20\n",
      "363/363 [==============================] - 1s 1ms/step - loss: 0.3689 - val_loss: 0.3485\n",
      "Epoch 13/20\n",
      "363/363 [==============================] - 1s 1ms/step - loss: 0.3749 - val_loss: 0.3418\n",
      "Epoch 14/20\n",
      "363/363 [==============================] - 1s 1ms/step - loss: 0.3669 - val_loss: 0.3506\n",
      "Epoch 15/20\n",
      "363/363 [==============================] - 1s 1ms/step - loss: 0.3638 - val_loss: 0.3435\n",
      "Epoch 16/20\n",
      "363/363 [==============================] - 1s 1ms/step - loss: 0.3631 - val_loss: 0.3460\n",
      "Epoch 17/20\n",
      "363/363 [==============================] - 1s 1ms/step - loss: 0.3600 - val_loss: 0.3419\n",
      "Epoch 18/20\n",
      "363/363 [==============================] - 1s 1ms/step - loss: 0.3637 - val_loss: 0.3462\n",
      "Epoch 19/20\n",
      "363/363 [==============================] - 1s 1ms/step - loss: 0.3578 - val_loss: 0.3449\n",
      "Epoch 20/20\n",
      "363/363 [==============================] - 1s 2ms/step - loss: 0.3588 - val_loss: 0.3539\n",
      "162/162 [==============================] - 0s 987us/step - loss: 0.3677\n"
     ]
    }
   ],
   "source": [
    "model = keras.models.Sequential([keras.layers.Dense(30,activation=\"relu\", input_shape=X_train.shape[1:]),\n",
    "                                 keras.layers.Dense(1)])\n",
    "model.compile(loss=\"mean_squared_error\", optimizer=\"sgd\")\n",
    "history = model.fit(X_train, y_train, epochs=20,validation_data=(X_valid,y_valid))\n",
    "mse_test = model.evaluate(X_test, y_test)\n",
    "X_new = X_test[:3]  # 새로운 샘플이라고 생각합니다.\n",
    "y_pred = model.predict(X_new)"
   ]
  },
  {
   "cell_type": "code",
   "execution_count": 36,
   "metadata": {
    "colab": {
     "base_uri": "https://localhost:8080/",
     "height": 0
    },
    "colab_type": "code",
    "id": "WWqVBFA73mW4",
    "outputId": "edd08dc3-2c20-4a34-d84d-71cb40e862ab"
   },
   "outputs": [
    {
     "data": {
      "text/plain": [
       "array([[3.8570235],\n",
       "       [3.0006337],\n",
       "       [2.0374236]], dtype=float32)"
      ]
     },
     "execution_count": 36,
     "metadata": {
      "tags": []
     },
     "output_type": "execute_result"
    }
   ],
   "source": [
    "y_pred"
   ]
  },
  {
   "cell_type": "markdown",
   "metadata": {
    "colab_type": "text",
    "id": "DGncqKqH4yF2"
   },
   "source": [
    "### 10.2.4 함수형 API를 사용해 복잡한 모델 만들기"
   ]
  },
  {
   "cell_type": "code",
   "execution_count": 37,
   "metadata": {
    "colab": {},
    "colab_type": "code",
    "id": "pyKugO0y4MjG"
   },
   "outputs": [],
   "source": [
    "# 와이드 & 딥 신경망 만들기\n",
    "input_ = keras.layers.Input(shape=X_train.shape[1:])\n",
    "hidden1 = keras.layers.Dense(30, activation=\"relu\")(input_)\n",
    "hidden2 = keras.layers.Dense(30, activation=\"relu\")(hidden1)\n",
    "concat = keras.layers.Concatenate()([input_, hidden2])\n",
    "output = keras.layers.Dense(1)(concat)\n",
    "model = keras.Model(inputs=[input_], outputs=[output])"
   ]
  },
  {
   "cell_type": "code",
   "execution_count": 38,
   "metadata": {
    "colab": {},
    "colab_type": "code",
    "id": "rLCAD8Xi6AQA"
   },
   "outputs": [],
   "source": [
    "# 5개의 특성은 짧은 경로로 보내고 6개의 특성은 깊은 경로로 보내는 신경망\n",
    "input_A = keras.layers.Input(shape=[5], name=\"wide_input\")\n",
    "input_B = keras.layers.Input(shape=[6], name=\"deep_input\")\n",
    "hidden1 = keras.layers.Dense(30, activation=\"relu\")(input_B)\n",
    "hidden2 = keras.layers.Dense(30, activation=\"relu\")(hidden1)\n",
    "concat = keras.layers.concatenate([input_A, hidden2])\n",
    "output = keras.layers.Dense(1, name=\"output\")(concat)\n",
    "model = keras.Model(inputs=[input_A, input_B], outputs=[output])"
   ]
  },
  {
   "cell_type": "code",
   "execution_count": 39,
   "metadata": {
    "colab": {
     "base_uri": "https://localhost:8080/",
     "height": 0
    },
    "colab_type": "code",
    "id": "kEZM-jem74vn",
    "outputId": "e47e683e-4ded-4765-a727-6d7d3bc1ad0e"
   },
   "outputs": [
    {
     "name": "stdout",
     "output_type": "stream",
     "text": [
      "Epoch 1/20\n",
      "363/363 [==============================] - 1s 2ms/step - loss: 1.9439 - val_loss: 0.8712\n",
      "Epoch 2/20\n",
      "363/363 [==============================] - 1s 1ms/step - loss: 0.7524 - val_loss: 0.6306\n",
      "Epoch 3/20\n",
      "363/363 [==============================] - 1s 2ms/step - loss: 0.6228 - val_loss: 0.5585\n",
      "Epoch 4/20\n",
      "363/363 [==============================] - 1s 1ms/step - loss: 0.5705 - val_loss: 0.5199\n",
      "Epoch 5/20\n",
      "363/363 [==============================] - 1s 2ms/step - loss: 0.5397 - val_loss: 0.4945\n",
      "Epoch 6/20\n",
      "363/363 [==============================] - 1s 2ms/step - loss: 0.5187 - val_loss: 0.4788\n",
      "Epoch 7/20\n",
      "363/363 [==============================] - 1s 2ms/step - loss: 0.5038 - val_loss: 0.4649\n",
      "Epoch 8/20\n",
      "363/363 [==============================] - 1s 2ms/step - loss: 0.4927 - val_loss: 0.4549\n",
      "Epoch 9/20\n",
      "363/363 [==============================] - 1s 2ms/step - loss: 0.4841 - val_loss: 0.4482\n",
      "Epoch 10/20\n",
      "363/363 [==============================] - 1s 2ms/step - loss: 0.4774 - val_loss: 0.4419\n",
      "Epoch 11/20\n",
      "363/363 [==============================] - 1s 1ms/step - loss: 0.4718 - val_loss: 0.4366\n",
      "Epoch 12/20\n",
      "363/363 [==============================] - 1s 2ms/step - loss: 0.4671 - val_loss: 0.4332\n",
      "Epoch 13/20\n",
      "363/363 [==============================] - 1s 2ms/step - loss: 0.4632 - val_loss: 0.4295\n",
      "Epoch 14/20\n",
      "363/363 [==============================] - 1s 1ms/step - loss: 0.4597 - val_loss: 0.4266\n",
      "Epoch 15/20\n",
      "363/363 [==============================] - 1s 2ms/step - loss: 0.4569 - val_loss: 0.4235\n",
      "Epoch 16/20\n",
      "363/363 [==============================] - 1s 1ms/step - loss: 0.4538 - val_loss: 0.4215\n",
      "Epoch 17/20\n",
      "363/363 [==============================] - 1s 2ms/step - loss: 0.4514 - val_loss: 0.4192\n",
      "Epoch 18/20\n",
      "363/363 [==============================] - 1s 1ms/step - loss: 0.4494 - val_loss: 0.4174\n",
      "Epoch 19/20\n",
      "363/363 [==============================] - 1s 2ms/step - loss: 0.4470 - val_loss: 0.4154\n",
      "Epoch 20/20\n",
      "363/363 [==============================] - 1s 2ms/step - loss: 0.4450 - val_loss: 0.4136\n",
      "162/162 [==============================] - 0s 1ms/step - loss: 0.4342\n"
     ]
    }
   ],
   "source": [
    "# X_train을 전달할 때 (X_train_A, X_train_B) 와 같이 항상 튜플로 전달해야 한다.\n",
    "model.compile(loss=\"mse\", optimizer=keras.optimizers.SGD(lr=1e-3))\n",
    "\n",
    "X_train_A, X_train_B = X_train[:, :5], X_train[:, 2:]\n",
    "X_valid_A, X_valid_B = X_valid[:, :5], X_valid[:, 2:]\n",
    "X_test_A, X_test_B = X_test[:, :5], X_test[:, 2:]\n",
    "X_new_A, X_new_B = X_test_A[:3], X_test_B[:3]\n",
    "\n",
    "history = model.fit((X_train_A, X_train_B), y_train, epochs=20,\n",
    "                    validation_data=((X_valid_A, X_valid_B), y_valid))\n",
    "mse_test = model.evaluate((X_test_A, X_test_B), y_test)\n",
    "y_pred = model.predict((X_new_A, X_new_B))"
   ]
  },
  {
   "cell_type": "code",
   "execution_count": 40,
   "metadata": {
    "colab": {},
    "colab_type": "code",
    "id": "bjfjWSgl9hWE"
   },
   "outputs": [],
   "source": [
    "# 여러개의 출력 다루기\n",
    "input_A = keras.layers.Input(shape=[5], name=\"wide_input\")\n",
    "input_B = keras.layers.Input(shape=[6], name=\"deep_input\")\n",
    "hidden1 = keras.layers.Dense(30, activation=\"relu\")(input_B)\n",
    "hidden2 = keras.layers.Dense(30, activation=\"relu\")(hidden1)\n",
    "concat = keras.layers.concatenate([input_A, hidden2])\n",
    "output = keras.layers.Dense(1, name=\"main_output\")(concat) # 출력층까지는 이전과 동일\n",
    "aux_output = keras.layers.Dense(1, name=\"aux_output\")(hidden2)\n",
    "model = keras.Model(inputs=[input_A, input_B], outputs=[output, aux_output])"
   ]
  },
  {
   "cell_type": "code",
   "execution_count": null,
   "metadata": {
    "colab": {},
    "colab_type": "code",
    "id": "lesfTSNd_W4n"
   },
   "outputs": [],
   "source": [
    "# 각 출력은 각자의 손실 함수가 필요(하나의 손실을 전달하면 케라스가 모든 출력의 손실 함수가 동일하다고 가정함)\n",
    "# 각 출력은 훈련에 사용되는데 이 때 각 출력에 가중치를 부여할 수 있음\n",
    "model.compile(loss=[\"mse\",\"mse\"], loss_weights=[0.9,0.1], optimizer=\"sgd\")"
   ]
  },
  {
   "cell_type": "code",
   "execution_count": 42,
   "metadata": {
    "colab": {
     "base_uri": "https://localhost:8080/",
     "height": 0
    },
    "colab_type": "code",
    "id": "uNx23ExbAG5Q",
    "outputId": "b4a332d3-91fc-4233-8e12-0236b17df74d"
   },
   "outputs": [
    {
     "name": "stdout",
     "output_type": "stream",
     "text": [
      "Epoch 1/20\n",
      "363/363 [==============================] - 1s 2ms/step - loss: 1.0490 - main_output_loss: 0.9382 - aux_output_loss: 2.0461 - val_loss: 4.2955 - val_main_output_loss: 4.6179 - val_aux_output_loss: 1.3941\n",
      "Epoch 2/20\n",
      "363/363 [==============================] - 1s 2ms/step - loss: 1.0461 - main_output_loss: 1.0234 - aux_output_loss: 1.2504 - val_loss: 1.6579 - val_main_output_loss: 1.6918 - val_aux_output_loss: 1.3525\n",
      "Epoch 3/20\n",
      "363/363 [==============================] - 1s 2ms/step - loss: 0.6783 - main_output_loss: 0.6367 - aux_output_loss: 1.0525 - val_loss: 8.3816 - val_main_output_loss: 9.1804 - val_aux_output_loss: 1.1931\n",
      "Epoch 4/20\n",
      "363/363 [==============================] - 1s 2ms/step - loss: 0.6894 - main_output_loss: 0.6719 - aux_output_loss: 0.8473 - val_loss: 0.4886 - val_main_output_loss: 0.4580 - val_aux_output_loss: 0.7646\n",
      "Epoch 5/20\n",
      "363/363 [==============================] - 1s 2ms/step - loss: 0.5096 - main_output_loss: 0.4811 - aux_output_loss: 0.7659 - val_loss: 0.4524 - val_main_output_loss: 0.4259 - val_aux_output_loss: 0.6914\n",
      "Epoch 6/20\n",
      "363/363 [==============================] - 1s 2ms/step - loss: 0.4614 - main_output_loss: 0.4395 - aux_output_loss: 0.6585 - val_loss: 0.4236 - val_main_output_loss: 0.4019 - val_aux_output_loss: 0.6183\n",
      "Epoch 7/20\n",
      "363/363 [==============================] - 1s 2ms/step - loss: 0.5657 - main_output_loss: 0.5525 - aux_output_loss: 0.6850 - val_loss: 0.4195 - val_main_output_loss: 0.3965 - val_aux_output_loss: 0.6266\n",
      "Epoch 8/20\n",
      "363/363 [==============================] - 1s 2ms/step - loss: 0.4416 - main_output_loss: 0.4221 - aux_output_loss: 0.6176 - val_loss: 0.4092 - val_main_output_loss: 0.3888 - val_aux_output_loss: 0.5928\n",
      "Epoch 9/20\n",
      "363/363 [==============================] - 1s 2ms/step - loss: 0.4367 - main_output_loss: 0.4197 - aux_output_loss: 0.5902 - val_loss: 0.4201 - val_main_output_loss: 0.4014 - val_aux_output_loss: 0.5881\n",
      "Epoch 10/20\n",
      "363/363 [==============================] - 1s 2ms/step - loss: 0.4266 - main_output_loss: 0.4098 - aux_output_loss: 0.5775 - val_loss: 0.3953 - val_main_output_loss: 0.3765 - val_aux_output_loss: 0.5653\n",
      "Epoch 11/20\n",
      "363/363 [==============================] - 1s 2ms/step - loss: 0.4204 - main_output_loss: 0.4040 - aux_output_loss: 0.5679 - val_loss: 0.3930 - val_main_output_loss: 0.3749 - val_aux_output_loss: 0.5563\n",
      "Epoch 12/20\n",
      "363/363 [==============================] - 1s 2ms/step - loss: 0.4172 - main_output_loss: 0.4014 - aux_output_loss: 0.5598 - val_loss: 0.3856 - val_main_output_loss: 0.3677 - val_aux_output_loss: 0.5472\n",
      "Epoch 13/20\n",
      "363/363 [==============================] - 1s 2ms/step - loss: 0.4109 - main_output_loss: 0.3951 - aux_output_loss: 0.5532 - val_loss: 0.3823 - val_main_output_loss: 0.3647 - val_aux_output_loss: 0.5409\n",
      "Epoch 14/20\n",
      "363/363 [==============================] - 1s 2ms/step - loss: 0.4082 - main_output_loss: 0.3926 - aux_output_loss: 0.5482 - val_loss: 0.3834 - val_main_output_loss: 0.3659 - val_aux_output_loss: 0.5402\n",
      "Epoch 15/20\n",
      "363/363 [==============================] - 1s 2ms/step - loss: 0.4066 - main_output_loss: 0.3916 - aux_output_loss: 0.5418 - val_loss: 0.3814 - val_main_output_loss: 0.3644 - val_aux_output_loss: 0.5341\n",
      "Epoch 16/20\n",
      "363/363 [==============================] - 1s 2ms/step - loss: 0.3983 - main_output_loss: 0.3832 - aux_output_loss: 0.5344 - val_loss: 0.3722 - val_main_output_loss: 0.3553 - val_aux_output_loss: 0.5239\n",
      "Epoch 17/20\n",
      "363/363 [==============================] - 1s 2ms/step - loss: 0.3946 - main_output_loss: 0.3795 - aux_output_loss: 0.5302 - val_loss: 0.3718 - val_main_output_loss: 0.3549 - val_aux_output_loss: 0.5234\n",
      "Epoch 18/20\n",
      "363/363 [==============================] - 1s 2ms/step - loss: 0.3936 - main_output_loss: 0.3785 - aux_output_loss: 0.5294 - val_loss: 0.3663 - val_main_output_loss: 0.3495 - val_aux_output_loss: 0.5171\n",
      "Epoch 19/20\n",
      "363/363 [==============================] - 1s 2ms/step - loss: 0.3881 - main_output_loss: 0.3731 - aux_output_loss: 0.5229 - val_loss: 0.3655 - val_main_output_loss: 0.3490 - val_aux_output_loss: 0.5144\n",
      "Epoch 20/20\n",
      "363/363 [==============================] - 1s 2ms/step - loss: 0.3851 - main_output_loss: 0.3703 - aux_output_loss: 0.5175 - val_loss: 0.3600 - val_main_output_loss: 0.3435 - val_aux_output_loss: 0.5082\n"
     ]
    }
   ],
   "source": [
    "# 각 출력에 대한 레이블을 제공\n",
    "history = model.fit(\n",
    "    [X_train_A, X_train_B], [y_train, y_train], epochs=20,\n",
    "    validation_data=([X_valid_A, X_valid_B], [y_valid, y_valid])\n",
    ")"
   ]
  },
  {
   "cell_type": "code",
   "execution_count": 43,
   "metadata": {
    "colab": {
     "base_uri": "https://localhost:8080/",
     "height": 0
    },
    "colab_type": "code",
    "id": "3Jg8EatOAqyN",
    "outputId": "f8da4a5e-f0f4-4318-b8ac-08d774a2c250"
   },
   "outputs": [
    {
     "name": "stdout",
     "output_type": "stream",
     "text": [
      "162/162 [==============================] - 0s 1ms/step - loss: 0.3638 - main_output_loss: 0.3475 - aux_output_loss: 0.5104\n"
     ]
    }
   ],
   "source": [
    "total_loss, main_loss, aux_loss = model.evaluate([X_test_A, X_test_B],[y_test,y_test])\n",
    "# print(\"total_loss : %.4f, main_loss : %.4f, aux_loss : %.4f\"%(total_loss, main_loss, aux_loss))"
   ]
  },
  {
   "cell_type": "code",
   "execution_count": 44,
   "metadata": {
    "colab": {},
    "colab_type": "code",
    "id": "R2IYEBy0A5rW"
   },
   "outputs": [],
   "source": [
    "y_pred_main, y_pred_aux = model.predict([X_new_A, X_new_B])"
   ]
  },
  {
   "cell_type": "markdown",
   "metadata": {
    "colab_type": "text",
    "id": "7yn8K8haHsWV"
   },
   "source": [
    "### 10.2.5 서브클래싱 API로 동적 모델 만들기"
   ]
  },
  {
   "cell_type": "code",
   "execution_count": 45,
   "metadata": {
    "colab": {},
    "colab_type": "code",
    "id": "NMpfBMdDHxBa"
   },
   "outputs": [],
   "source": [
    "# 높은 유연성이 필요하다면 서브클래싱 API로 구성하면 좋다.\n",
    "class WideAndDeepModel(keras.Model):\n",
    "  def __init__(self, units=30, activation=\"relu\", **kwargs):\n",
    "    super().__init__(**kwargs) ## 표준매개변수를 처리합니다 (예를 들면, name)\n",
    "    self.hidden1 = keras.layers.Dense(units, activation=activation)\n",
    "    self.hidden2 = keras.layers.Dense(units, activation=activation)\n",
    "    self.main_output = keras.layers.Dense(1)\n",
    "    self.aux_output = keras.layers.Dense(1)\n",
    "\n",
    "  def call(self, inputs):\n",
    "    input_A, input_B = inputs\n",
    "    hidden1 = self.hidden1(input_B)\n",
    "    hidden2 = self.hidden2(hidden1)\n",
    "    concat - keras.layers.concatenate([input_A, hidden2])\n",
    "    main_output = self.main_output(concat)\n",
    "    aux_output = self.aux_output(hidden2)\n",
    "    return main_output, aux_output\n",
    "\n",
    "model = WideAndDeepModel()"
   ]
  },
  {
   "cell_type": "markdown",
   "metadata": {
    "colab_type": "text",
    "id": "Ucd2F-5VN0g9"
   },
   "source": [
    "### 10.2.6 모델 저장과 복원"
   ]
  },
  {
   "cell_type": "code",
   "execution_count": 46,
   "metadata": {
    "colab": {},
    "colab_type": "code",
    "id": "AHElt5q1JJVk"
   },
   "outputs": [],
   "source": [
    "# model = keras.models.Sequential([...])\n",
    "# model.compile([...])\n",
    "# model.fit([...])\n",
    "# model.save(\"my_keras_model.h5\")"
   ]
  },
  {
   "cell_type": "code",
   "execution_count": 47,
   "metadata": {
    "colab": {},
    "colab_type": "code",
    "id": "GyCEMDVFO9za"
   },
   "outputs": [],
   "source": [
    "# model = keras.models.load_model(\"my_keras_model.h5\")"
   ]
  },
  {
   "cell_type": "markdown",
   "metadata": {
    "colab_type": "text",
    "id": "nhuJN-w_PGkZ"
   },
   "source": [
    "### 10.2.7 콜백 사용하기"
   ]
  },
  {
   "cell_type": "code",
   "execution_count": 3,
   "metadata": {
    "colab": {},
    "colab_type": "code",
    "id": "1jQlmBwQPDkK"
   },
   "outputs": [],
   "source": [
    "# fit()매서드의 callback 매개변수를 사용하여 케라스가 훈련의 사작이나 끝에 호출할 객체 리스트를 지정할 수 있다.\n",
    "# [...] # 모델을 만들고 컴파일하기\n",
    "# checkpoint_cb = keras.callbacks.ModelCheckpoint(\"my_keras_model.h5\")\n",
    "# history = model.fit(X_trainl, y_train, epochs=10, callbacks=[checkpoint_cb])"
   ]
  },
  {
   "cell_type": "code",
   "execution_count": 4,
   "metadata": {
    "colab": {},
    "colab_type": "code",
    "id": "buFn6L2v2nDU"
   },
   "outputs": [],
   "source": [
    "# # 조기 종료를 구현하는 방법 (validation set에서 가장 좋은 점수를 낸 모델을 저장)\n",
    "# checkpoint_cb = keras.callbacks.ModelCheckpoint(\"my_keras_model.h5\",save_best_only=True)\n",
    "# history = model.fit(X_train, y_train, epochs=10, validation_data=(X_valid, y_valid), callbacks=[checkpoint_cb])\n",
    "# model = keras.models.load_model(\"my_keras_model.h5\")"
   ]
  },
  {
   "cell_type": "code",
   "execution_count": 5,
   "metadata": {
    "colab": {},
    "colab_type": "code",
    "id": "CnibrbYq4dMY"
   },
   "outputs": [],
   "source": [
    "# # EarlyStopping 구현\n",
    "# early_stopping_cb = keras.callbacks.EarlyStopping(patience=10, restore_best_weights=True)\n",
    "# history = model.fit(X_train, y_train, epochs=100,\n",
    "#                     validation_data=(X_valid, y_valid),\n",
    "#                     callbacks=[checkpoint_cb, early_stopping_cb])"
   ]
  },
  {
   "cell_type": "code",
   "execution_count": 6,
   "metadata": {
    "colab": {
     "base_uri": "https://localhost:8080/",
     "height": 208
    },
    "colab_type": "code",
    "id": "HVftN-MB5WDh",
    "outputId": "659b73f8-181d-4497-b76a-3773a6488d7f"
   },
   "outputs": [],
   "source": [
    "class PrintValTrainRatioCallback(keras.callbacks.Callback):\n",
    "  def on_epoch_end(self, epoch, logs):\n",
    "    print(\"\\nval/train: {:.2f}\".format(logs[\"val_loss\"] / logs[\"loss\"]))"
   ]
  },
  {
   "cell_type": "code",
   "execution_count": 7,
   "metadata": {
    "colab": {},
    "colab_type": "code",
    "id": "_5cv2rcD6Iaq"
   },
   "outputs": [],
   "source": [
    "import os\n",
    "root_logdir = os.path.join(os.curdir, \"my_logs\")\n",
    "\n",
    "def get_run_logdir():\n",
    "  import time\n",
    "  run_id = time.strftime(\"run_%Y_%m_%d-%H_%M_%S\")\n",
    "  return os.path.join(root_logdir,run_id)\n",
    "\n",
    "run_logdir = get_run_logdir() #예를 들면, './my_logs/run_2019_06_07-15_15_22'"
   ]
  },
  {
   "cell_type": "code",
   "execution_count": 8,
   "metadata": {
    "colab": {
     "base_uri": "https://localhost:8080/",
     "height": 35
    },
    "colab_type": "code",
    "id": "1JCcVlCh-kIH",
    "outputId": "18274c1a-4dda-4166-81ca-d7021cfee0c5"
   },
   "outputs": [
    {
     "data": {
      "text/plain": [
       "'.\\\\my_logs\\\\run_2020_06_30-02_08_49'"
      ]
     },
     "execution_count": 8,
     "metadata": {},
     "output_type": "execute_result"
    }
   ],
   "source": [
    "run_logdir"
   ]
  },
  {
   "cell_type": "code",
   "execution_count": 9,
   "metadata": {
    "colab": {},
    "colab_type": "code",
    "id": "EhsEfJ6y8YON"
   },
   "outputs": [],
   "source": [
    "# [...] # 모델 구성과 컴파일\n",
    "# tensorboard_cb = keras.callbacks.TensorBoard(run_logdir)\n",
    "# history = model.fit(X_train, y_train, epochs=30,\n",
    "#                     validation_data=(X_valid, y_valid),\n",
    "#                     callbacks=[tensorboard_cb])"
   ]
  },
  {
   "cell_type": "code",
   "execution_count": null,
   "metadata": {},
   "outputs": [],
   "source": []
  }
 ],
 "metadata": {
  "accelerator": "TPU",
  "colab": {
   "name": "ch10.ipynb",
   "provenance": []
  },
  "kernelspec": {
   "display_name": "Python 3",
   "language": "python",
   "name": "python3"
  },
  "language_info": {
   "codemirror_mode": {
    "name": "ipython",
    "version": 3
   },
   "file_extension": ".py",
   "mimetype": "text/x-python",
   "name": "python",
   "nbconvert_exporter": "python",
   "pygments_lexer": "ipython3",
   "version": "3.7.7"
  }
 },
 "nbformat": 4,
 "nbformat_minor": 1
}
